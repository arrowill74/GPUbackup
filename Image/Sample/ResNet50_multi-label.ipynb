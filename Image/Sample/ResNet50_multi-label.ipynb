{
 "cells": [
  {
   "cell_type": "code",
   "execution_count": 1,
   "metadata": {
    "scrolled": true
   },
   "outputs": [],
   "source": [
    "import os\n",
    "import sys\n",
    "import json\n",
    "import shutil\n",
    "import numpy as np\n",
    "import pandas as pd"
   ]
  },
  {
   "cell_type": "code",
   "execution_count": 2,
   "metadata": {
    "scrolled": true
   },
   "outputs": [],
   "source": [
    "# Helper function\n",
    "def writeProgress(msg, count, total):\n",
    "    sys.stdout.write(msg + \"{:.2%}\\r\".format(count/total))\n",
    "    sys.stdout.flush()\n",
    "    \n",
    "def newPath(path):\n",
    "    if not os.path.isdir(path):\n",
    "        os.mkdir(path)\n",
    "\n",
    "def read_json(src_path):\n",
    "    with open(src_path, 'r') as json_file:\n",
    "        data = json.load(json_file)\n",
    "    return data\n",
    "\n",
    "def write_json(data,dst_path):\n",
    "    with open(dst_path, 'w') as outfile:\n",
    "        json.dump(data, outfile)"
   ]
  },
  {
   "cell_type": "code",
   "execution_count": 3,
   "metadata": {
    "scrolled": true
   },
   "outputs": [
    {
     "name": "stdout",
     "output_type": "stream",
     "text": [
      "20 ['Action', 'Adventure', 'Animation', 'Biography', 'Comedy', 'Crime', 'Documentary', 'Drama', 'Family', 'Fantasy', 'History', 'Horror', 'Music', 'Mystery', 'Romance', 'Sci-Fi', 'Sport', 'Thriller', 'War', 'Western']\n"
     ]
    }
   ],
   "source": [
    "columns = read_json('../../orderedListGenres.json')\n",
    "print(len(columns), columns)"
   ]
  },
  {
   "cell_type": "code",
   "execution_count": 4,
   "metadata": {
    "scrolled": true
   },
   "outputs": [
    {
     "ename": "NameError",
     "evalue": "name 'SAVE_NAME' is not defined",
     "output_type": "error",
     "traceback": [
      "\u001b[0;31m---------------------------------------------------------------------------\u001b[0m",
      "\u001b[0;31mNameError\u001b[0m                                 Traceback (most recent call last)",
      "\u001b[0;32m<ipython-input-4-d8a2a12c28bd>\u001b[0m in \u001b[0;36m<module>\u001b[0;34m\u001b[0m\n\u001b[1;32m      1\u001b[0m \u001b[0;31m# 模型輸出儲存的檔案\u001b[0m\u001b[0;34m\u001b[0m\u001b[0;34m\u001b[0m\u001b[0;34m\u001b[0m\u001b[0m\n\u001b[1;32m      2\u001b[0m \u001b[0;31m# SAVE_NAME = 'resnet50_trainable_8e-5_starwars'\u001b[0m\u001b[0;34m\u001b[0m\u001b[0;34m\u001b[0m\u001b[0;34m\u001b[0m\u001b[0m\n\u001b[0;32m----> 3\u001b[0;31m \u001b[0mHISTORY_SAVE\u001b[0m \u001b[0;34m=\u001b[0m \u001b[0;34m'./history/'\u001b[0m \u001b[0;34m+\u001b[0m \u001b[0mSAVE_NAME\u001b[0m \u001b[0;34m+\u001b[0m \u001b[0;34m'.csv'\u001b[0m\u001b[0;34m\u001b[0m\u001b[0;34m\u001b[0m\u001b[0m\n\u001b[0m\u001b[1;32m      4\u001b[0m \u001b[0mWEIGHTS_SAVE\u001b[0m \u001b[0;34m=\u001b[0m \u001b[0;34m'./weight/'\u001b[0m \u001b[0;34m+\u001b[0m \u001b[0mSAVE_NAME\u001b[0m \u001b[0;34m+\u001b[0m \u001b[0;34m'.h5'\u001b[0m\u001b[0;34m\u001b[0m\u001b[0;34m\u001b[0m\u001b[0m\n",
      "\u001b[0;31mNameError\u001b[0m: name 'SAVE_NAME' is not defined"
     ]
    }
   ],
   "source": [
    "# 模型輸出儲存的檔案\n",
    "# SAVE_NAME = 'resnet50_trainable_8e-5_starwars'\n",
    "HISTORY_SAVE = './history/' + SAVE_NAME + '.csv'\n",
    "WEIGHTS_SAVE = './weight/' + SAVE_NAME + '.h5'"
   ]
  },
  {
   "cell_type": "markdown",
   "metadata": {},
   "source": [
    "# ResNet50 Model"
   ]
  },
  {
   "cell_type": "code",
   "execution_count": 5,
   "metadata": {
    "scrolled": true
   },
   "outputs": [
    {
     "name": "stdout",
     "output_type": "stream",
     "text": [
      "(37959, 22) (165, 22)\n"
     ]
    }
   ],
   "source": [
    "# read dataframe\n",
    "train_df = pd.read_csv('../filename2genreMat.csv')\n",
    "test_df = pd.read_csv('../poster2genreMat.csv')\n",
    "print(train_df.shape, test_df.shape)"
   ]
  },
  {
   "cell_type": "code",
   "execution_count": 6,
   "metadata": {
    "scrolled": true
   },
   "outputs": [
    {
     "name": "stdout",
     "output_type": "stream",
     "text": [
      "(30367, 22) (7592, 22)\n"
     ]
    }
   ],
   "source": [
    "valid_df = train_df.sample(frac = 0.2, random_state = 42)\n",
    "train_df = train_df.drop(valid_df.index)\n",
    "print(train_df.shape, valid_df.shape)"
   ]
  },
  {
   "cell_type": "code",
   "execution_count": 7,
   "metadata": {
    "scrolled": true
   },
   "outputs": [
    {
     "name": "stderr",
     "output_type": "stream",
     "text": [
      "Using TensorFlow backend.\n"
     ]
    }
   ],
   "source": [
    "from keras.applications import ResNet50\n",
    "from keras import models\n",
    "from keras.models import Model\n",
    "from keras.optimizers import Adam\n",
    "from keras_preprocessing.image import ImageDataGenerator\n",
    "from keras import layers\n",
    "from keras import regularizers, optimizers\n",
    "# from keras.applications.model import ResNet152"
   ]
  },
  {
   "cell_type": "code",
   "execution_count": 8,
   "metadata": {
    "scrolled": true
   },
   "outputs": [],
   "source": [
    "# 資料路徑\n",
    "DATASET_PATH  = '../IGimg'\n",
    "\n",
    "# 影像大小\n",
    "IMAGE_SIZE = (224, 224)\n",
    "\n",
    "# 影像類別數\n",
    "NUM_CLASSES = 20\n",
    "\n",
    "# 若 GPU 記憶體不足，可調降 batch size 或凍結更多層網路\n",
    "BATCH_SIZE = 32\n",
    "\n",
    "# Epoch 數\n",
    "NUM_EPOCHS = 100"
   ]
  },
  {
   "cell_type": "code",
   "execution_count": 9,
   "metadata": {
    "scrolled": true
   },
   "outputs": [
    {
     "name": "stdout",
     "output_type": "stream",
     "text": [
      "Found 30367 validated image filenames.\n",
      "Found 7592 validated image filenames.\n"
     ]
    }
   ],
   "source": [
    "datagen=ImageDataGenerator(rescale=1./255.)\n",
    "test_datagen=ImageDataGenerator(rescale=1./255.)\n",
    "\n",
    "train_generator=datagen.flow_from_dataframe(dataframe=train_df,\n",
    "                                            directory=DATASET_PATH,\n",
    "                                            x_col=\"filename\",\n",
    "                                            y_col=columns,\n",
    "                                            batch_size=BATCH_SIZE,\n",
    "                                            seed=42,\n",
    "                                            shuffle=True,\n",
    "                                            class_mode=\"other\",\n",
    "                                            target_size=IMAGE_SIZE)\n",
    "\n",
    "valid_generator=test_datagen.flow_from_dataframe(dataframe=valid_df,\n",
    "                                                 directory=DATASET_PATH,\n",
    "                                                 x_col=\"filename\",\n",
    "                                                 y_col=columns,\n",
    "                                                 batch_size=BATCH_SIZE,\n",
    "                                                 seed=42,\n",
    "                                                 shuffle=True,\n",
    "                                                 class_mode=\"other\",\n",
    "                                                 target_size=IMAGE_SIZE)"
   ]
  },
  {
   "cell_type": "markdown",
   "metadata": {},
   "source": [
    "# Fixed the last Layer from 1000 classes into N classes"
   ]
  },
  {
   "cell_type": "code",
   "execution_count": null,
   "metadata": {
    "scrolled": true
   },
   "outputs": [],
   "source": [
    "conv_base = ResNet50(weights='imagenet',\n",
    "                  include_top=False,\n",
    "                  input_shape=(IMAGE_SIZE[0],IMAGE_SIZE[1],3))\n",
    "conv_base.summary()"
   ]
  },
  {
   "cell_type": "code",
   "execution_count": null,
   "metadata": {
    "scrolled": true
   },
   "outputs": [],
   "source": [
    "model = models.Sequential()\n",
    "model.add(conv_base)        # 將卷積基底視為層加入 Sequential 模型中\n",
    "model.add(layers.AveragePooling2D(pool_size=(7, 7)))\n",
    "model.add(layers.Flatten()) # 攤平\n",
    "model.add(layers.Dense(NUM_CLASSES, activation='sigmoid')) # 增加密集層分類器\n",
    "model.summary() # 查看模型摘要"
   ]
  },
  {
   "cell_type": "code",
   "execution_count": null,
   "metadata": {
    "scrolled": true
   },
   "outputs": [],
   "source": [
    "print('This is the number of trainable weights before freezing the conv base:', len(model.trainable_weights))\n",
    "\n",
    "conv_base.trainable = True\n",
    "\n",
    "print('This is the number of trainable weights after freezing the conv base:', len(model.trainable_weights))"
   ]
  },
  {
   "cell_type": "code",
   "execution_count": null,
   "metadata": {},
   "outputs": [],
   "source": [
    "model.compile(optimizer=Adam(lr=8e-5),\n",
    "              loss='binary_crossentropy',\n",
    "              metrics=['acc'])\n",
    "model.summary()"
   ]
  },
  {
   "cell_type": "markdown",
   "metadata": {},
   "source": [
    "# Training Model"
   ]
  },
  {
   "cell_type": "code",
   "execution_count": null,
   "metadata": {
    "scrolled": true
   },
   "outputs": [],
   "source": [
    "STEP_SIZE_TRAIN = train_generator.n // train_generator.batch_size\n",
    "STEP_SIZE_VALID = valid_generator.n // valid_generator.batch_size"
   ]
  },
  {
   "cell_type": "code",
   "execution_count": null,
   "metadata": {
    "scrolled": true
   },
   "outputs": [],
   "source": [
    "# 訓練模型\n",
    "from keras.callbacks import EarlyStopping\n",
    "callbacks = [EarlyStopping(monitor='val_loss')]\n",
    "\n",
    "history = model.fit_generator(generator = train_generator,\n",
    "                              steps_per_epoch = STEP_SIZE_TRAIN,\n",
    "                              validation_data = valid_generator,\n",
    "                              validation_steps = STEP_SIZE_VALID,\n",
    "                              epochs = NUM_EPOCHS,\n",
    "                              callbacks=callbacks)"
   ]
  },
  {
   "cell_type": "code",
   "execution_count": null,
   "metadata": {
    "scrolled": true
   },
   "outputs": [],
   "source": [
    "# 儲存訓練好的模型\n",
    "model.save(WEIGHTS_SAVE)"
   ]
  },
  {
   "cell_type": "code",
   "execution_count": null,
   "metadata": {
    "scrolled": true
   },
   "outputs": [],
   "source": [
    "# save history\n",
    "acc = history.history['acc']\n",
    "val_acc = history.history['val_acc']\n",
    "loss = history.history['loss']\n",
    "val_loss = history.history['val_loss']\n",
    "epochs = range(1, len(acc) + 1)\n",
    "\n",
    "his_df = pd.DataFrame(data = {\n",
    "    'Epoch' : epochs,\n",
    "    'Loss' : loss,\n",
    "    'Acc' : acc,\n",
    "    'Val_loss' : val_loss,\n",
    "    'Val_acc' : val_acc\n",
    "})\n",
    "his_df = his_df[['Epoch', 'Loss', 'Acc', 'Val_loss', 'Val_acc']]\n",
    "his_df.to_csv(HISTORY_SAVE, index = False)"
   ]
  },
  {
   "cell_type": "markdown",
   "metadata": {},
   "source": [
    "# Plot acc & loss"
   ]
  },
  {
   "cell_type": "code",
   "execution_count": null,
   "metadata": {
    "scrolled": true
   },
   "outputs": [],
   "source": [
    "# 繪製結果\n",
    "import matplotlib.pyplot as plt\n",
    "\n",
    "plt.figure()\n",
    "\n",
    "plt.plot(epochs, acc, 'b', label='Training acc')\n",
    "plt.plot(epochs, val_acc, 'r', label='Validation acc')\n",
    "plt.title('Training and validation accuracy')\n",
    "plt.legend()\n",
    "\n",
    "plt.show()\n",
    "\n",
    "plt.figure()\n",
    "\n",
    "plt.plot(epochs, loss, 'b', label='Training loss')\n",
    "plt.plot(epochs, val_loss, 'r', label='Validation loss')\n",
    "plt.title('Training and validation loss')\n",
    "plt.legend()\n",
    "\n",
    "plt.show()"
   ]
  },
  {
   "cell_type": "markdown",
   "metadata": {},
   "source": [
    "# Testing"
   ]
  },
  {
   "cell_type": "markdown",
   "metadata": {},
   "source": [
    "### Testing set: Poster"
   ]
  },
  {
   "cell_type": "code",
   "execution_count": 10,
   "metadata": {
    "scrolled": true
   },
   "outputs": [
    {
     "ename": "NameError",
     "evalue": "name 'SAVE_NAME' is not defined",
     "output_type": "error",
     "traceback": [
      "\u001b[0;31m---------------------------------------------------------------------------\u001b[0m",
      "\u001b[0;31mNameError\u001b[0m                                 Traceback (most recent call last)",
      "\u001b[0;32m<ipython-input-10-cf553a65d6be>\u001b[0m in \u001b[0;36m<module>\u001b[0;34m\u001b[0m\n\u001b[0;32m----> 1\u001b[0;31m \u001b[0mSAVE_NAME\u001b[0m \u001b[0;34m=\u001b[0m \u001b[0mSAVE_NAME\u001b[0m \u001b[0;34m+\u001b[0m \u001b[0;34m'_poster'\u001b[0m\u001b[0;34m\u001b[0m\u001b[0;34m\u001b[0m\u001b[0m\n\u001b[0m",
      "\u001b[0;31mNameError\u001b[0m: name 'SAVE_NAME' is not defined"
     ]
    }
   ],
   "source": [
    "SAVE_NAME = SAVE_NAME + '_poster'"
   ]
  },
  {
   "cell_type": "code",
   "execution_count": 11,
   "metadata": {
    "scrolled": true
   },
   "outputs": [
    {
     "data": {
      "text/html": [
       "<div>\n",
       "<style scoped>\n",
       "    .dataframe tbody tr th:only-of-type {\n",
       "        vertical-align: middle;\n",
       "    }\n",
       "\n",
       "    .dataframe tbody tr th {\n",
       "        vertical-align: top;\n",
       "    }\n",
       "\n",
       "    .dataframe thead th {\n",
       "        text-align: right;\n",
       "    }\n",
       "</style>\n",
       "<table border=\"1\" class=\"dataframe\">\n",
       "  <thead>\n",
       "    <tr style=\"text-align: right;\">\n",
       "      <th></th>\n",
       "      <th>from</th>\n",
       "      <th>filename</th>\n",
       "      <th>Action</th>\n",
       "      <th>Adventure</th>\n",
       "      <th>Animation</th>\n",
       "      <th>Biography</th>\n",
       "      <th>Comedy</th>\n",
       "      <th>Crime</th>\n",
       "      <th>Documentary</th>\n",
       "      <th>Drama</th>\n",
       "      <th>...</th>\n",
       "      <th>History</th>\n",
       "      <th>Horror</th>\n",
       "      <th>Music</th>\n",
       "      <th>Mystery</th>\n",
       "      <th>Romance</th>\n",
       "      <th>Sci-Fi</th>\n",
       "      <th>Sport</th>\n",
       "      <th>Thriller</th>\n",
       "      <th>War</th>\n",
       "      <th>Western</th>\n",
       "    </tr>\n",
       "  </thead>\n",
       "  <tbody>\n",
       "    <tr>\n",
       "      <th>0</th>\n",
       "      <td>../Profiles_165/21bridgesmovie/poster.jpeg</td>\n",
       "      <td>21bridgesmovie.jpg</td>\n",
       "      <td>1</td>\n",
       "      <td>0</td>\n",
       "      <td>0</td>\n",
       "      <td>0</td>\n",
       "      <td>0</td>\n",
       "      <td>1</td>\n",
       "      <td>0</td>\n",
       "      <td>1</td>\n",
       "      <td>...</td>\n",
       "      <td>0</td>\n",
       "      <td>0</td>\n",
       "      <td>0</td>\n",
       "      <td>0</td>\n",
       "      <td>0</td>\n",
       "      <td>0</td>\n",
       "      <td>0</td>\n",
       "      <td>0</td>\n",
       "      <td>0</td>\n",
       "      <td>0</td>\n",
       "    </tr>\n",
       "    <tr>\n",
       "      <th>1</th>\n",
       "      <td>../Profiles_165/47metersdown/poster.jpeg</td>\n",
       "      <td>47metersdown.jpg</td>\n",
       "      <td>0</td>\n",
       "      <td>1</td>\n",
       "      <td>0</td>\n",
       "      <td>0</td>\n",
       "      <td>0</td>\n",
       "      <td>0</td>\n",
       "      <td>0</td>\n",
       "      <td>1</td>\n",
       "      <td>...</td>\n",
       "      <td>0</td>\n",
       "      <td>1</td>\n",
       "      <td>0</td>\n",
       "      <td>0</td>\n",
       "      <td>0</td>\n",
       "      <td>0</td>\n",
       "      <td>0</td>\n",
       "      <td>0</td>\n",
       "      <td>0</td>\n",
       "      <td>0</td>\n",
       "    </tr>\n",
       "    <tr>\n",
       "      <th>2</th>\n",
       "      <td>../Profiles_165/abeautifuldaymovie/poster.jpeg</td>\n",
       "      <td>abeautifuldaymovie.jpg</td>\n",
       "      <td>0</td>\n",
       "      <td>0</td>\n",
       "      <td>0</td>\n",
       "      <td>1</td>\n",
       "      <td>0</td>\n",
       "      <td>0</td>\n",
       "      <td>0</td>\n",
       "      <td>1</td>\n",
       "      <td>...</td>\n",
       "      <td>0</td>\n",
       "      <td>0</td>\n",
       "      <td>0</td>\n",
       "      <td>0</td>\n",
       "      <td>0</td>\n",
       "      <td>0</td>\n",
       "      <td>0</td>\n",
       "      <td>0</td>\n",
       "      <td>0</td>\n",
       "      <td>0</td>\n",
       "    </tr>\n",
       "    <tr>\n",
       "      <th>3</th>\n",
       "      <td>../Profiles_165/abominablemovie/poster.jpeg</td>\n",
       "      <td>abominablemovie.jpg</td>\n",
       "      <td>0</td>\n",
       "      <td>1</td>\n",
       "      <td>1</td>\n",
       "      <td>0</td>\n",
       "      <td>1</td>\n",
       "      <td>0</td>\n",
       "      <td>0</td>\n",
       "      <td>0</td>\n",
       "      <td>...</td>\n",
       "      <td>0</td>\n",
       "      <td>0</td>\n",
       "      <td>0</td>\n",
       "      <td>0</td>\n",
       "      <td>0</td>\n",
       "      <td>0</td>\n",
       "      <td>0</td>\n",
       "      <td>0</td>\n",
       "      <td>0</td>\n",
       "      <td>0</td>\n",
       "    </tr>\n",
       "    <tr>\n",
       "      <th>4</th>\n",
       "      <td>../Profiles_165/adastramovie/poster.jpeg</td>\n",
       "      <td>adastramovie.jpg</td>\n",
       "      <td>0</td>\n",
       "      <td>1</td>\n",
       "      <td>0</td>\n",
       "      <td>0</td>\n",
       "      <td>0</td>\n",
       "      <td>0</td>\n",
       "      <td>0</td>\n",
       "      <td>1</td>\n",
       "      <td>...</td>\n",
       "      <td>0</td>\n",
       "      <td>0</td>\n",
       "      <td>0</td>\n",
       "      <td>1</td>\n",
       "      <td>0</td>\n",
       "      <td>0</td>\n",
       "      <td>0</td>\n",
       "      <td>0</td>\n",
       "      <td>0</td>\n",
       "      <td>0</td>\n",
       "    </tr>\n",
       "    <tr>\n",
       "      <th>...</th>\n",
       "      <td>...</td>\n",
       "      <td>...</td>\n",
       "      <td>...</td>\n",
       "      <td>...</td>\n",
       "      <td>...</td>\n",
       "      <td>...</td>\n",
       "      <td>...</td>\n",
       "      <td>...</td>\n",
       "      <td>...</td>\n",
       "      <td>...</td>\n",
       "      <td>...</td>\n",
       "      <td>...</td>\n",
       "      <td>...</td>\n",
       "      <td>...</td>\n",
       "      <td>...</td>\n",
       "      <td>...</td>\n",
       "      <td>...</td>\n",
       "      <td>...</td>\n",
       "      <td>...</td>\n",
       "      <td>...</td>\n",
       "      <td>...</td>\n",
       "    </tr>\n",
       "    <tr>\n",
       "      <th>160</th>\n",
       "      <td>../Profiles_165/wrinklestheclown/poster.jpeg</td>\n",
       "      <td>wrinklestheclown.jpg</td>\n",
       "      <td>0</td>\n",
       "      <td>0</td>\n",
       "      <td>0</td>\n",
       "      <td>0</td>\n",
       "      <td>1</td>\n",
       "      <td>0</td>\n",
       "      <td>1</td>\n",
       "      <td>0</td>\n",
       "      <td>...</td>\n",
       "      <td>0</td>\n",
       "      <td>1</td>\n",
       "      <td>0</td>\n",
       "      <td>0</td>\n",
       "      <td>0</td>\n",
       "      <td>0</td>\n",
       "      <td>0</td>\n",
       "      <td>0</td>\n",
       "      <td>0</td>\n",
       "      <td>0</td>\n",
       "    </tr>\n",
       "    <tr>\n",
       "      <th>161</th>\n",
       "      <td>../Profiles_165/xmenmovies/poster.jpeg</td>\n",
       "      <td>xmenmovies.jpg</td>\n",
       "      <td>1</td>\n",
       "      <td>1</td>\n",
       "      <td>0</td>\n",
       "      <td>0</td>\n",
       "      <td>0</td>\n",
       "      <td>0</td>\n",
       "      <td>0</td>\n",
       "      <td>0</td>\n",
       "      <td>...</td>\n",
       "      <td>0</td>\n",
       "      <td>0</td>\n",
       "      <td>0</td>\n",
       "      <td>0</td>\n",
       "      <td>0</td>\n",
       "      <td>1</td>\n",
       "      <td>0</td>\n",
       "      <td>0</td>\n",
       "      <td>0</td>\n",
       "      <td>0</td>\n",
       "    </tr>\n",
       "    <tr>\n",
       "      <th>162</th>\n",
       "      <td>../Profiles_165/yardiefilm/poster.jpeg</td>\n",
       "      <td>yardiefilm.jpg</td>\n",
       "      <td>0</td>\n",
       "      <td>0</td>\n",
       "      <td>0</td>\n",
       "      <td>0</td>\n",
       "      <td>0</td>\n",
       "      <td>1</td>\n",
       "      <td>0</td>\n",
       "      <td>1</td>\n",
       "      <td>...</td>\n",
       "      <td>0</td>\n",
       "      <td>0</td>\n",
       "      <td>0</td>\n",
       "      <td>0</td>\n",
       "      <td>0</td>\n",
       "      <td>0</td>\n",
       "      <td>0</td>\n",
       "      <td>0</td>\n",
       "      <td>0</td>\n",
       "      <td>0</td>\n",
       "    </tr>\n",
       "    <tr>\n",
       "      <th>163</th>\n",
       "      <td>../Profiles_165/yesterdaymovie/poster.jpeg</td>\n",
       "      <td>yesterdaymovie.jpg</td>\n",
       "      <td>0</td>\n",
       "      <td>0</td>\n",
       "      <td>0</td>\n",
       "      <td>0</td>\n",
       "      <td>1</td>\n",
       "      <td>0</td>\n",
       "      <td>0</td>\n",
       "      <td>0</td>\n",
       "      <td>...</td>\n",
       "      <td>0</td>\n",
       "      <td>0</td>\n",
       "      <td>1</td>\n",
       "      <td>0</td>\n",
       "      <td>0</td>\n",
       "      <td>0</td>\n",
       "      <td>0</td>\n",
       "      <td>0</td>\n",
       "      <td>0</td>\n",
       "      <td>0</td>\n",
       "    </tr>\n",
       "    <tr>\n",
       "      <th>164</th>\n",
       "      <td>../Profiles_165/zombieland/poster.jpeg</td>\n",
       "      <td>zombieland.jpg</td>\n",
       "      <td>1</td>\n",
       "      <td>0</td>\n",
       "      <td>0</td>\n",
       "      <td>0</td>\n",
       "      <td>1</td>\n",
       "      <td>0</td>\n",
       "      <td>0</td>\n",
       "      <td>0</td>\n",
       "      <td>...</td>\n",
       "      <td>0</td>\n",
       "      <td>1</td>\n",
       "      <td>0</td>\n",
       "      <td>0</td>\n",
       "      <td>0</td>\n",
       "      <td>0</td>\n",
       "      <td>0</td>\n",
       "      <td>0</td>\n",
       "      <td>0</td>\n",
       "      <td>0</td>\n",
       "    </tr>\n",
       "  </tbody>\n",
       "</table>\n",
       "<p>165 rows × 22 columns</p>\n",
       "</div>"
      ],
      "text/plain": [
       "                                               from                filename  \\\n",
       "0        ../Profiles_165/21bridgesmovie/poster.jpeg      21bridgesmovie.jpg   \n",
       "1          ../Profiles_165/47metersdown/poster.jpeg        47metersdown.jpg   \n",
       "2    ../Profiles_165/abeautifuldaymovie/poster.jpeg  abeautifuldaymovie.jpg   \n",
       "3       ../Profiles_165/abominablemovie/poster.jpeg     abominablemovie.jpg   \n",
       "4          ../Profiles_165/adastramovie/poster.jpeg        adastramovie.jpg   \n",
       "..                                              ...                     ...   \n",
       "160    ../Profiles_165/wrinklestheclown/poster.jpeg    wrinklestheclown.jpg   \n",
       "161          ../Profiles_165/xmenmovies/poster.jpeg          xmenmovies.jpg   \n",
       "162          ../Profiles_165/yardiefilm/poster.jpeg          yardiefilm.jpg   \n",
       "163      ../Profiles_165/yesterdaymovie/poster.jpeg      yesterdaymovie.jpg   \n",
       "164          ../Profiles_165/zombieland/poster.jpeg          zombieland.jpg   \n",
       "\n",
       "     Action  Adventure  Animation  Biography  Comedy  Crime  Documentary  \\\n",
       "0         1          0          0          0       0      1            0   \n",
       "1         0          1          0          0       0      0            0   \n",
       "2         0          0          0          1       0      0            0   \n",
       "3         0          1          1          0       1      0            0   \n",
       "4         0          1          0          0       0      0            0   \n",
       "..      ...        ...        ...        ...     ...    ...          ...   \n",
       "160       0          0          0          0       1      0            1   \n",
       "161       1          1          0          0       0      0            0   \n",
       "162       0          0          0          0       0      1            0   \n",
       "163       0          0          0          0       1      0            0   \n",
       "164       1          0          0          0       1      0            0   \n",
       "\n",
       "     Drama  ...  History  Horror  Music  Mystery  Romance  Sci-Fi  Sport  \\\n",
       "0        1  ...        0       0      0        0        0       0      0   \n",
       "1        1  ...        0       1      0        0        0       0      0   \n",
       "2        1  ...        0       0      0        0        0       0      0   \n",
       "3        0  ...        0       0      0        0        0       0      0   \n",
       "4        1  ...        0       0      0        1        0       0      0   \n",
       "..     ...  ...      ...     ...    ...      ...      ...     ...    ...   \n",
       "160      0  ...        0       1      0        0        0       0      0   \n",
       "161      0  ...        0       0      0        0        0       1      0   \n",
       "162      1  ...        0       0      0        0        0       0      0   \n",
       "163      0  ...        0       0      1        0        0       0      0   \n",
       "164      0  ...        0       1      0        0        0       0      0   \n",
       "\n",
       "     Thriller  War  Western  \n",
       "0           0    0        0  \n",
       "1           0    0        0  \n",
       "2           0    0        0  \n",
       "3           0    0        0  \n",
       "4           0    0        0  \n",
       "..        ...  ...      ...  \n",
       "160         0    0        0  \n",
       "161         0    0        0  \n",
       "162         0    0        0  \n",
       "163         0    0        0  \n",
       "164         0    0        0  \n",
       "\n",
       "[165 rows x 22 columns]"
      ]
     },
     "execution_count": 11,
     "metadata": {},
     "output_type": "execute_result"
    }
   ],
   "source": [
    "test_df = pd.read_csv('../poster2genreMat.csv')\n",
    "test_df"
   ]
  },
  {
   "cell_type": "code",
   "execution_count": 12,
   "metadata": {
    "scrolled": true
   },
   "outputs": [],
   "source": [
    "DATASET_PATH = '../Poster'"
   ]
  },
  {
   "cell_type": "code",
   "execution_count": 13,
   "metadata": {
    "scrolled": true
   },
   "outputs": [
    {
     "name": "stdout",
     "output_type": "stream",
     "text": [
      "Found 165 validated image filenames.\n"
     ]
    }
   ],
   "source": [
    "test_generator=test_datagen.flow_from_dataframe(dataframe=test_df,\n",
    "                                                directory=DATASET_PATH,\n",
    "                                                x_col=\"filename\",\n",
    "                                                batch_size=1,\n",
    "                                                seed=42,\n",
    "                                                shuffle=False,\n",
    "                                                class_mode=None,\n",
    "                                                target_size=IMAGE_SIZE)"
   ]
  },
  {
   "cell_type": "code",
   "execution_count": 14,
   "metadata": {
    "scrolled": true
   },
   "outputs": [],
   "source": [
    "STEP_SIZE_TEST = test_generator.n // test_generator.batch_size"
   ]
  },
  {
   "cell_type": "code",
   "execution_count": 15,
   "metadata": {
    "scrolled": true
   },
   "outputs": [
    {
     "ename": "NameError",
     "evalue": "name 'model' is not defined",
     "output_type": "error",
     "traceback": [
      "\u001b[0;31m---------------------------------------------------------------------------\u001b[0m",
      "\u001b[0;31mNameError\u001b[0m                                 Traceback (most recent call last)",
      "\u001b[0;32m<ipython-input-15-bf9caed9cb58>\u001b[0m in \u001b[0;36m<module>\u001b[0;34m\u001b[0m\n\u001b[1;32m      1\u001b[0m \u001b[0mtest_generator\u001b[0m\u001b[0;34m.\u001b[0m\u001b[0mreset\u001b[0m\u001b[0;34m(\u001b[0m\u001b[0;34m)\u001b[0m\u001b[0;34m\u001b[0m\u001b[0;34m\u001b[0m\u001b[0m\n\u001b[0;32m----> 2\u001b[0;31m pred=model.predict_generator(test_generator,\n\u001b[0m\u001b[1;32m      3\u001b[0m                              \u001b[0msteps\u001b[0m\u001b[0;34m=\u001b[0m\u001b[0mSTEP_SIZE_TEST\u001b[0m\u001b[0;34m,\u001b[0m\u001b[0;34m\u001b[0m\u001b[0;34m\u001b[0m\u001b[0m\n\u001b[1;32m      4\u001b[0m                              verbose=1)\n",
      "\u001b[0;31mNameError\u001b[0m: name 'model' is not defined"
     ]
    }
   ],
   "source": [
    "test_generator.reset()\n",
    "pred=model.predict_generator(test_generator,\n",
    "                             steps=STEP_SIZE_TEST,\n",
    "                             verbose=1)"
   ]
  },
  {
   "cell_type": "markdown",
   "metadata": {},
   "source": [
    "# Output"
   ]
  },
  {
   "cell_type": "code",
   "execution_count": null,
   "metadata": {
    "scrolled": true
   },
   "outputs": [],
   "source": [
    "pred.shape"
   ]
  },
  {
   "cell_type": "code",
   "execution_count": null,
   "metadata": {
    "scrolled": true
   },
   "outputs": [],
   "source": [
    "predictions = pred\n",
    "\n",
    "results=pd.DataFrame(predictions, columns=columns)\n",
    "results[\"filename\"] = test_generator.filenames\n",
    "ordered_cols = [\"filename\"] + columns\n",
    "results = results[ordered_cols] #To get the same column order\n",
    "results.to_csv(\"./output/\"+ SAVE_NAME + \"_result.csv\",index=False)"
   ]
  },
  {
   "cell_type": "markdown",
   "metadata": {},
   "source": [
    "## Label top n dynamic"
   ]
  },
  {
   "cell_type": "code",
   "execution_count": null,
   "metadata": {
    "scrolled": true
   },
   "outputs": [],
   "source": [
    "true_df = test_df"
   ]
  },
  {
   "cell_type": "code",
   "execution_count": null,
   "metadata": {
    "scrolled": true
   },
   "outputs": [],
   "source": [
    "results = pd.read_csv(\"./output/\"+ SAVE_NAME + \"_result.csv\")\n",
    "results"
   ]
  },
  {
   "cell_type": "code",
   "execution_count": null,
   "metadata": {
    "scrolled": true
   },
   "outputs": [],
   "source": [
    "labels = read_json('../../genresDic.json')"
   ]
  },
  {
   "cell_type": "code",
   "execution_count": null,
   "metadata": {
    "scrolled": true
   },
   "outputs": [],
   "source": [
    "def countAcc(predList, trueList):\n",
    "    fraction = 0\n",
    "    denominator = len(trueList)\n",
    "    for g in predList:\n",
    "        if g in trueList:\n",
    "            fraction += 1 \n",
    "    return fraction / denominator"
   ]
  },
  {
   "cell_type": "code",
   "execution_count": null,
   "metadata": {
    "scrolled": true
   },
   "outputs": [],
   "source": [
    "li = []\n",
    "for i, row in true_df.iterrows():\n",
    "    username = row['filename']\n",
    "    if username == results.loc[i,:]['filename']: # username equals\n",
    "        print(i, username)\n",
    "        accname = username.split('.')[0]\n",
    "        truth = labels[accname]\n",
    "        numTrue = sum(row[2:])\n",
    "        print('count:', numTrue)\n",
    "        \n",
    "        s = results.loc[i,:][1:]\n",
    "        top_n = s.sort_values(ascending=False)[:numTrue]\n",
    "        inList = list(top_n.index)\n",
    "        \n",
    "        onehot = []\n",
    "        for g in columns:\n",
    "            onehot.append(int(g in inList))\n",
    "            \n",
    "        accu = countAcc(inList, truth)\n",
    "        print(accu, inList, truth)\n",
    "        \n",
    "        appList = [username, accu, truth, inList] + onehot\n",
    "        li.append(appList)\n",
    "        "
   ]
  },
  {
   "cell_type": "code",
   "execution_count": null,
   "metadata": {
    "scrolled": true
   },
   "outputs": [],
   "source": [
    "acc_df = pd.DataFrame(li, columns = ['username', 'acc', 'truth', 'top_n'] + columns)\n",
    "acc_df"
   ]
  },
  {
   "cell_type": "code",
   "execution_count": null,
   "metadata": {
    "scrolled": true
   },
   "outputs": [],
   "source": [
    "acc_df.to_csv(\"./output/\"+ SAVE_NAME + \"_bi.csv\", index = 0)"
   ]
  },
  {
   "cell_type": "code",
   "execution_count": null,
   "metadata": {
    "scrolled": true
   },
   "outputs": [],
   "source": [
    "acc_df['acc'].mean()"
   ]
  },
  {
   "cell_type": "markdown",
   "metadata": {},
   "source": [
    "# Feature Extraction\n",
    "## 測試reload model準確度"
   ]
  },
  {
   "cell_type": "code",
   "execution_count": 16,
   "metadata": {
    "scrolled": true
   },
   "outputs": [],
   "source": [
    "SAVE_NAME = 'test'\n",
    "DATASET_PATH = '../Poster'"
   ]
  },
  {
   "cell_type": "code",
   "execution_count": 17,
   "metadata": {
    "scrolled": true
   },
   "outputs": [
    {
     "name": "stdout",
     "output_type": "stream",
     "text": [
      "WARNING:tensorflow:From /home/tonylab/miniconda3/envs/tf/lib/python3.6/site-packages/tensorflow/python/ops/resource_variable_ops.py:435: colocate_with (from tensorflow.python.framework.ops) is deprecated and will be removed in a future version.\n",
      "Instructions for updating:\n",
      "Colocations handled automatically by placer.\n",
      "WARNING:tensorflow:From /home/tonylab/miniconda3/envs/tf/lib/python3.6/site-packages/tensorflow/python/ops/math_ops.py:3066: to_int32 (from tensorflow.python.ops.math_ops) is deprecated and will be removed in a future version.\n",
      "Instructions for updating:\n",
      "Use tf.cast instead.\n"
     ]
    }
   ],
   "source": [
    "WEIGHTS_LOAD = './weight/resnet50_trainable_9e-5_starwars.h5'\n",
    "\n",
    "from keras.models import load_model\n",
    "\n",
    "model = load_model(WEIGHTS_LOAD)"
   ]
  },
  {
   "cell_type": "code",
   "execution_count": 31,
   "metadata": {},
   "outputs": [
    {
     "name": "stdout",
     "output_type": "stream",
     "text": [
      "['resnet50_trainable_2e_alltraining.h5', 'resnet50_trainable_5e-4_alltraining.h5', 'resnet50_trainable_8e-5_starwars.h5', 'resnet50_trainable_9e-5_alltraining.h5', 'resnet50_trainable_9e-5_starwars.h5', 'resnet50_trainable_2e_100training.h5', 'resnet50_trainable_9e-5_newdata.h5', 'resnet50_trainable_1e-4_alltraining.h5', 'resnet50_trainable_5e-5_starwars.h5', 'resnet50_trainable_9e_alltraining.h5', 'resnet50.h5', 'resnet50_trainable_7e-5_starwars.h5', 'resnet50_trainable_3e-5_starwars.h5', 'resnet50_trainable_1e-4_starwars.h5', 'resnet50_trainable_3e-4_alltraining.h5', 'resnet50_trainable_9e-5_alltraining_.h5', 'resnet50_trainable_1e_alltraining.h5', 'resnet50_trainable_5e_alltraining.h5', 'resnet50_trainable_7e_alltraining.h5', 'resnet50_trainable_2e_500training.h5', 'resnet50_trainable_3e_alltraining.h5', 'resnet50_trainable_2e.h5']\n"
     ]
    }
   ],
   "source": [
    "# reload weights\n",
    "NAMES = os.listdir('./weight/')\n",
    "print(NAMES)"
   ]
  },
  {
   "cell_type": "code",
   "execution_count": 34,
   "metadata": {
    "scrolled": false
   },
   "outputs": [
    {
     "name": "stdout",
     "output_type": "stream",
     "text": [
      "resnet50_trainable_2e_alltraining.h5\n",
      "Found 165 validated image filenames.\n",
      "165/165 [==============================] - 15s 92ms/step\n",
      "0.5040404040404041\n",
      "resnet50_trainable_5e-4_alltraining.h5\n",
      "Found 165 validated image filenames.\n",
      "165/165 [==============================] - 18s 108ms/step\n",
      "0.47979797979797983\n",
      "resnet50_trainable_8e-5_starwars.h5\n",
      "Found 165 validated image filenames.\n",
      "165/165 [==============================] - 21s 128ms/step\n",
      "0.6939393939393942\n",
      "resnet50_trainable_9e-5_alltraining.h5\n",
      "Found 165 validated image filenames.\n",
      "165/165 [==============================] - 24s 145ms/step\n",
      "0.6555555555555553\n",
      "resnet50_trainable_9e-5_starwars.h5\n",
      "Found 165 validated image filenames.\n",
      "165/165 [==============================] - 29s 176ms/step\n",
      "0.7181818181818185\n",
      "resnet50_trainable_2e_100training.h5\n",
      "Found 165 validated image filenames.\n",
      "165/165 [==============================] - 33s 201ms/step\n",
      "0.3797979797979798\n",
      "resnet50_trainable_9e-5_newdata.h5\n",
      "Found 165 validated image filenames.\n",
      "165/165 [==============================] - 37s 224ms/step\n",
      "0.7323232323232327\n",
      "resnet50_trainable_1e-4_alltraining.h5\n",
      "Found 165 validated image filenames.\n",
      "165/165 [==============================] - 44s 264ms/step\n",
      "0.6101010101010103\n",
      "resnet50_trainable_5e-5_starwars.h5\n",
      "Found 165 validated image filenames.\n",
      "165/165 [==============================] - 49s 297ms/step\n",
      "0.6848484848484849\n",
      "resnet50_trainable_9e_alltraining.h5\n",
      "Found 165 validated image filenames.\n",
      "165/165 [==============================] - 56s 340ms/step\n",
      "0.6292929292929293\n",
      "resnet50.h5\n"
     ]
    },
    {
     "name": "stderr",
     "output_type": "stream",
     "text": [
      "/home/tonylab/miniconda3/envs/tf/lib/python3.6/site-packages/keras/engine/saving.py:384: UserWarning: Error in loading the saved optimizer state. As a result, your model is starting with a freshly initialized optimizer.\n",
      "  warnings.warn('Error in loading the saved optimizer '\n"
     ]
    },
    {
     "name": "stdout",
     "output_type": "stream",
     "text": [
      "Found 165 validated image filenames.\n",
      "165/165 [==============================] - 61s 368ms/step\n",
      "0.15252525252525248\n",
      "resnet50_trainable_7e-5_starwars.h5\n",
      "Found 165 validated image filenames.\n",
      "165/165 [==============================] - 69s 420ms/step\n",
      "0.7111111111111115\n",
      "resnet50_trainable_3e-5_starwars.h5\n",
      "Found 165 validated image filenames.\n",
      "165/165 [==============================] - 78s 474ms/step\n",
      "0.6343434343434344\n",
      "resnet50_trainable_1e-4_starwars.h5\n",
      "Found 165 validated image filenames.\n",
      "165/165 [==============================] - 94s 569ms/step\n",
      "0.6969696969696971\n",
      "resnet50_trainable_3e-4_alltraining.h5\n",
      "Found 165 validated image filenames.\n",
      "165/165 [==============================] - 106s 643ms/step\n",
      "0.428282828282828\n",
      "resnet50_trainable_9e-5_alltraining_.h5\n",
      "Found 165 validated image filenames.\n",
      "165/165 [==============================] - 121s 735ms/step\n",
      "0.5737373737373738\n",
      "resnet50_trainable_1e_alltraining.h5\n",
      "Found 165 validated image filenames.\n",
      "165/165 [==============================] - 133s 807ms/step\n",
      "0.501010101010101\n",
      "resnet50_trainable_5e_alltraining.h5\n",
      "Found 165 validated image filenames.\n",
      "165/165 [==============================] - 156s 945ms/step\n",
      "0.5474747474747476\n",
      "resnet50_trainable_7e_alltraining.h5\n",
      "Found 165 validated image filenames.\n",
      "165/165 [==============================] - 168s 1s/step\n",
      "0.6070707070707072\n",
      "resnet50_trainable_2e_500training.h5\n",
      "Found 165 validated image filenames.\n",
      "165/165 [==============================] - 189s 1s/step\n",
      "0.5010101010101009\n",
      "resnet50_trainable_3e_alltraining.h5\n",
      "Found 165 validated image filenames.\n",
      "165/165 [==============================] - 225s 1s/step\n",
      "0.5494949494949497\n",
      "resnet50_trainable_2e.h5\n",
      "Found 165 validated image filenames.\n",
      "165/165 [==============================] - 246s 1s/step\n",
      "0.4717171717171714\n"
     ]
    }
   ],
   "source": [
    "# reload weights\n",
    "for NAME in NAMES:\n",
    "    print(NAME)\n",
    "    WEIGHTS_LOAD = './weight/' + NAME\n",
    "    model = load_model(WEIGHTS_LOAD)\n",
    "    test_generator=test_datagen.flow_from_dataframe(dataframe=test_df,\n",
    "                                                    directory=DATASET_PATH,\n",
    "                                                    x_col=\"filename\",\n",
    "                                                    batch_size=1,\n",
    "                                                    seed=42,\n",
    "                                                    shuffle=False,\n",
    "                                                    class_mode=None,\n",
    "                                                    target_size=IMAGE_SIZE)\n",
    "    \n",
    "    STEP_SIZE_TEST = test_generator.n // test_generator.batch_size\n",
    "    test_generator.reset()\n",
    "    pred=model.predict_generator(test_generator,\n",
    "                                 steps=STEP_SIZE_TEST,\n",
    "                                 verbose=1)\n",
    "    \n",
    "    predictions = pred\n",
    "\n",
    "    results=pd.DataFrame(predictions, columns=columns)\n",
    "    results[\"filename\"] = test_generator.filenames\n",
    "    ordered_cols = [\"filename\"] + columns\n",
    "    results = results[ordered_cols] #To get the same column order\n",
    "    # results.to_csv(\"./output/\"+ SAVE_NAME + \"_result.csv\",index=False)\n",
    "\n",
    "    li = []\n",
    "    for i, row in true_df.iterrows():\n",
    "        username = row['filename']\n",
    "        if username == results.loc[i,:]['filename']: # username equals\n",
    "#             print(i, username)\n",
    "            accname = username.split('.')[0]\n",
    "            truth = labels[accname]\n",
    "            numTrue = sum(row[2:])\n",
    "#             print('count:', numTrue)\n",
    "\n",
    "            s = results.loc[i,:][1:]\n",
    "            top_n = s.sort_values(ascending=False)[:numTrue]\n",
    "            inList = list(top_n.index)\n",
    "\n",
    "            onehot = []\n",
    "            for g in columns:\n",
    "                onehot.append(int(g in inList))\n",
    "\n",
    "            accu = countAcc(inList, truth)\n",
    "#             print(accu, inList, truth)\n",
    "\n",
    "            appList = [username, accu, truth, inList] + onehot\n",
    "            li.append(appList)\n",
    "            \n",
    "    acc_df = pd.DataFrame(li, columns = ['username', 'acc', 'truth', 'top_n'] + columns)\n",
    "    print(acc_df['acc'].mean())"
   ]
  },
  {
   "cell_type": "code",
   "execution_count": 18,
   "metadata": {
    "scrolled": true
   },
   "outputs": [
    {
     "name": "stdout",
     "output_type": "stream",
     "text": [
      "Model: \"sequential_1\"\n",
      "_________________________________________________________________\n",
      "Layer (type)                 Output Shape              Param #   \n",
      "=================================================================\n",
      "resnet50 (Model)             (None, 7, 7, 2048)        23587712  \n",
      "_________________________________________________________________\n",
      "average_pooling2d_1 (Average (None, 1, 1, 2048)        0         \n",
      "_________________________________________________________________\n",
      "flatten_1 (Flatten)          (None, 2048)              0         \n",
      "_________________________________________________________________\n",
      "dense_1 (Dense)              (None, 20)                40980     \n",
      "=================================================================\n",
      "Total params: 23,628,692\n",
      "Trainable params: 23,575,572\n",
      "Non-trainable params: 53,120\n",
      "_________________________________________________________________\n"
     ]
    }
   ],
   "source": [
    "model.summary()"
   ]
  },
  {
   "cell_type": "code",
   "execution_count": 19,
   "metadata": {
    "scrolled": true
   },
   "outputs": [
    {
     "data": {
      "text/html": [
       "<div>\n",
       "<style scoped>\n",
       "    .dataframe tbody tr th:only-of-type {\n",
       "        vertical-align: middle;\n",
       "    }\n",
       "\n",
       "    .dataframe tbody tr th {\n",
       "        vertical-align: top;\n",
       "    }\n",
       "\n",
       "    .dataframe thead th {\n",
       "        text-align: right;\n",
       "    }\n",
       "</style>\n",
       "<table border=\"1\" class=\"dataframe\">\n",
       "  <thead>\n",
       "    <tr style=\"text-align: right;\">\n",
       "      <th></th>\n",
       "      <th>from</th>\n",
       "      <th>filename</th>\n",
       "      <th>Action</th>\n",
       "      <th>Adventure</th>\n",
       "      <th>Animation</th>\n",
       "      <th>Biography</th>\n",
       "      <th>Comedy</th>\n",
       "      <th>Crime</th>\n",
       "      <th>Documentary</th>\n",
       "      <th>Drama</th>\n",
       "      <th>...</th>\n",
       "      <th>History</th>\n",
       "      <th>Horror</th>\n",
       "      <th>Music</th>\n",
       "      <th>Mystery</th>\n",
       "      <th>Romance</th>\n",
       "      <th>Sci-Fi</th>\n",
       "      <th>Sport</th>\n",
       "      <th>Thriller</th>\n",
       "      <th>War</th>\n",
       "      <th>Western</th>\n",
       "    </tr>\n",
       "  </thead>\n",
       "  <tbody>\n",
       "    <tr>\n",
       "      <th>0</th>\n",
       "      <td>../Profiles_165/21bridgesmovie/poster.jpeg</td>\n",
       "      <td>21bridgesmovie.jpg</td>\n",
       "      <td>1</td>\n",
       "      <td>0</td>\n",
       "      <td>0</td>\n",
       "      <td>0</td>\n",
       "      <td>0</td>\n",
       "      <td>1</td>\n",
       "      <td>0</td>\n",
       "      <td>1</td>\n",
       "      <td>...</td>\n",
       "      <td>0</td>\n",
       "      <td>0</td>\n",
       "      <td>0</td>\n",
       "      <td>0</td>\n",
       "      <td>0</td>\n",
       "      <td>0</td>\n",
       "      <td>0</td>\n",
       "      <td>0</td>\n",
       "      <td>0</td>\n",
       "      <td>0</td>\n",
       "    </tr>\n",
       "    <tr>\n",
       "      <th>1</th>\n",
       "      <td>../Profiles_165/47metersdown/poster.jpeg</td>\n",
       "      <td>47metersdown.jpg</td>\n",
       "      <td>0</td>\n",
       "      <td>1</td>\n",
       "      <td>0</td>\n",
       "      <td>0</td>\n",
       "      <td>0</td>\n",
       "      <td>0</td>\n",
       "      <td>0</td>\n",
       "      <td>1</td>\n",
       "      <td>...</td>\n",
       "      <td>0</td>\n",
       "      <td>1</td>\n",
       "      <td>0</td>\n",
       "      <td>0</td>\n",
       "      <td>0</td>\n",
       "      <td>0</td>\n",
       "      <td>0</td>\n",
       "      <td>0</td>\n",
       "      <td>0</td>\n",
       "      <td>0</td>\n",
       "    </tr>\n",
       "    <tr>\n",
       "      <th>2</th>\n",
       "      <td>../Profiles_165/abeautifuldaymovie/poster.jpeg</td>\n",
       "      <td>abeautifuldaymovie.jpg</td>\n",
       "      <td>0</td>\n",
       "      <td>0</td>\n",
       "      <td>0</td>\n",
       "      <td>1</td>\n",
       "      <td>0</td>\n",
       "      <td>0</td>\n",
       "      <td>0</td>\n",
       "      <td>1</td>\n",
       "      <td>...</td>\n",
       "      <td>0</td>\n",
       "      <td>0</td>\n",
       "      <td>0</td>\n",
       "      <td>0</td>\n",
       "      <td>0</td>\n",
       "      <td>0</td>\n",
       "      <td>0</td>\n",
       "      <td>0</td>\n",
       "      <td>0</td>\n",
       "      <td>0</td>\n",
       "    </tr>\n",
       "    <tr>\n",
       "      <th>3</th>\n",
       "      <td>../Profiles_165/abominablemovie/poster.jpeg</td>\n",
       "      <td>abominablemovie.jpg</td>\n",
       "      <td>0</td>\n",
       "      <td>1</td>\n",
       "      <td>1</td>\n",
       "      <td>0</td>\n",
       "      <td>1</td>\n",
       "      <td>0</td>\n",
       "      <td>0</td>\n",
       "      <td>0</td>\n",
       "      <td>...</td>\n",
       "      <td>0</td>\n",
       "      <td>0</td>\n",
       "      <td>0</td>\n",
       "      <td>0</td>\n",
       "      <td>0</td>\n",
       "      <td>0</td>\n",
       "      <td>0</td>\n",
       "      <td>0</td>\n",
       "      <td>0</td>\n",
       "      <td>0</td>\n",
       "    </tr>\n",
       "    <tr>\n",
       "      <th>4</th>\n",
       "      <td>../Profiles_165/adastramovie/poster.jpeg</td>\n",
       "      <td>adastramovie.jpg</td>\n",
       "      <td>0</td>\n",
       "      <td>1</td>\n",
       "      <td>0</td>\n",
       "      <td>0</td>\n",
       "      <td>0</td>\n",
       "      <td>0</td>\n",
       "      <td>0</td>\n",
       "      <td>1</td>\n",
       "      <td>...</td>\n",
       "      <td>0</td>\n",
       "      <td>0</td>\n",
       "      <td>0</td>\n",
       "      <td>1</td>\n",
       "      <td>0</td>\n",
       "      <td>0</td>\n",
       "      <td>0</td>\n",
       "      <td>0</td>\n",
       "      <td>0</td>\n",
       "      <td>0</td>\n",
       "    </tr>\n",
       "    <tr>\n",
       "      <th>...</th>\n",
       "      <td>...</td>\n",
       "      <td>...</td>\n",
       "      <td>...</td>\n",
       "      <td>...</td>\n",
       "      <td>...</td>\n",
       "      <td>...</td>\n",
       "      <td>...</td>\n",
       "      <td>...</td>\n",
       "      <td>...</td>\n",
       "      <td>...</td>\n",
       "      <td>...</td>\n",
       "      <td>...</td>\n",
       "      <td>...</td>\n",
       "      <td>...</td>\n",
       "      <td>...</td>\n",
       "      <td>...</td>\n",
       "      <td>...</td>\n",
       "      <td>...</td>\n",
       "      <td>...</td>\n",
       "      <td>...</td>\n",
       "      <td>...</td>\n",
       "    </tr>\n",
       "    <tr>\n",
       "      <th>160</th>\n",
       "      <td>../Profiles_165/wrinklestheclown/poster.jpeg</td>\n",
       "      <td>wrinklestheclown.jpg</td>\n",
       "      <td>0</td>\n",
       "      <td>0</td>\n",
       "      <td>0</td>\n",
       "      <td>0</td>\n",
       "      <td>1</td>\n",
       "      <td>0</td>\n",
       "      <td>1</td>\n",
       "      <td>0</td>\n",
       "      <td>...</td>\n",
       "      <td>0</td>\n",
       "      <td>1</td>\n",
       "      <td>0</td>\n",
       "      <td>0</td>\n",
       "      <td>0</td>\n",
       "      <td>0</td>\n",
       "      <td>0</td>\n",
       "      <td>0</td>\n",
       "      <td>0</td>\n",
       "      <td>0</td>\n",
       "    </tr>\n",
       "    <tr>\n",
       "      <th>161</th>\n",
       "      <td>../Profiles_165/xmenmovies/poster.jpeg</td>\n",
       "      <td>xmenmovies.jpg</td>\n",
       "      <td>1</td>\n",
       "      <td>1</td>\n",
       "      <td>0</td>\n",
       "      <td>0</td>\n",
       "      <td>0</td>\n",
       "      <td>0</td>\n",
       "      <td>0</td>\n",
       "      <td>0</td>\n",
       "      <td>...</td>\n",
       "      <td>0</td>\n",
       "      <td>0</td>\n",
       "      <td>0</td>\n",
       "      <td>0</td>\n",
       "      <td>0</td>\n",
       "      <td>1</td>\n",
       "      <td>0</td>\n",
       "      <td>0</td>\n",
       "      <td>0</td>\n",
       "      <td>0</td>\n",
       "    </tr>\n",
       "    <tr>\n",
       "      <th>162</th>\n",
       "      <td>../Profiles_165/yardiefilm/poster.jpeg</td>\n",
       "      <td>yardiefilm.jpg</td>\n",
       "      <td>0</td>\n",
       "      <td>0</td>\n",
       "      <td>0</td>\n",
       "      <td>0</td>\n",
       "      <td>0</td>\n",
       "      <td>1</td>\n",
       "      <td>0</td>\n",
       "      <td>1</td>\n",
       "      <td>...</td>\n",
       "      <td>0</td>\n",
       "      <td>0</td>\n",
       "      <td>0</td>\n",
       "      <td>0</td>\n",
       "      <td>0</td>\n",
       "      <td>0</td>\n",
       "      <td>0</td>\n",
       "      <td>0</td>\n",
       "      <td>0</td>\n",
       "      <td>0</td>\n",
       "    </tr>\n",
       "    <tr>\n",
       "      <th>163</th>\n",
       "      <td>../Profiles_165/yesterdaymovie/poster.jpeg</td>\n",
       "      <td>yesterdaymovie.jpg</td>\n",
       "      <td>0</td>\n",
       "      <td>0</td>\n",
       "      <td>0</td>\n",
       "      <td>0</td>\n",
       "      <td>1</td>\n",
       "      <td>0</td>\n",
       "      <td>0</td>\n",
       "      <td>0</td>\n",
       "      <td>...</td>\n",
       "      <td>0</td>\n",
       "      <td>0</td>\n",
       "      <td>1</td>\n",
       "      <td>0</td>\n",
       "      <td>0</td>\n",
       "      <td>0</td>\n",
       "      <td>0</td>\n",
       "      <td>0</td>\n",
       "      <td>0</td>\n",
       "      <td>0</td>\n",
       "    </tr>\n",
       "    <tr>\n",
       "      <th>164</th>\n",
       "      <td>../Profiles_165/zombieland/poster.jpeg</td>\n",
       "      <td>zombieland.jpg</td>\n",
       "      <td>1</td>\n",
       "      <td>0</td>\n",
       "      <td>0</td>\n",
       "      <td>0</td>\n",
       "      <td>1</td>\n",
       "      <td>0</td>\n",
       "      <td>0</td>\n",
       "      <td>0</td>\n",
       "      <td>...</td>\n",
       "      <td>0</td>\n",
       "      <td>1</td>\n",
       "      <td>0</td>\n",
       "      <td>0</td>\n",
       "      <td>0</td>\n",
       "      <td>0</td>\n",
       "      <td>0</td>\n",
       "      <td>0</td>\n",
       "      <td>0</td>\n",
       "      <td>0</td>\n",
       "    </tr>\n",
       "  </tbody>\n",
       "</table>\n",
       "<p>165 rows × 22 columns</p>\n",
       "</div>"
      ],
      "text/plain": [
       "                                               from                filename  \\\n",
       "0        ../Profiles_165/21bridgesmovie/poster.jpeg      21bridgesmovie.jpg   \n",
       "1          ../Profiles_165/47metersdown/poster.jpeg        47metersdown.jpg   \n",
       "2    ../Profiles_165/abeautifuldaymovie/poster.jpeg  abeautifuldaymovie.jpg   \n",
       "3       ../Profiles_165/abominablemovie/poster.jpeg     abominablemovie.jpg   \n",
       "4          ../Profiles_165/adastramovie/poster.jpeg        adastramovie.jpg   \n",
       "..                                              ...                     ...   \n",
       "160    ../Profiles_165/wrinklestheclown/poster.jpeg    wrinklestheclown.jpg   \n",
       "161          ../Profiles_165/xmenmovies/poster.jpeg          xmenmovies.jpg   \n",
       "162          ../Profiles_165/yardiefilm/poster.jpeg          yardiefilm.jpg   \n",
       "163      ../Profiles_165/yesterdaymovie/poster.jpeg      yesterdaymovie.jpg   \n",
       "164          ../Profiles_165/zombieland/poster.jpeg          zombieland.jpg   \n",
       "\n",
       "     Action  Adventure  Animation  Biography  Comedy  Crime  Documentary  \\\n",
       "0         1          0          0          0       0      1            0   \n",
       "1         0          1          0          0       0      0            0   \n",
       "2         0          0          0          1       0      0            0   \n",
       "3         0          1          1          0       1      0            0   \n",
       "4         0          1          0          0       0      0            0   \n",
       "..      ...        ...        ...        ...     ...    ...          ...   \n",
       "160       0          0          0          0       1      0            1   \n",
       "161       1          1          0          0       0      0            0   \n",
       "162       0          0          0          0       0      1            0   \n",
       "163       0          0          0          0       1      0            0   \n",
       "164       1          0          0          0       1      0            0   \n",
       "\n",
       "     Drama  ...  History  Horror  Music  Mystery  Romance  Sci-Fi  Sport  \\\n",
       "0        1  ...        0       0      0        0        0       0      0   \n",
       "1        1  ...        0       1      0        0        0       0      0   \n",
       "2        1  ...        0       0      0        0        0       0      0   \n",
       "3        0  ...        0       0      0        0        0       0      0   \n",
       "4        1  ...        0       0      0        1        0       0      0   \n",
       "..     ...  ...      ...     ...    ...      ...      ...     ...    ...   \n",
       "160      0  ...        0       1      0        0        0       0      0   \n",
       "161      0  ...        0       0      0        0        0       1      0   \n",
       "162      1  ...        0       0      0        0        0       0      0   \n",
       "163      0  ...        0       0      1        0        0       0      0   \n",
       "164      0  ...        0       1      0        0        0       0      0   \n",
       "\n",
       "     Thriller  War  Western  \n",
       "0           0    0        0  \n",
       "1           0    0        0  \n",
       "2           0    0        0  \n",
       "3           0    0        0  \n",
       "4           0    0        0  \n",
       "..        ...  ...      ...  \n",
       "160         0    0        0  \n",
       "161         0    0        0  \n",
       "162         0    0        0  \n",
       "163         0    0        0  \n",
       "164         0    0        0  \n",
       "\n",
       "[165 rows x 22 columns]"
      ]
     },
     "execution_count": 19,
     "metadata": {},
     "output_type": "execute_result"
    }
   ],
   "source": [
    "test_df = pd.read_csv('../poster2genreMat.csv')\n",
    "test_df"
   ]
  },
  {
   "cell_type": "code",
   "execution_count": 20,
   "metadata": {
    "scrolled": true
   },
   "outputs": [
    {
     "name": "stdout",
     "output_type": "stream",
     "text": [
      "Found 165 validated image filenames.\n"
     ]
    }
   ],
   "source": [
    "test_generator=test_datagen.flow_from_dataframe(dataframe=test_df,\n",
    "                                                directory=DATASET_PATH,\n",
    "                                                x_col=\"filename\",\n",
    "                                                batch_size=1,\n",
    "                                                seed=42,\n",
    "                                                shuffle=False,\n",
    "                                                class_mode=None,\n",
    "                                                target_size=IMAGE_SIZE)"
   ]
  },
  {
   "cell_type": "code",
   "execution_count": 21,
   "metadata": {
    "scrolled": true
   },
   "outputs": [],
   "source": [
    "STEP_SIZE_TEST = test_generator.n // test_generator.batch_size"
   ]
  },
  {
   "cell_type": "code",
   "execution_count": 22,
   "metadata": {
    "scrolled": true
   },
   "outputs": [
    {
     "name": "stdout",
     "output_type": "stream",
     "text": [
      "165/165 [==============================] - 15s 88ms/step\n"
     ]
    }
   ],
   "source": [
    "test_generator.reset()\n",
    "pred=model.predict_generator(test_generator,\n",
    "                             steps=STEP_SIZE_TEST,\n",
    "                             verbose=1)"
   ]
  },
  {
   "cell_type": "code",
   "execution_count": 23,
   "metadata": {
    "scrolled": true
   },
   "outputs": [
    {
     "data": {
      "text/plain": [
       "(165, 20)"
      ]
     },
     "execution_count": 23,
     "metadata": {},
     "output_type": "execute_result"
    }
   ],
   "source": [
    "pred.shape"
   ]
  },
  {
   "cell_type": "code",
   "execution_count": 25,
   "metadata": {
    "scrolled": true
   },
   "outputs": [],
   "source": [
    "predictions = pred\n",
    "\n",
    "results=pd.DataFrame(predictions, columns=columns)\n",
    "results[\"filename\"] = test_generator.filenames\n",
    "ordered_cols = [\"filename\"] + columns\n",
    "results = results[ordered_cols] #To get the same column order\n",
    "# results.to_csv(\"./output/\"+ SAVE_NAME + \"_result.csv\",index=False)"
   ]
  },
  {
   "cell_type": "code",
   "execution_count": 26,
   "metadata": {
    "scrolled": true
   },
   "outputs": [],
   "source": [
    "true_df = test_df\n",
    "labels = read_json('../../genresDic.json')"
   ]
  },
  {
   "cell_type": "code",
   "execution_count": 27,
   "metadata": {
    "scrolled": true
   },
   "outputs": [],
   "source": [
    "def countAcc(predList, trueList):\n",
    "    fraction = 0\n",
    "    denominator = len(trueList)\n",
    "    for g in predList:\n",
    "        if g in trueList:\n",
    "            fraction += 1 \n",
    "    return fraction / denominator"
   ]
  },
  {
   "cell_type": "code",
   "execution_count": 28,
   "metadata": {
    "scrolled": true
   },
   "outputs": [
    {
     "name": "stdout",
     "output_type": "stream",
     "text": [
      "0 21bridgesmovie.jpg\n",
      "count: 3\n",
      "0.6666666666666666 ['Action', 'Crime', 'Sci-Fi'] ['Action', 'Crime', 'Drama']\n",
      "1 47metersdown.jpg\n",
      "count: 3\n",
      "0.6666666666666666 ['Action', 'Adventure', 'Horror'] ['Adventure', 'Drama', 'Horror']\n",
      "2 abeautifuldaymovie.jpg\n",
      "count: 2\n",
      "1.0 ['Drama', 'Biography'] ['Biography', 'Drama']\n",
      "3 abominablemovie.jpg\n",
      "count: 3\n",
      "1.0 ['Animation', 'Comedy', 'Adventure'] ['Adventure', 'Animation', 'Comedy']\n",
      "4 adastramovie.jpg\n",
      "count: 3\n",
      "0.6666666666666666 ['Drama', 'Fantasy', 'Mystery'] ['Adventure', 'Drama', 'Mystery']\n",
      "5 adogsjourneymovie.jpg\n",
      "count: 3\n",
      "1.0 ['Drama', 'Comedy', 'Adventure'] ['Adventure', 'Comedy', 'Drama']\n",
      "6 aftermathmovie.jpg\n",
      "count: 3\n",
      "0.6666666666666666 ['Romance', 'Drama', 'Biography'] ['Drama', 'Romance', 'War']\n",
      "7 aftermovie.jpg\n",
      "count: 2\n",
      "0.5 ['Romance', 'Horror'] ['Drama', 'Romance']\n",
      "8 ahiddenlifefilm.jpg\n",
      "count: 3\n",
      "0.0 ['Thriller', 'Mystery', 'Horror'] ['Biography', 'Drama', 'War']\n",
      "9 alitamovie.jpg\n",
      "count: 3\n",
      "1.0 ['Action', 'Adventure', 'Sci-Fi'] ['Action', 'Adventure', 'Sci-Fi']\n",
      "10 angelhasfallen.jpg\n",
      "count: 2\n",
      "0.5 ['Action', 'Sci-Fi'] ['Action', 'Thriller']\n",
      "11 angrybirdsmovie.jpg\n",
      "count: 3\n",
      "1.0 ['Comedy', 'Animation', 'Adventure'] ['Adventure', 'Animation', 'Comedy']\n",
      "12 annabellemovie.jpg\n",
      "count: 3\n",
      "1.0 ['Thriller', 'Horror', 'Mystery'] ['Horror', 'Mystery', 'Thriller']\n",
      "13 annamovie.jpg\n",
      "count: 2\n",
      "0.0 ['Fantasy', 'Horror'] ['Action', 'Thriller']\n",
      "14 apollo11movie.jpg\n",
      "count: 2\n",
      "0.5 ['Documentary', 'Thriller'] ['Documentary', 'History']\n",
      "15 arcticdogsmovie.jpg\n",
      "count: 3\n",
      "1.0 ['Comedy', 'Animation', 'Adventure'] ['Adventure', 'Animation', 'Comedy']\n",
      "16 arcticmovie.jpg\n",
      "count: 2\n",
      "0.5 ['Drama', 'Mystery'] ['Adventure', 'Drama']\n",
      "17 artofracingmovie.jpg\n",
      "count: 3\n",
      "0.6666666666666666 ['Drama', 'Comedy', 'Adventure'] ['Comedy', 'Drama', 'Romance']\n",
      "18 avengers.jpg\n",
      "count: 3\n",
      "1.0 ['Action', 'Adventure', 'Sci-Fi'] ['Action', 'Adventure', 'Sci-Fi']\n",
      "19 beachbummovie.jpg\n",
      "count: 1\n",
      "0.0 ['Adventure'] ['Comedy']\n",
      "20 bernadettefilm.jpg\n",
      "count: 3\n",
      "1.0 ['Drama', 'Comedy', 'Mystery'] ['Comedy', 'Drama', 'Mystery']\n",
      "21 blackandbluemovie.jpg\n",
      "count: 3\n",
      "1.0 ['Drama', 'Action', 'Crime'] ['Action', 'Crime', 'Drama']\n",
      "22 blackchristmas.jpg\n",
      "count: 3\n",
      "0.3333333333333333 ['Action', 'Adventure', 'Thriller'] ['Horror', 'Mystery', 'Thriller']\n",
      "23 blindedbythelightmovie.jpg\n",
      "count: 3\n",
      "0.6666666666666666 ['Comedy', 'Drama', 'Animation'] ['Comedy', 'Drama', 'Music']\n",
      "24 bombshellmovie.jpg\n",
      "count: 2\n",
      "0.5 ['Biography', 'Action'] ['Biography', 'Drama']\n",
      "25 booksmart.jpg\n",
      "count: 1\n",
      "1.0 ['Comedy'] ['Comedy']\n",
      "26 breakthroughmovie.jpg\n",
      "count: 2\n",
      "1.0 ['Biography', 'Drama'] ['Biography', 'Drama']\n",
      "27 brianbanksmovie.jpg\n",
      "count: 3\n",
      "0.0 ['Sci-Fi', 'Mystery', 'Thriller'] ['Biography', 'Drama', 'Sport']\n",
      "28 brightburnmovie.jpg\n",
      "count: 2\n",
      "0.5 ['Adventure', 'Sci-Fi'] ['Horror', 'Sci-Fi']\n",
      "29 brittanyrunsmov.jpg\n",
      "count: 2\n",
      "1.0 ['Drama', 'Comedy'] ['Comedy', 'Drama']\n",
      "30 captainmarvelofficial.jpg\n",
      "count: 3\n",
      "1.0 ['Action', 'Sci-Fi', 'Adventure'] ['Action', 'Adventure', 'Sci-Fi']\n",
      "31 captivestatemovie.jpg\n",
      "count: 3\n",
      "0.6666666666666666 ['Drama', 'Sci-Fi', 'Action'] ['Drama', 'Sci-Fi', 'Thriller']\n",
      "32 catsmovie.jpg\n",
      "count: 3\n",
      "0.6666666666666666 ['Comedy', 'Animation', 'Fantasy'] ['Animation', 'Comedy', 'Drama']\n",
      "33 charliesangels.jpg\n",
      "count: 3\n",
      "1.0 ['Action', 'Adventure', 'Comedy'] ['Action', 'Adventure', 'Comedy']\n",
      "34 childsplaymovie.jpg\n",
      "count: 1\n",
      "0.0 ['Action'] ['Horror']\n",
      "35 clarathefilm.jpg\n",
      "count: 1\n",
      "1.0 ['Sci-Fi'] ['Sci-Fi']\n",
      "36 coldpursuitmovie.jpg\n",
      "count: 3\n",
      "1.0 ['Action', 'Drama', 'Crime'] ['Action', 'Crime', 'Drama']\n",
      "37 countdown.jpg\n",
      "count: 2\n",
      "1.0 ['Horror', 'Thriller'] ['Horror', 'Thriller']\n",
      "38 currentwarmovie.jpg\n",
      "count: 3\n",
      "0.0 ['Action', 'Adventure', 'Sci-Fi'] ['Biography', 'Drama', 'History']\n",
      "39 darkwatersmovie.jpg\n",
      "count: 3\n",
      "0.6666666666666666 ['Drama', 'Biography', 'Crime'] ['Biography', 'Drama', 'History']\n",
      "40 detectivepikachumovie.jpg\n",
      "count: 3\n",
      "1.0 ['Comedy', 'Action', 'Adventure'] ['Action', 'Adventure', 'Comedy']\n",
      "41 disneyaladdin.jpg\n",
      "count: 3\n",
      "1.0 ['Fantasy', 'Adventure', 'Family'] ['Adventure', 'Family', 'Fantasy']\n",
      "42 disneyfrozen.jpg\n",
      "count: 3\n",
      "1.0 ['Comedy', 'Adventure', 'Animation'] ['Adventure', 'Animation', 'Comedy']\n",
      "43 disneymaleficent.jpg\n",
      "count: 3\n",
      "1.0 ['Fantasy', 'Family', 'Adventure'] ['Adventure', 'Family', 'Fantasy']\n",
      "44 doctorsleepmovie.jpg\n",
      "count: 1\n",
      "0.0 ['Drama'] ['Horror']\n",
      "45 dolemiteismyname.jpg\n",
      "count: 3\n",
      "0.6666666666666666 ['Drama', 'Comedy', 'Adventure'] ['Biography', 'Comedy', 'Drama']\n",
      "46 dontletgomovie.jpg\n",
      "count: 3\n",
      "1.0 ['Drama', 'Fantasy', 'Horror'] ['Drama', 'Fantasy', 'Horror']\n",
      "47 doramovie.jpg\n",
      "count: 2\n",
      "0.0 ['Drama', 'Fantasy'] ['Adventure', 'Family']\n",
      "48 downtonabbey_official.jpg\n",
      "count: 1\n",
      "1.0 ['Drama'] ['Drama']\n",
      "49 dumbo.jpg\n",
      "count: 3\n",
      "1.0 ['Fantasy', 'Family', 'Adventure'] ['Adventure', 'Family', 'Fantasy']\n",
      "50 escaperoom.jpg\n",
      "count: 3\n",
      "0.3333333333333333 ['Action', 'Crime', 'Drama'] ['Action', 'Adventure', 'Horror']\n",
      "51 everybodyknowsmovie.jpg\n",
      "count: 3\n",
      "1.0 ['Drama', 'Mystery', 'Crime'] ['Crime', 'Drama', 'Mystery']\n",
      "52 fastandfuriousmovie.jpg\n",
      "count: 2\n",
      "0.5 ['Action', 'Sci-Fi'] ['Action', 'Adventure']\n",
      "53 fightingwmyfam.jpg\n",
      "count: 3\n",
      "0.6666666666666666 ['Action', 'Drama', 'Comedy'] ['Biography', 'Comedy', 'Drama']\n",
      "54 fivefeetapartfilm.jpg\n",
      "count: 2\n",
      "1.0 ['Romance', 'Drama'] ['Drama', 'Romance']\n",
      "55 fordvferrari.jpg\n",
      "count: 3\n",
      "0.6666666666666666 ['Drama', 'Comedy', 'Biography'] ['Action', 'Biography', 'Drama']\n",
      "56 freaksthefilm.jpg\n",
      "count: 3\n",
      "1.0 ['Drama', 'Thriller', 'Sci-Fi'] ['Drama', 'Sci-Fi', 'Thriller']\n",
      "57 geminimanmovie.jpg\n",
      "count: 3\n",
      "0.6666666666666666 ['Action', 'Adventure', 'Sci-Fi'] ['Action', 'Drama', 'Sci-Fi']\n",
      "58 glassmovie.jpg\n",
      "count: 3\n",
      "0.6666666666666666 ['Drama', 'Thriller', 'Crime'] ['Drama', 'Sci-Fi', 'Thriller']\n",
      "59 gloriabellmovie.jpg\n",
      "count: 3\n",
      "0.6666666666666666 ['Drama', 'Comedy', 'Music'] ['Comedy', 'Drama', 'Romance']\n",
      "60 godzillamovie.jpg\n",
      "count: 3\n",
      "1.0 ['Action', 'Fantasy', 'Adventure'] ['Action', 'Adventure', 'Fantasy']\n",
      "61 goldfinchmovie.jpg\n",
      "count: 1\n",
      "0.0 ['Thriller'] ['Drama']\n",
      "62 goodboysmovie.jpg\n",
      "count: 2\n",
      "0.5 ['Comedy', 'Drama'] ['Adventure', 'Comedy']\n",
      "63 goodliarmovie.jpg\n",
      "count: 1\n",
      "1.0 ['Drama'] ['Drama']\n",
      "64 gretafilm.jpg\n",
      "count: 3\n",
      "0.3333333333333333 ['Drama', 'Comedy', 'Animation'] ['Drama', 'Mystery', 'Thriller']\n",
      "65 halathemovie.jpg\n",
      "count: 1\n",
      "1.0 ['Drama'] ['Drama']\n",
      "66 happydeathdaymovie.jpg\n",
      "count: 3\n",
      "0.6666666666666666 ['Horror', 'Mystery', 'Action'] ['Comedy', 'Horror', 'Mystery']\n",
      "67 harrietfilm.jpg\n",
      "count: 3\n",
      "1.0 ['Drama', 'Biography', 'History'] ['Biography', 'Drama', 'History']\n",
      "68 hellboymovie.jpg\n",
      "count: 3\n",
      "1.0 ['Action', 'Fantasy', 'Adventure'] ['Action', 'Adventure', 'Fantasy']\n",
      "69 hersmellmovie.jpg\n",
      "count: 2\n",
      "0.5 ['Drama', 'Thriller'] ['Drama', 'Music']\n",
      "70 highlifemovie.jpg\n",
      "count: 3\n",
      "0.3333333333333333 ['Drama', 'Biography', 'Action'] ['Adventure', 'Drama', 'Mystery']\n",
      "71 highstrungmovie.jpg\n",
      "count: 1\n",
      "1.0 ['Romance'] ['Romance']\n",
      "72 honeyboymovie.jpg\n",
      "count: 1\n",
      "1.0 ['Drama'] ['Drama']\n",
      "73 hotelmumbaifilm.jpg\n",
      "count: 3\n",
      "0.0 ['Fantasy', 'Action', 'Adventure'] ['Drama', 'History', 'Thriller']\n",
      "74 httydragon.jpg\n",
      "count: 3\n",
      "1.0 ['Adventure', 'Animation', 'Action'] ['Action', 'Adventure', 'Animation']\n",
      "75 hustlemovie.jpg\n",
      "count: 2\n",
      "1.0 ['Comedy', 'Crime'] ['Comedy', 'Crime']\n",
      "76 hustlersmovie.jpg\n",
      "count: 3\n",
      "0.6666666666666666 ['Romance', 'Comedy', 'Drama'] ['Comedy', 'Crime', 'Drama']\n",
      "77 isntitromantic.jpg\n",
      "count: 3\n",
      "0.3333333333333333 ['Comedy', 'Animation', 'Adventure'] ['Comedy', 'Fantasy', 'Romance']\n",
      "78 itmovieofficial.jpg\n",
      "count: 3\n",
      "0.6666666666666666 ['Horror', 'Drama', 'Mystery'] ['Drama', 'Fantasy', 'Horror']\n",
      "79 jayandsilentbob.jpg\n",
      "count: 1\n",
      "1.0 ['Comedy'] ['Comedy']\n",
      "80 johnwickmovie.jpg\n",
      "count: 3\n",
      "0.6666666666666666 ['Action', 'Adventure', 'Thriller'] ['Action', 'Crime', 'Thriller']\n",
      "81 jojorabbitmovie.jpg\n",
      "count: 3\n",
      "1.0 ['Drama', 'War', 'Comedy'] ['Comedy', 'Drama', 'War']\n",
      "82 jokermovie.jpg\n",
      "count: 3\n",
      "1.0 ['Drama', 'Crime', 'Thriller'] ['Crime', 'Drama', 'Thriller']\n",
      "83 judythefilm.jpg\n",
      "count: 3\n",
      "1.0 ['Biography', 'Drama', 'History'] ['Biography', 'Drama', 'History']\n",
      "84 jumanjimovie.jpg\n",
      "count: 3\n",
      "1.0 ['Adventure', 'Action', 'Comedy'] ['Action', 'Adventure', 'Comedy']\n",
      "85 justmercyfilm.jpg\n",
      "count: 1\n",
      "1.0 ['Drama'] ['Drama']\n",
      "86 knivesout.jpg\n",
      "count: 3\n",
      "1.0 ['Comedy', 'Crime', 'Drama'] ['Comedy', 'Crime', 'Drama']\n",
      "87 lalloronamovie.jpg\n",
      "count: 3\n",
      "1.0 ['Horror', 'Thriller', 'Mystery'] ['Horror', 'Mystery', 'Thriller']\n",
      "88 lastblackmansf.jpg\n",
      "count: 1\n",
      "1.0 ['Drama'] ['Drama']\n",
      "89 lastchristmasthemovie.jpg\n",
      "count: 2\n",
      "1.0 ['Romance', 'Comedy'] ['Comedy', 'Romance']\n",
      "90 latenightmovie.jpg\n",
      "count: 2\n",
      "0.5 ['Romance', 'Drama'] ['Comedy', 'Drama']\n",
      "91 lighthousemovie.jpg\n",
      "count: 3\n",
      "0.6666666666666666 ['Drama', 'Biography', 'Horror'] ['Drama', 'Fantasy', 'Horror']\n",
      "92 lionking.jpg\n",
      "count: 3\n",
      "1.0 ['Drama', 'Adventure', 'Animation'] ['Adventure', 'Animation', 'Drama']\n",
      "93 littlethemovie.jpg\n",
      "count: 3\n",
      "1.0 ['Fantasy', 'Comedy', 'Romance'] ['Comedy', 'Fantasy', 'Romance']\n",
      "94 littlewomenmovie.jpg\n",
      "count: 2\n",
      "0.5 ['Drama', 'Crime'] ['Drama', 'Romance']\n",
      "95 littlewoodsfilm.jpg\n",
      "count: 3\n",
      "0.6666666666666666 ['Crime', 'Drama', 'Comedy'] ['Crime', 'Drama', 'Western']\n",
      "96 longshotmovie.jpg\n",
      "count: 2\n",
      "0.5 ['Fantasy', 'Comedy'] ['Comedy', 'Romance']\n",
      "97 lordsofchaosmovie.jpg\n",
      "count: 3\n",
      "0.6666666666666666 ['Thriller', 'Horror', 'Drama'] ['Biography', 'Drama', 'Horror']\n",
      "98 lucyintheskyfilm.jpg\n",
      "count: 2\n",
      "0.5 ['Horror', 'Sci-Fi'] ['Drama', 'Sci-Fi']\n",
      "99 mamovie2019.jpg\n",
      "count: 2\n",
      "1.0 ['Horror', 'Thriller'] ['Horror', 'Thriller']\n",
      "100 marriagestory.jpg\n",
      "count: 2\n",
      "0.5 ['Drama', 'Mystery'] ['Comedy', 'Drama']\n",
      "101 meettheaddams.jpg\n",
      "count: 3\n",
      "1.0 ['Family', 'Animation', 'Comedy'] ['Animation', 'Comedy', 'Family']\n",
      "102 meninblack.jpg\n",
      "count: 3\n",
      "1.0 ['Action', 'Adventure', 'Comedy'] ['Action', 'Adventure', 'Comedy']\n",
      "103 midsommarmovie.jpg\n",
      "count: 3\n",
      "1.0 ['Drama', 'Horror', 'Mystery'] ['Drama', 'Horror', 'Mystery']\n",
      "104 midwaymovie.jpg\n",
      "count: 3\n",
      "0.3333333333333333 ['Action', 'Adventure', 'Sci-Fi'] ['Action', 'Drama', 'History']\n",
      "105 missbalamovie.jpg\n",
      "count: 3\n",
      "0.6666666666666666 ['Action', 'Crime', 'Comedy'] ['Action', 'Crime', 'Drama']\n",
      "106 missinglinkfilm.jpg\n",
      "count: 3\n",
      "0.3333333333333333 ['Action', 'Horror', 'Comedy'] ['Adventure', 'Animation', 'Comedy']\n",
      "107 motherlessbklyn.jpg\n",
      "count: 2\n",
      "1.0 ['Drama', 'Crime'] ['Crime', 'Drama']\n",
      "108 onceinhollywood.jpg\n",
      "count: 2\n",
      "1.0 ['Drama', 'Comedy'] ['Comedy', 'Drama']\n",
      "109 onthebasisofsex.jpg\n",
      "count: 2\n",
      "0.5 ['Drama', 'Animation'] ['Biography', 'Drama']\n",
      "110 overcomermovie.jpg\n",
      "count: 2\n",
      "1.0 ['Drama', 'Sport'] ['Drama', 'Sport']\n",
      "111 peanutbutterfalcon.jpg\n",
      "count: 3\n",
      "0.3333333333333333 ['Action', 'Adventure', 'Fantasy'] ['Adventure', 'Comedy', 'Drama']\n",
      "112 petsematarymovie.jpg\n",
      "count: 3\n",
      "1.0 ['Horror', 'Thriller', 'Mystery'] ['Horror', 'Mystery', 'Thriller']\n",
      "113 piercingmovie.jpg\n",
      "count: 3\n",
      "0.0 ['Action', 'Fantasy', 'Adventure'] ['Horror', 'Mystery', 'Thriller']\n",
      "114 playingwithfire.jpg\n",
      "count: 1\n",
      "0.0 ['Action'] ['Comedy']\n",
      "115 playmobilthemovie.jpg\n",
      "count: 3\n",
      "0.6666666666666666 ['Comedy', 'Adventure', 'Action'] ['Adventure', 'Animation', 'Comedy']\n",
      "116 pomsmovie.jpg\n",
      "count: 3\n",
      "0.3333333333333333 ['Biography', 'Drama', 'Music'] ['Comedy', 'Drama', 'Sport']\n",
      "117 queenandslim.jpg\n",
      "count: 1\n",
      "0.0 ['Crime'] ['Drama']\n",
      "118 rambomovie.jpg\n",
      "count: 3\n",
      "0.6666666666666666 ['Action', 'Sci-Fi', 'Adventure'] ['Action', 'Adventure', 'Thriller']\n",
      "119 readyornotfilm.jpg\n",
      "count: 3\n",
      "0.0 ['Drama', 'Crime', 'Thriller'] ['Comedy', 'Horror', 'Mystery']\n",
      "120 richardjewellfilm.jpg\n",
      "count: 1\n",
      "0.0 ['Horror'] ['Drama']\n",
      "121 rocketmanmovie.jpg\n",
      "count: 3\n",
      "0.3333333333333333 ['Action', 'Crime', 'Drama'] ['Biography', 'Drama', 'Music']\n",
      "122 scarystoriesmovie.jpg\n",
      "count: 3\n",
      "1.0 ['Horror', 'Thriller', 'Mystery'] ['Horror', 'Mystery', 'Thriller']\n",
      "123 secretlifeofpets.jpg\n",
      "count: 3\n",
      "1.0 ['Adventure', 'Animation', 'Comedy'] ['Adventure', 'Animation', 'Comedy']\n",
      "124 serenityfilm.jpg\n",
      "count: 3\n",
      "0.6666666666666666 ['Drama', 'Fantasy', 'Mystery'] ['Drama', 'Mystery', 'Thriller']\n",
      "125 shaftmovie.jpg\n",
      "count: 3\n",
      "1.0 ['Action', 'Crime', 'Comedy'] ['Action', 'Comedy', 'Crime']\n",
      "126 shazammovie.jpg\n",
      "count: 3\n",
      "0.6666666666666666 ['Action', 'Comedy', 'Sci-Fi'] ['Action', 'Adventure', 'Comedy']\n",
      "127 spidermanmovie.jpg\n",
      "count: 3\n",
      "1.0 ['Sci-Fi', 'Action', 'Adventure'] ['Action', 'Adventure', 'Sci-Fi']\n",
      "128 spiesindisguise.jpg\n",
      "count: 3\n",
      "1.0 ['Action', 'Adventure', 'Animation'] ['Action', 'Adventure', 'Animation']\n",
      "129 starwars.jpg\n",
      "count: 3\n",
      "1.0 ['Action', 'Fantasy', 'Adventure'] ['Action', 'Adventure', 'Fantasy']\n",
      "130 stormboymovie.jpg\n",
      "count: 3\n",
      "1.0 ['Drama', 'Adventure', 'Family'] ['Adventure', 'Drama', 'Family']\n",
      "131 stubermovie.jpg\n",
      "count: 3\n",
      "1.0 ['Action', 'Comedy', 'Crime'] ['Action', 'Comedy', 'Crime']\n",
      "132 taosdfilm.jpg\n",
      "count: 3\n",
      "0.6666666666666666 ['Comedy', 'Crime', 'Drama'] ['Comedy', 'Drama', 'Sport']\n",
      "133 teenspiritmov.jpg\n",
      "count: 2\n",
      "1.0 ['Music', 'Drama'] ['Drama', 'Music']\n",
      "134 terminator.jpg\n",
      "count: 3\n",
      "0.3333333333333333 ['Fantasy', 'Action', 'Horror'] ['Action', 'Adventure', 'Sci-Fi']\n",
      "135 theaeronautsmov.jpg\n",
      "count: 3\n",
      "0.6666666666666666 ['Action', 'Adventure', 'Fantasy'] ['Action', 'Adventure', 'Biography']\n",
      "136 thebestofenemies.jpg\n",
      "count: 3\n",
      "1.0 ['Drama', 'Biography', 'History'] ['Biography', 'Drama', 'History']\n",
      "137 thedeaddontdie.jpg\n",
      "count: 3\n",
      "0.6666666666666666 ['Horror', 'Fantasy', 'Action'] ['Comedy', 'Fantasy', 'Horror']\n",
      "138 thefarewell.jpg\n",
      "count: 2\n",
      "1.0 ['Drama', 'Comedy'] ['Comedy', 'Drama']\n",
      "139 thehighwaymen.jpg\n",
      "count: 3\n",
      "0.6666666666666666 ['Drama', 'History', 'Biography'] ['Biography', 'Crime', 'Drama']\n",
      "140 thehummingbirdprojectfilm.jpg\n",
      "count: 1\n",
      "0.0 ['Fantasy'] ['Thriller']\n",
      "141 theintrudermovie.jpg\n",
      "count: 3\n",
      "1.0 ['Horror', 'Mystery', 'Drama'] ['Drama', 'Horror', 'Mystery']\n",
      "142 theirishmanfilm.jpg\n",
      "count: 3\n",
      "0.6666666666666666 ['Drama', 'Biography', 'Horror'] ['Biography', 'Crime', 'Drama']\n",
      "143 thekitchenmovie.jpg\n",
      "count: 3\n"
     ]
    },
    {
     "name": "stdout",
     "output_type": "stream",
     "text": [
      "0.3333333333333333 ['Drama', 'Comedy', 'Thriller'] ['Action', 'Crime', 'Drama']\n",
      "144 thelegomovie.jpg\n",
      "count: 3\n",
      "1.0 ['Action', 'Adventure', 'Animation'] ['Action', 'Adventure', 'Animation']\n",
      "145 themustangfilm.jpg\n",
      "count: 1\n",
      "1.0 ['Drama'] ['Drama']\n",
      "146 thenightingalefilm.jpg\n",
      "count: 3\n",
      "0.6666666666666666 ['Mystery', 'Thriller', 'Drama'] ['Adventure', 'Drama', 'Thriller']\n",
      "147 theprodigymovie.jpg\n",
      "count: 2\n",
      "0.5 ['Drama', 'Thriller'] ['Horror', 'Thriller']\n",
      "148 thesunisalsoastar.jpg\n",
      "count: 2\n",
      "1.0 ['Drama', 'Romance'] ['Drama', 'Romance']\n",
      "149 theupsidefilm.jpg\n",
      "count: 2\n",
      "1.0 ['Comedy', 'Drama'] ['Comedy', 'Drama']\n",
      "150 tolkienmovie.jpg\n",
      "count: 3\n",
      "0.6666666666666666 ['Drama', 'Biography', 'History'] ['Biography', 'Drama', 'War']\n",
      "151 toystory.jpg\n",
      "count: 3\n",
      "1.0 ['Comedy', 'Animation', 'Adventure'] ['Adventure', 'Animation', 'Comedy']\n",
      "152 triplefrontier.jpg\n",
      "count: 3\n",
      "0.6666666666666666 ['Drama', 'Action', 'Crime'] ['Action', 'Adventure', 'Crime']\n",
      "153 uglydolls.jpg\n",
      "count: 3\n",
      "1.0 ['Comedy', 'Adventure', 'Animation'] ['Adventure', 'Animation', 'Comedy']\n",
      "154 uncutgems.jpg\n",
      "count: 3\n",
      "1.0 ['Comedy', 'Crime', 'Drama'] ['Comedy', 'Crime', 'Drama']\n",
      "155 underthesilverlake.jpg\n",
      "count: 3\n",
      "0.3333333333333333 ['Comedy', 'Action', 'Adventure'] ['Comedy', 'Crime', 'Drama']\n",
      "156 usmovie.jpg\n",
      "count: 3\n",
      "1.0 ['Horror', 'Mystery', 'Thriller'] ['Horror', 'Mystery', 'Thriller']\n",
      "157 wavesmovie.jpg\n",
      "count: 2\n",
      "1.0 ['Drama', 'Romance'] ['Drama', 'Romance']\n",
      "158 whatmenwant.jpg\n",
      "count: 3\n",
      "1.0 ['Fantasy', 'Comedy', 'Romance'] ['Comedy', 'Fantasy', 'Romance']\n",
      "159 wonderparkmovie.jpg\n",
      "count: 3\n",
      "0.6666666666666666 ['Adventure', 'Animation', 'Action'] ['Adventure', 'Animation', 'Comedy']\n",
      "160 wrinklestheclown.jpg\n",
      "count: 3\n",
      "0.6666666666666666 ['Horror', 'Drama', 'Comedy'] ['Comedy', 'Documentary', 'Horror']\n",
      "161 xmenmovies.jpg\n",
      "count: 3\n",
      "0.6666666666666666 ['Action', 'Adventure', 'Fantasy'] ['Action', 'Adventure', 'Sci-Fi']\n",
      "162 yardiefilm.jpg\n",
      "count: 2\n",
      "0.5 ['Drama', 'Biography'] ['Crime', 'Drama']\n",
      "163 yesterdaymovie.jpg\n",
      "count: 3\n",
      "0.3333333333333333 ['Drama', 'Comedy', 'Biography'] ['Comedy', 'Fantasy', 'Music']\n",
      "164 zombieland.jpg\n",
      "count: 3\n",
      "1.0 ['Horror', 'Action', 'Comedy'] ['Action', 'Comedy', 'Horror']\n"
     ]
    }
   ],
   "source": [
    "li = []\n",
    "for i, row in true_df.iterrows():\n",
    "    username = row['filename']\n",
    "    if username == results.loc[i,:]['filename']: # username equals\n",
    "        print(i, username)\n",
    "        accname = username.split('.')[0]\n",
    "        truth = labels[accname]\n",
    "        numTrue = sum(row[2:])\n",
    "        print('count:', numTrue)\n",
    "        \n",
    "        s = results.loc[i,:][1:]\n",
    "        top_n = s.sort_values(ascending=False)[:numTrue]\n",
    "        inList = list(top_n.index)\n",
    "        \n",
    "        onehot = []\n",
    "        for g in columns:\n",
    "            onehot.append(int(g in inList))\n",
    "            \n",
    "        accu = countAcc(inList, truth)\n",
    "        print(accu, inList, truth)\n",
    "        \n",
    "        appList = [username, accu, truth, inList] + onehot\n",
    "        li.append(appList)\n",
    "        "
   ]
  },
  {
   "cell_type": "code",
   "execution_count": 29,
   "metadata": {
    "scrolled": true
   },
   "outputs": [
    {
     "data": {
      "text/plain": [
       "0.7181818181818185"
      ]
     },
     "execution_count": 29,
     "metadata": {},
     "output_type": "execute_result"
    }
   ],
   "source": [
    "acc_df = pd.DataFrame(li, columns = ['username', 'acc', 'truth', 'top_n'] + columns)\n",
    "acc_df['acc'].mean()"
   ]
  },
  {
   "cell_type": "markdown",
   "metadata": {},
   "source": [
    "## 萃取97部電影imdb的feature"
   ]
  },
  {
   "cell_type": "markdown",
   "metadata": {},
   "source": [
    "### Poster Feature Vector"
   ]
  },
  {
   "cell_type": "code",
   "execution_count": null,
   "metadata": {
    "scrolled": true
   },
   "outputs": [],
   "source": [
    "test_generator"
   ]
  },
  {
   "cell_type": "code",
   "execution_count": null,
   "metadata": {
    "scrolled": true
   },
   "outputs": [],
   "source": [
    "extract_layer = Model(inputs=model.input,\n",
    "                      outputs=model.get_layer('flatten_1').output)\n",
    "#以这个model的预测值作为输出\n",
    "extract_output = extract_layer.predict_generator(test_generator,\n",
    "                                                 steps=STEP_SIZE_TEST,\n",
    "                                                 verbose=1)\n",
    "print(extract_output.shape)"
   ]
  },
  {
   "cell_type": "code",
   "execution_count": null,
   "metadata": {
    "scrolled": true
   },
   "outputs": [],
   "source": [
    "idx = test_generator.filenames\n",
    "print(len(idx), idx)"
   ]
  },
  {
   "cell_type": "code",
   "execution_count": null,
   "metadata": {
    "scrolled": true
   },
   "outputs": [],
   "source": [
    "res=pd.DataFrame(extract_output, index = idx)\n",
    "res"
   ]
  },
  {
   "cell_type": "code",
   "execution_count": null,
   "metadata": {
    "scrolled": true
   },
   "outputs": [],
   "source": [
    "res.to_csv(\"./output/PosterFeatureVec.csv\", header=False)"
   ]
  },
  {
   "cell_type": "markdown",
   "metadata": {},
   "source": [
    "### IG images"
   ]
  },
  {
   "cell_type": "code",
   "execution_count": null,
   "metadata": {
    "scrolled": true
   },
   "outputs": [],
   "source": [
    "DATASET_PATH  = '../IGimg'\n",
    "train_df = pd.read_csv('../filename2genreMat.csv')\n",
    "train_df"
   ]
  },
  {
   "cell_type": "code",
   "execution_count": null,
   "metadata": {
    "scrolled": true
   },
   "outputs": [],
   "source": [
    "train_generator=datagen.flow_from_dataframe(dataframe=train_df,\n",
    "                                            directory=DATASET_PATH,\n",
    "                                            x_col=\"filename\",\n",
    "                                            batch_size=1,\n",
    "                                            seed=42,\n",
    "                                            shuffle=False,\n",
    "                                            class_mode=None,\n",
    "                                            target_size=IMAGE_SIZE)"
   ]
  },
  {
   "cell_type": "code",
   "execution_count": null,
   "metadata": {
    "scrolled": true
   },
   "outputs": [],
   "source": [
    "STEP_SIZE_TRAIN = train_generator.n // train_generator.batch_size\n",
    "print(STEP_SIZE_TRAIN)"
   ]
  },
  {
   "cell_type": "code",
   "execution_count": null,
   "metadata": {
    "scrolled": true
   },
   "outputs": [],
   "source": [
    "extract_layer = Model(inputs=model.input,\n",
    "                      outputs=model.get_layer('flatten_1').output)\n",
    "#以这个model的预测值作为输出\n",
    "extract_output = extract_layer.predict_generator(train_generator,\n",
    "                                                 steps=STEP_SIZE_TRAIN,\n",
    "                                                 verbose=1)\n",
    "print(extract_output.shape)"
   ]
  },
  {
   "cell_type": "code",
   "execution_count": null,
   "metadata": {
    "scrolled": true
   },
   "outputs": [],
   "source": [
    "idx = train_generator.filenames\n",
    "print(len(idx), idx)"
   ]
  },
  {
   "cell_type": "code",
   "execution_count": null,
   "metadata": {
    "scrolled": true
   },
   "outputs": [],
   "source": [
    "res=pd.DataFrame(extract_output, index = idx)\n",
    "res"
   ]
  },
  {
   "cell_type": "code",
   "execution_count": null,
   "metadata": {
    "scrolled": true
   },
   "outputs": [],
   "source": [
    "res.to_csv(\"./output/IGimgFeatureVec.csv\", header=False)"
   ]
  },
  {
   "cell_type": "code",
   "execution_count": null,
   "metadata": {
    "scrolled": true
   },
   "outputs": [],
   "source": []
  }
 ],
 "metadata": {
  "kernelspec": {
   "display_name": "Python 3",
   "language": "python",
   "name": "python3"
  },
  "language_info": {
   "codemirror_mode": {
    "name": "ipython",
    "version": 3
   },
   "file_extension": ".py",
   "mimetype": "text/x-python",
   "name": "python",
   "nbconvert_exporter": "python",
   "pygments_lexer": "ipython3",
   "version": "3.6.10"
  }
 },
 "nbformat": 4,
 "nbformat_minor": 4
}
