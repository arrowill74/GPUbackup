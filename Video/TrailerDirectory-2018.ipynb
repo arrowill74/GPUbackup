{
 "cells": [
  {
   "cell_type": "code",
   "execution_count": 2,
   "metadata": {
    "scrolled": true
   },
   "outputs": [],
   "source": [
    "# Basic import\n",
    "import os\n",
    "import sys\n",
    "import json\n",
    "import shutil\n",
    "import pandas as pd\n",
    "import numpy as np"
   ]
  },
  {
   "cell_type": "code",
   "execution_count": 3,
   "metadata": {
    "scrolled": true
   },
   "outputs": [],
   "source": [
    "# Helper function\n",
    "def writeProgress(msg, count, total):\n",
    "    sys.stdout.write(msg + \"{:.2%}\\r\".format(count/total))\n",
    "    sys.stdout.flush()\n",
    "    \n",
    "def newPath(path):\n",
    "    if not os.path.isdir(path):\n",
    "        os.mkdir(path)\n",
    "\n",
    "def read_json(src_path):\n",
    "    with open(src_path, 'r') as json_file:\n",
    "        data = json.load(json_file)\n",
    "    return data\n",
    "\n",
    "def write_json(data,dst_path):\n",
    "    with open(dst_path, 'w') as outfile:\n",
    "        json.dump(data, outfile)"
   ]
  },
  {
   "cell_type": "code",
   "execution_count": 4,
   "metadata": {
    "scrolled": true
   },
   "outputs": [
    {
     "name": "stdout",
     "output_type": "stream",
     "text": [
      "20 ['Action', 'Adventure', 'Animation', 'Biography', 'Comedy', 'Crime', 'Documentary', 'Drama', 'Family', 'Fantasy', 'History', 'Horror', 'Music', 'Mystery', 'Romance', 'Sci-Fi', 'Sport', 'Thriller', 'War', 'Western']\n"
     ]
    }
   ],
   "source": [
    "# 讀取固定的類別順序\n",
    "genres = read_json('../orderdListGenres.json')\n",
    "print(len(genres), genres)"
   ]
  },
  {
   "cell_type": "markdown",
   "metadata": {},
   "source": [
    "# Makedir Trailer/"
   ]
  },
  {
   "cell_type": "code",
   "execution_count": 9,
   "metadata": {
    "scrolled": true
   },
   "outputs": [],
   "source": [
    "PATH = './Trailer2018/'\n",
    "TRAILER = './2018SplitTrailers/'\n",
    "newPath(TRAILER)"
   ]
  },
  {
   "cell_type": "code",
   "execution_count": 11,
   "metadata": {
    "scrolled": true
   },
   "outputs": [
    {
     "data": {
      "text/html": [
       "<div>\n",
       "<style scoped>\n",
       "    .dataframe tbody tr th:only-of-type {\n",
       "        vertical-align: middle;\n",
       "    }\n",
       "\n",
       "    .dataframe tbody tr th {\n",
       "        vertical-align: top;\n",
       "    }\n",
       "\n",
       "    .dataframe thead th {\n",
       "        text-align: right;\n",
       "    }\n",
       "</style>\n",
       "<table border=\"1\" class=\"dataframe\">\n",
       "  <thead>\n",
       "    <tr style=\"text-align: right;\">\n",
       "      <th></th>\n",
       "      <th>id</th>\n",
       "      <th>genre</th>\n",
       "      <th>primaryTitle</th>\n",
       "      <th>genres</th>\n",
       "    </tr>\n",
       "  </thead>\n",
       "  <tbody>\n",
       "    <tr>\n",
       "      <th>0</th>\n",
       "      <td>tt9413906</td>\n",
       "      <td>Crime</td>\n",
       "      <td>A Tale of a Day &amp; a Night</td>\n",
       "      <td>Crime,Drama,Mystery</td>\n",
       "    </tr>\n",
       "    <tr>\n",
       "      <th>1</th>\n",
       "      <td>tt9319530</td>\n",
       "      <td>Crime</td>\n",
       "      <td>Ma Ma</td>\n",
       "      <td>Crime,Drama,Romance</td>\n",
       "    </tr>\n",
       "    <tr>\n",
       "      <th>2</th>\n",
       "      <td>tt9304196</td>\n",
       "      <td>Crime</td>\n",
       "      <td>The Wrong Crowd</td>\n",
       "      <td>Crime,Drama,Thriller</td>\n",
       "    </tr>\n",
       "    <tr>\n",
       "      <th>3</th>\n",
       "      <td>tt9283478</td>\n",
       "      <td>Crime</td>\n",
       "      <td>Summer Arousal</td>\n",
       "      <td>Comedy,Crime,Mystery</td>\n",
       "    </tr>\n",
       "    <tr>\n",
       "      <th>4</th>\n",
       "      <td>tt9233940</td>\n",
       "      <td>Crime</td>\n",
       "      <td>Toxic Man</td>\n",
       "      <td>Action,Crime,Drama</td>\n",
       "    </tr>\n",
       "    <tr>\n",
       "      <th>...</th>\n",
       "      <td>...</td>\n",
       "      <td>...</td>\n",
       "      <td>...</td>\n",
       "      <td>...</td>\n",
       "    </tr>\n",
       "    <tr>\n",
       "      <th>1459</th>\n",
       "      <td>tt5189828</td>\n",
       "      <td>Western</td>\n",
       "      <td>Mohawk</td>\n",
       "      <td>Action,Drama,History</td>\n",
       "    </tr>\n",
       "    <tr>\n",
       "      <th>1460</th>\n",
       "      <td>tt6334884</td>\n",
       "      <td>Western</td>\n",
       "      <td>Hickok</td>\n",
       "      <td>Western</td>\n",
       "    </tr>\n",
       "    <tr>\n",
       "      <th>1461</th>\n",
       "      <td>tt6243274</td>\n",
       "      <td>Western</td>\n",
       "      <td>County Line</td>\n",
       "      <td>Action,Drama,Western</td>\n",
       "    </tr>\n",
       "    <tr>\n",
       "      <th>1462</th>\n",
       "      <td>tt6217608</td>\n",
       "      <td>Western</td>\n",
       "      <td>The Rider</td>\n",
       "      <td>Drama,Western</td>\n",
       "    </tr>\n",
       "    <tr>\n",
       "      <th>1463</th>\n",
       "      <td>tt5862542</td>\n",
       "      <td>Western</td>\n",
       "      <td>Return to Zion Ranch</td>\n",
       "      <td>Western</td>\n",
       "    </tr>\n",
       "  </tbody>\n",
       "</table>\n",
       "<p>1464 rows × 4 columns</p>\n",
       "</div>"
      ],
      "text/plain": [
       "             id    genre               primaryTitle                genres\n",
       "0     tt9413906    Crime  A Tale of a Day & a Night   Crime,Drama,Mystery\n",
       "1     tt9319530    Crime                      Ma Ma   Crime,Drama,Romance\n",
       "2     tt9304196    Crime            The Wrong Crowd  Crime,Drama,Thriller\n",
       "3     tt9283478    Crime             Summer Arousal  Comedy,Crime,Mystery\n",
       "4     tt9233940    Crime                  Toxic Man    Action,Crime,Drama\n",
       "...         ...      ...                        ...                   ...\n",
       "1459  tt5189828  Western                     Mohawk  Action,Drama,History\n",
       "1460  tt6334884  Western                     Hickok               Western\n",
       "1461  tt6243274  Western                County Line  Action,Drama,Western\n",
       "1462  tt6217608  Western                  The Rider         Drama,Western\n",
       "1463  tt5862542  Western       Return to Zion Ranch               Western\n",
       "\n",
       "[1464 rows x 4 columns]"
      ]
     },
     "execution_count": 11,
     "metadata": {},
     "output_type": "execute_result"
    }
   ],
   "source": [
    "df = pd.read_csv(PATH + 'id_genre.csv', usecols = ['id', 'genre', 'primaryTitle', 'genres'])\n",
    "df"
   ]
  },
  {
   "cell_type": "code",
   "execution_count": 13,
   "metadata": {},
   "outputs": [
    {
     "data": {
      "text/plain": [
       "id              object\n",
       "genre           object\n",
       "primaryTitle    object\n",
       "genres          object\n",
       "dtype: object"
      ]
     },
     "execution_count": 13,
     "metadata": {},
     "output_type": "execute_result"
    }
   ],
   "source": [
    "df.dtypes"
   ]
  },
  {
   "cell_type": "code",
   "execution_count": 33,
   "metadata": {},
   "outputs": [
    {
     "name": "stdout",
     "output_type": "stream",
     "text": [
      "tt9252028 Episodic\n",
      "Horror ['Action', 'Comedy', 'Drama']\n",
      "tt8777272 Days of Solitude\n",
      "War ['Animation', 'Drama', 'Family']\n",
      "tt7665608 Rwanda\n",
      "War ['Action', 'Drama', 'History']\n",
      "tt6996020 Bravery\n",
      "War ['Action', 'Drama', 'History']\n",
      "tt1826956 Operation Ragnarok\n",
      "War ['Action', 'Drama', 'Thriller']\n",
      "tt10505100 Sem par nechistykh\n",
      "War ['Action', 'Adventure', 'Drama']\n",
      "tt9223212 Evrensel Döngü: Yasam Agacina Yolculuk\n",
      "War ['Action', 'Adventure', 'Drama']\n",
      "tt8760550 Nazi Overlord\n",
      "War ['Action', 'Adventure', 'Horror']\n",
      "tt5824110 Wraith of the Umbra and Eidolon\n",
      "War ['Adventure', 'Fantasy', 'Sci-Fi']\n",
      "tt7809816 Henry V\n",
      "War ['Adventure', 'Biography', 'Drama']\n",
      "tt6704776 El fotógrafo de Mauthausen\n",
      "War ['Biography', 'Drama', 'History']\n",
      "tt9415552 Tankers\n",
      "War ['Action', 'Drama', 'History']\n",
      "tt4743226 Air Strike\n",
      "War ['Action', 'Adventure', 'Drama']\n",
      "tt6151592 House of My Fathers\n",
      "War ['Drama', 'Romance', 'Thriller']\n",
      "tt4642192 The Keeper\n",
      "War ['Biography', 'Drama', 'Romance']\n",
      "tt4530422 Overlord\n",
      "War ['Action', 'Adventure', 'Horror']\n",
      "tt3759298 Ashes in the Snow\n",
      "War ['Drama', 'History', 'Romance']\n",
      "tt6931414 The Great Battle\n",
      "War ['Action', 'Drama', 'History']\n",
      "tt7162758 Paltan\n",
      "War ['Action', 'Drama', 'History']\n",
      "tt6679794 Outlaw King\n",
      "War ['Action', 'Biography', 'Drama']\n",
      "tt5094192 Goyo: Ang batang heneral\n",
      "War ['Action', 'Biography', 'History']\n",
      "tt7220640 Oma maa\n",
      "War ['Drama', 'History', 'Romance']\n",
      "tt5208252 Operation Finale\n",
      "War ['Biography', 'Drama', 'History']\n",
      "tt7042862 The Man Who Killed Hitler and Then The Bigfoot\n",
      "War ['Adventure', 'Drama', 'Sci-Fi']\n",
      "tt7355676 Ende Neu\n",
      "War ['Adventure', 'Drama', 'Fantasy']\n",
      "tt8351882 No Surrender\n",
      "War ['Action', 'Crime', 'History']\n",
      "tt6155374 Redbad\n",
      "War ['Action', 'Adventure', 'Drama']\n",
      "tt8237310 The Code\n",
      "War ['Drama', 'History', 'Romance']\n",
      "tt7458714 Mehbooba\n",
      "War ['Action', 'Drama', 'Romance']\n",
      "tt8742774 Mobile Suit Gundam: The Origin VI - Rise of the Red Comet\n",
      "War ['Action', 'Animation', 'Drama']\n",
      "tt5496628 In the Life of Music\n",
      "War ['Drama', 'Family', 'History']\n",
      "tt7473390 Genghis Khan\n",
      "War ['Action', 'Adventure', 'Biography']\n",
      "tt4524418 American Warfighter\n",
      "War ['Action', 'Drama', 'Romance']\n",
      "tt6200656 Kammara Sambhavam\n",
      "War ['Action', 'Comedy', 'Drama']\n",
      "tt8559876 Recovery\n",
      "Action ['\\\\N']\n",
      "tt10077620 Goko Mako\n",
      "Music ['Adventure', 'Comedy', 'Drama']\n",
      "tt5822154 Olavi Virta\n",
      "Music ['Biography', 'Drama', 'History']\n",
      "tt4768586 The Storyteller\n",
      "Music ['Drama', 'Family', 'Fantasy']\n",
      "tt6966692 Green Book\n",
      "Music ['Biography', 'Comedy', 'Drama']\n",
      "tt6098526 A Motion Selfie\n",
      "Music ['Biography', 'Comedy', 'Drama']\n",
      "tt2570500 Fonotune: An Electric Fairytale\n",
      "Music ['Adventure', 'Comedy', 'Drama']\n",
      "tt9417976 Saturday's Children\n",
      "Romance ['Biography', 'Comedy', 'Drama']\n",
      "tt9001482 Believin'\n",
      "Romance ['Comedy', 'Drama', 'Family']\n",
      "tt8531262 Running Water\n",
      "Romance ['Adventure', 'Drama', 'Fantasy']\n",
      "tt8433678 The Third Incursion\n",
      "Romance ['Adventure', 'Drama', 'Fantasy']\n",
      "tt8354064 Tais & Taiane\n",
      "Romance ['Adventure', 'Drama', 'Family']\n",
      "tt8270774 United Colors of Bennett Song\n",
      "Romance ['Comedy', 'Drama', 'Family']\n",
      "tt1319706 Coulda, Woulda, Shoulda\n",
      "Romance ['Comedy', 'Drama', 'Family']\n",
      "tt10341190 Chidi Balla\n",
      "Sport ['Comedy', 'Drama', 'Family']\n",
      "tt9038270 Funke!\n",
      "Sport ['Comedy', 'Drama', 'Family']\n",
      "tt8916694 Pearl\n",
      "Sport ['Drama']\n",
      "tt7526318 Rec Man\n",
      "Sport ['Action', 'Comedy', 'Drama']\n",
      "tt6532374 Swimming with Men\n",
      "Sport ['Comedy', 'Drama', 'Romance']\n",
      "tt8395656 GirlFight: Model Kombat\n",
      "Sport ['Action', 'Adventure', 'Horror']\n",
      "tt4264610 Shifting Gears\n",
      "Sport ['Action', 'Comedy', 'Family']\n",
      "tt7690774 The Falcons\n",
      "Sport ['Comedy', 'Drama', 'Family']\n",
      "tt5844488 Ice\n",
      "Sport ['Drama', 'Musical', 'Romance']\n",
      "tt4701724 Early Man\n",
      "Sport ['Adventure', 'Animation', 'Comedy']\n",
      "tt8819168 Employee's Mystery\n",
      "Thriller ['Drama', 'Fantasy', 'Mystery']\n",
      "tt8012734 Double Riddle\n",
      "Thriller ['Drama', 'Mystery', 'Sci-Fi']\n",
      "tt10384542 The Realm Beyond Reason\n",
      "Sci-Fi ['Animation', 'Comedy', 'Horror']\n",
      "tt7062868 Wakefulness\n",
      "Sci-Fi ['Drama', 'Fantasy', 'Mystery']\n",
      "tt8669354 Throwback Holiday\n",
      "Sci-Fi ['Comedy', 'Drama', 'Family']\n",
      "tt6068406 Galaxy Lords\n",
      "Sci-Fi ['Action', 'Adventure', 'Comedy']\n",
      "tt4633694 Spider-Man: Into the Spider-Verse\n",
      "Sci-Fi ['Action', 'Adventure', 'Animation']\n",
      "tt1571234 Mortal Engines\n",
      "Sci-Fi ['Action', 'Adventure', 'Fantasy']\n",
      "tt8318702 D-Railed\n",
      "Sci-Fi ['Action', 'Adventure', 'Horror']\n",
      "tt1477834 Aquaman\n",
      "Sci-Fi ['Action', 'Adventure', 'Fantasy']\n",
      "tt9341628 End of the World\n",
      "Sci-Fi ['Action', 'Adventure', 'Drama']\n",
      "tt8241148 Dagko na Tawo\n",
      "Sci-Fi ['Drama', 'Horror', 'Mystery']\n",
      "tt7961060 Dragon Ball Super: Broly\n",
      "Sci-Fi ['Action', 'Adventure', 'Animation']\n",
      "tt8685584 Home Cookin: 5.17.18\n",
      "History ['Biography', 'Comedy', 'Family']\n",
      "tt8929946 Rashtraputra\n",
      "History ['Action', 'Biography', 'Drama']\n",
      "tt3385524 Stan & Ollie\n",
      "History ['Biography', 'Comedy', 'Drama']\n",
      "tt7336470 Buñuel in the Labyrinth of the Turtles\n",
      "History ['Animation', 'Biography', 'Drama']\n",
      "tt6941770 Youth Condemn\n",
      "History ['Adventure', 'Comedy', 'Drama']\n",
      "tt5687414 La banda Grossi\n",
      "History ['Adventure', 'Crime', 'Drama']\n",
      "tt7339792 Unbroken: Path to Redemption\n",
      "History ['Biography', 'Drama']\n",
      "tt6058070 Silent Times\n",
      "History ['Comedy', 'Drama', 'Fantasy']\n",
      "tt3289724 Welcome to Marwen\n",
      "Fantasy ['Biography', 'Comedy', 'Drama']\n",
      "tt6250554 Payday\n",
      "Mystery ['Action', 'Crime', 'Drama']\n",
      "tt8723216 Eerie\n",
      "Mystery ['Crime', 'Drama', 'Horror']\n",
      "tt4971344 The Sisters Brothers\n",
      "Western ['Comedy', 'Crime', 'Drama']\n",
      "tt6412452 The Ballad of Buster Scruggs\n",
      "Western ['Comedy', 'Drama', 'Musical']\n",
      "tt7744192 The Decadent and Depraved\n",
      "Western ['Action', 'Adventure', 'Comedy']\n",
      "tt6102318 Iron Brothers\n",
      "Western ['Action', 'Adventure', 'Drama']\n",
      "tt8690450 72hrs the Hague: Western\n",
      "Western ['Action', 'Adventure', 'Comedy']\n",
      "tt5572856 Tournament\n",
      "Western ['Adventure', 'Comedy', 'Fantasy']\n",
      "tt5881528 Damsel\n",
      "Western ['Adventure', 'Comedy', 'Crime']\n",
      "tt7325110 The Mountain Sea\n",
      "Western ['Biography', 'Drama', 'History']\n",
      "tt6098740 Stray Dogs\n",
      "Western ['Crime', 'Drama', 'Mystery']\n",
      "tt3906724 Kepler's Dream\n",
      "Western ['Adventure', 'Drama', 'Family']\n",
      "tt1680140 The Stolen\n",
      "Western ['Action', 'Adventure', 'Drama']\n",
      "tt5639788 The Unseen\n",
      "Western ['Drama', 'Sci-Fi', 'Thriller']\n",
      "tt4116488 Southern Tale\n",
      "Western ['Crime', 'Drama', 'Mystery']\n",
      "tt5081304 Cassidy Red\n",
      "Western ['Action', 'Adventure', 'Drama']\n",
      "tt5684374 Vermijo\n",
      "Western ['Action', 'Adventure', 'Drama']\n",
      "tt7206910 Symphony in Blue\n",
      "Western ['Crime', 'Drama', 'Sci-Fi']\n",
      "tt5436228 Woman Walks Ahead\n",
      "Western ['Biography', 'Drama', 'History']\n",
      "tt6958212 Sweet Country\n",
      "Western ['Adventure', 'Crime', 'Drama']\n",
      "tt5591786 Escape from Stalin's Death Camp\n",
      "Western ['Biography', 'Drama', 'History']\n",
      "tt1648190 The Dark Tower\n",
      "Western ['Action', 'Adventure', 'Fantasy']\n",
      "tt5189828 Mohawk\n",
      "Western ['Action', 'Drama', 'History']\n"
     ]
    }
   ],
   "source": [
    "# Check if genre in genres\n",
    "for i, row in df.iterrows():\n",
    "    g = row['genre']\n",
    "    gs = row['genres']\n",
    "    gs = gs.split(',')\n",
    "    \n",
    "    if not g in gs:\n",
    "        print(row['id'], row['primaryTitle'])\n",
    "        print(g, gs)"
   ]
  },
  {
   "cell_type": "code",
   "execution_count": 9,
   "metadata": {
    "scrolled": true
   },
   "outputs": [
    {
     "name": "stdout",
     "output_type": "stream",
     "text": [
      "isntitromantic\n",
      "overcomermovie\n",
      "gretafilm\n",
      "onceinhollywood\n",
      "onthebasisofsex\n",
      "beachbummovie\n",
      "latenightmovie\n",
      "rocketmanmovie\n",
      "teenspiritmov\n",
      "disneyaladdin\n",
      "uglydolls\n",
      "tolkienmovie\n",
      "blindedbythelightmovie\n",
      "hotelmumbaifilm\n",
      "lastblackmansf\n",
      "stubermovie\n",
      "bernadettefilm\n",
      "spidermanmovie\n",
      "dumbo\n",
      "lalloronamovie\n",
      "johnwickmovie\n",
      "childsplaymovie\n",
      "annamovie\n",
      "serenityfilm\n",
      "hersmellmovie\n",
      "gloriabellmovie\n",
      "doramovie\n",
      "hellboymovie\n",
      "avengers\n",
      "detectivepikachumovie\n",
      "themustangfilm\n",
      "missinglinkfilm\n",
      "coldpursuitmovie\n",
      "longshotmovie\n",
      "triplefrontier\n",
      "brittanyrunsmov\n",
      "47metersdown\n",
      "thehummingbirdprojectfilm\n",
      "annabellemovie\n",
      "theupsidefilm\n",
      "lionking\n",
      "scarystoriesmovie\n",
      "angelhasfallen\n",
      "everybodyknowsmovie\n",
      "fastandfuriousmovie\n",
      "glassmovie\n",
      "artofracingmovie\n",
      "missbalamovie\n",
      "toystory\n",
      "brianbanksmovie\n",
      "brightburnmovie\n",
      "booksmart\n",
      "fightingwmyfam\n",
      "theintrudermovie\n",
      "happydeathdaymovie\n",
      "midsommarmovie\n",
      "mamovie2019\n",
      "wonderparkmovie\n",
      "shazammovie\n",
      "meninblack\n",
      "whatmenwant\n",
      "thekitchenmovie\n",
      "xmenmovies\n",
      "highlifemovie\n",
      "hustlemovie\n",
      "thedeaddontdie\n",
      "escaperoom\n",
      "breakthroughmovie\n",
      "littlewoodsfilm\n",
      "thesunisalsoastar\n",
      "thelegomovie\n",
      "aftermovie\n",
      "underthesilverlake\n",
      "thebestofenemies\n",
      "shaftmovie\n",
      "captainmarvelofficial\n",
      "apollo11movie\n",
      "taosdfilm\n",
      "usmovie\n",
      "captivestatemovie\n",
      "goodboysmovie\n",
      "clarathefilm\n",
      "petsematarymovie\n",
      "aftermathmovie\n",
      "secretlifeofpets\n",
      "godzillamovie\n",
      "angrybirdsmovie\n",
      "theprodigymovie\n",
      "arcticmovie\n",
      "thefarewell\n",
      "alitamovie\n",
      "adogsjourneymovie\n",
      "pomsmovie\n",
      "yesterdaymovie\n",
      "httydragon\n",
      "littlethemovie\n",
      "fivefeetapartfilm\n"
     ]
    }
   ],
   "source": [
    "li = []\n",
    "for folder in os.listdir(PATH):\n",
    "    print(folder)\n",
    "    src = PATH + folder + '/trailer.mp4'\n",
    "    name = folder + '.mp4'\n",
    "    dst = TRAILER + name\n",
    "    shutil.copy(src, dst)\n",
    "    li.append([name] + genresMat[folder])"
   ]
  },
  {
   "cell_type": "code",
   "execution_count": 11,
   "metadata": {
    "scrolled": true
   },
   "outputs": [
    {
     "data": {
      "text/html": [
       "<div>\n",
       "<style scoped>\n",
       "    .dataframe tbody tr th:only-of-type {\n",
       "        vertical-align: middle;\n",
       "    }\n",
       "\n",
       "    .dataframe tbody tr th {\n",
       "        vertical-align: top;\n",
       "    }\n",
       "\n",
       "    .dataframe thead th {\n",
       "        text-align: right;\n",
       "    }\n",
       "</style>\n",
       "<table border=\"1\" class=\"dataframe\">\n",
       "  <thead>\n",
       "    <tr style=\"text-align: right;\">\n",
       "      <th></th>\n",
       "      <th>filename</th>\n",
       "      <th>Action</th>\n",
       "      <th>Adventure</th>\n",
       "      <th>Animation</th>\n",
       "      <th>Biography</th>\n",
       "      <th>Comedy</th>\n",
       "      <th>Crime</th>\n",
       "      <th>Documentary</th>\n",
       "      <th>Drama</th>\n",
       "      <th>Family</th>\n",
       "      <th>...</th>\n",
       "      <th>History</th>\n",
       "      <th>Horror</th>\n",
       "      <th>Music</th>\n",
       "      <th>Mystery</th>\n",
       "      <th>Romance</th>\n",
       "      <th>Sci-Fi</th>\n",
       "      <th>Sport</th>\n",
       "      <th>Thriller</th>\n",
       "      <th>War</th>\n",
       "      <th>Western</th>\n",
       "    </tr>\n",
       "  </thead>\n",
       "  <tbody>\n",
       "    <tr>\n",
       "      <th>36</th>\n",
       "      <td>47metersdown.mp4</td>\n",
       "      <td>0</td>\n",
       "      <td>1</td>\n",
       "      <td>0</td>\n",
       "      <td>0</td>\n",
       "      <td>0</td>\n",
       "      <td>0</td>\n",
       "      <td>0</td>\n",
       "      <td>1</td>\n",
       "      <td>0</td>\n",
       "      <td>...</td>\n",
       "      <td>0</td>\n",
       "      <td>1</td>\n",
       "      <td>0</td>\n",
       "      <td>0</td>\n",
       "      <td>0</td>\n",
       "      <td>0</td>\n",
       "      <td>0</td>\n",
       "      <td>0</td>\n",
       "      <td>0</td>\n",
       "      <td>0</td>\n",
       "    </tr>\n",
       "    <tr>\n",
       "      <th>91</th>\n",
       "      <td>adogsjourneymovie.mp4</td>\n",
       "      <td>0</td>\n",
       "      <td>1</td>\n",
       "      <td>0</td>\n",
       "      <td>0</td>\n",
       "      <td>1</td>\n",
       "      <td>0</td>\n",
       "      <td>0</td>\n",
       "      <td>1</td>\n",
       "      <td>0</td>\n",
       "      <td>...</td>\n",
       "      <td>0</td>\n",
       "      <td>0</td>\n",
       "      <td>0</td>\n",
       "      <td>0</td>\n",
       "      <td>0</td>\n",
       "      <td>0</td>\n",
       "      <td>0</td>\n",
       "      <td>0</td>\n",
       "      <td>0</td>\n",
       "      <td>0</td>\n",
       "    </tr>\n",
       "    <tr>\n",
       "      <th>83</th>\n",
       "      <td>aftermathmovie.mp4</td>\n",
       "      <td>0</td>\n",
       "      <td>0</td>\n",
       "      <td>0</td>\n",
       "      <td>0</td>\n",
       "      <td>0</td>\n",
       "      <td>0</td>\n",
       "      <td>0</td>\n",
       "      <td>1</td>\n",
       "      <td>0</td>\n",
       "      <td>...</td>\n",
       "      <td>0</td>\n",
       "      <td>0</td>\n",
       "      <td>0</td>\n",
       "      <td>0</td>\n",
       "      <td>1</td>\n",
       "      <td>0</td>\n",
       "      <td>0</td>\n",
       "      <td>0</td>\n",
       "      <td>1</td>\n",
       "      <td>0</td>\n",
       "    </tr>\n",
       "    <tr>\n",
       "      <th>71</th>\n",
       "      <td>aftermovie.mp4</td>\n",
       "      <td>0</td>\n",
       "      <td>0</td>\n",
       "      <td>0</td>\n",
       "      <td>0</td>\n",
       "      <td>0</td>\n",
       "      <td>0</td>\n",
       "      <td>0</td>\n",
       "      <td>1</td>\n",
       "      <td>0</td>\n",
       "      <td>...</td>\n",
       "      <td>0</td>\n",
       "      <td>0</td>\n",
       "      <td>0</td>\n",
       "      <td>0</td>\n",
       "      <td>1</td>\n",
       "      <td>0</td>\n",
       "      <td>0</td>\n",
       "      <td>0</td>\n",
       "      <td>0</td>\n",
       "      <td>0</td>\n",
       "    </tr>\n",
       "    <tr>\n",
       "      <th>90</th>\n",
       "      <td>alitamovie.mp4</td>\n",
       "      <td>1</td>\n",
       "      <td>1</td>\n",
       "      <td>0</td>\n",
       "      <td>0</td>\n",
       "      <td>0</td>\n",
       "      <td>0</td>\n",
       "      <td>0</td>\n",
       "      <td>0</td>\n",
       "      <td>0</td>\n",
       "      <td>...</td>\n",
       "      <td>0</td>\n",
       "      <td>0</td>\n",
       "      <td>0</td>\n",
       "      <td>0</td>\n",
       "      <td>0</td>\n",
       "      <td>1</td>\n",
       "      <td>0</td>\n",
       "      <td>0</td>\n",
       "      <td>0</td>\n",
       "      <td>0</td>\n",
       "    </tr>\n",
       "    <tr>\n",
       "      <th>...</th>\n",
       "      <td>...</td>\n",
       "      <td>...</td>\n",
       "      <td>...</td>\n",
       "      <td>...</td>\n",
       "      <td>...</td>\n",
       "      <td>...</td>\n",
       "      <td>...</td>\n",
       "      <td>...</td>\n",
       "      <td>...</td>\n",
       "      <td>...</td>\n",
       "      <td>...</td>\n",
       "      <td>...</td>\n",
       "      <td>...</td>\n",
       "      <td>...</td>\n",
       "      <td>...</td>\n",
       "      <td>...</td>\n",
       "      <td>...</td>\n",
       "      <td>...</td>\n",
       "      <td>...</td>\n",
       "      <td>...</td>\n",
       "      <td>...</td>\n",
       "    </tr>\n",
       "    <tr>\n",
       "      <th>78</th>\n",
       "      <td>usmovie.mp4</td>\n",
       "      <td>0</td>\n",
       "      <td>0</td>\n",
       "      <td>0</td>\n",
       "      <td>0</td>\n",
       "      <td>0</td>\n",
       "      <td>0</td>\n",
       "      <td>0</td>\n",
       "      <td>0</td>\n",
       "      <td>0</td>\n",
       "      <td>...</td>\n",
       "      <td>0</td>\n",
       "      <td>1</td>\n",
       "      <td>0</td>\n",
       "      <td>1</td>\n",
       "      <td>0</td>\n",
       "      <td>0</td>\n",
       "      <td>0</td>\n",
       "      <td>1</td>\n",
       "      <td>0</td>\n",
       "      <td>0</td>\n",
       "    </tr>\n",
       "    <tr>\n",
       "      <th>60</th>\n",
       "      <td>whatmenwant.mp4</td>\n",
       "      <td>0</td>\n",
       "      <td>0</td>\n",
       "      <td>0</td>\n",
       "      <td>0</td>\n",
       "      <td>1</td>\n",
       "      <td>0</td>\n",
       "      <td>0</td>\n",
       "      <td>0</td>\n",
       "      <td>0</td>\n",
       "      <td>...</td>\n",
       "      <td>0</td>\n",
       "      <td>0</td>\n",
       "      <td>0</td>\n",
       "      <td>0</td>\n",
       "      <td>1</td>\n",
       "      <td>0</td>\n",
       "      <td>0</td>\n",
       "      <td>0</td>\n",
       "      <td>0</td>\n",
       "      <td>0</td>\n",
       "    </tr>\n",
       "    <tr>\n",
       "      <th>57</th>\n",
       "      <td>wonderparkmovie.mp4</td>\n",
       "      <td>0</td>\n",
       "      <td>1</td>\n",
       "      <td>1</td>\n",
       "      <td>0</td>\n",
       "      <td>1</td>\n",
       "      <td>0</td>\n",
       "      <td>0</td>\n",
       "      <td>0</td>\n",
       "      <td>0</td>\n",
       "      <td>...</td>\n",
       "      <td>0</td>\n",
       "      <td>0</td>\n",
       "      <td>0</td>\n",
       "      <td>0</td>\n",
       "      <td>0</td>\n",
       "      <td>0</td>\n",
       "      <td>0</td>\n",
       "      <td>0</td>\n",
       "      <td>0</td>\n",
       "      <td>0</td>\n",
       "    </tr>\n",
       "    <tr>\n",
       "      <th>62</th>\n",
       "      <td>xmenmovies.mp4</td>\n",
       "      <td>1</td>\n",
       "      <td>1</td>\n",
       "      <td>0</td>\n",
       "      <td>0</td>\n",
       "      <td>0</td>\n",
       "      <td>0</td>\n",
       "      <td>0</td>\n",
       "      <td>0</td>\n",
       "      <td>0</td>\n",
       "      <td>...</td>\n",
       "      <td>0</td>\n",
       "      <td>0</td>\n",
       "      <td>0</td>\n",
       "      <td>0</td>\n",
       "      <td>0</td>\n",
       "      <td>1</td>\n",
       "      <td>0</td>\n",
       "      <td>0</td>\n",
       "      <td>0</td>\n",
       "      <td>0</td>\n",
       "    </tr>\n",
       "    <tr>\n",
       "      <th>93</th>\n",
       "      <td>yesterdaymovie.mp4</td>\n",
       "      <td>0</td>\n",
       "      <td>0</td>\n",
       "      <td>0</td>\n",
       "      <td>0</td>\n",
       "      <td>1</td>\n",
       "      <td>0</td>\n",
       "      <td>0</td>\n",
       "      <td>0</td>\n",
       "      <td>0</td>\n",
       "      <td>...</td>\n",
       "      <td>0</td>\n",
       "      <td>0</td>\n",
       "      <td>1</td>\n",
       "      <td>0</td>\n",
       "      <td>0</td>\n",
       "      <td>0</td>\n",
       "      <td>0</td>\n",
       "      <td>0</td>\n",
       "      <td>0</td>\n",
       "      <td>0</td>\n",
       "    </tr>\n",
       "  </tbody>\n",
       "</table>\n",
       "<p>97 rows × 21 columns</p>\n",
       "</div>"
      ],
      "text/plain": [
       "                 filename  Action  Adventure  Animation  Biography  Comedy  \\\n",
       "36       47metersdown.mp4       0          1          0          0       0   \n",
       "91  adogsjourneymovie.mp4       0          1          0          0       1   \n",
       "83     aftermathmovie.mp4       0          0          0          0       0   \n",
       "71         aftermovie.mp4       0          0          0          0       0   \n",
       "90         alitamovie.mp4       1          1          0          0       0   \n",
       "..                    ...     ...        ...        ...        ...     ...   \n",
       "78            usmovie.mp4       0          0          0          0       0   \n",
       "60        whatmenwant.mp4       0          0          0          0       1   \n",
       "57    wonderparkmovie.mp4       0          1          1          0       1   \n",
       "62         xmenmovies.mp4       1          1          0          0       0   \n",
       "93     yesterdaymovie.mp4       0          0          0          0       1   \n",
       "\n",
       "    Crime  Documentary  Drama  Family  ...  History  Horror  Music  Mystery  \\\n",
       "36      0            0      1       0  ...        0       1      0        0   \n",
       "91      0            0      1       0  ...        0       0      0        0   \n",
       "83      0            0      1       0  ...        0       0      0        0   \n",
       "71      0            0      1       0  ...        0       0      0        0   \n",
       "90      0            0      0       0  ...        0       0      0        0   \n",
       "..    ...          ...    ...     ...  ...      ...     ...    ...      ...   \n",
       "78      0            0      0       0  ...        0       1      0        1   \n",
       "60      0            0      0       0  ...        0       0      0        0   \n",
       "57      0            0      0       0  ...        0       0      0        0   \n",
       "62      0            0      0       0  ...        0       0      0        0   \n",
       "93      0            0      0       0  ...        0       0      1        0   \n",
       "\n",
       "    Romance  Sci-Fi  Sport  Thriller  War  Western  \n",
       "36        0       0      0         0    0        0  \n",
       "91        0       0      0         0    0        0  \n",
       "83        1       0      0         0    1        0  \n",
       "71        1       0      0         0    0        0  \n",
       "90        0       1      0         0    0        0  \n",
       "..      ...     ...    ...       ...  ...      ...  \n",
       "78        0       0      0         1    0        0  \n",
       "60        1       0      0         0    0        0  \n",
       "57        0       0      0         0    0        0  \n",
       "62        0       1      0         0    0        0  \n",
       "93        0       0      0         0    0        0  \n",
       "\n",
       "[97 rows x 21 columns]"
      ]
     },
     "execution_count": 11,
     "metadata": {},
     "output_type": "execute_result"
    }
   ],
   "source": [
    "df=pd.DataFrame(li, columns = ['filename'] + genres).sort_values(by=['filename'])\n",
    "df"
   ]
  },
  {
   "cell_type": "code",
   "execution_count": 12,
   "metadata": {
    "scrolled": true
   },
   "outputs": [],
   "source": [
    "df.to_csv('./filename2genreMat.csv', index=False)"
   ]
  },
  {
   "cell_type": "markdown",
   "metadata": {},
   "source": [
    "# Makedir SplitTrailers/"
   ]
  },
  {
   "cell_type": "code",
   "execution_count": 11,
   "metadata": {
    "scrolled": true
   },
   "outputs": [],
   "source": [
    "PATH = './Trailers/'\n",
    "TRAILER = './SplitTrailers/'\n",
    "newPath(TRAILER)"
   ]
  },
  {
   "cell_type": "code",
   "execution_count": 6,
   "metadata": {
    "scrolled": true
   },
   "outputs": [],
   "source": [
    "from __future__ import print_function\n",
    "import scenedetect\n",
    "from scenedetect.video_manager import VideoManager\n",
    "from scenedetect.scene_manager import SceneManager\n",
    "from scenedetect.frame_timecode import FrameTimecode\n",
    "from scenedetect.stats_manager import StatsManager\n",
    "from scenedetect.detectors import ContentDetector\n",
    "import cv2     # for capturing videos"
   ]
  },
  {
   "cell_type": "code",
   "execution_count": 13,
   "metadata": {
    "scrolled": true
   },
   "outputs": [
    {
     "name": "stderr",
     "output_type": "stream",
     "text": [
      "  1%|          | 29/3839 [00:00<00:13, 284.44frames/s]"
     ]
    },
    {
     "name": "stdout",
     "output_type": "stream",
     "text": [
      "hellboymovie.mp4 hellboymovie\n",
      "1280 x 720 FPS: 23.976023976023978 3839.0\n"
     ]
    },
    {
     "name": "stderr",
     "output_type": "stream",
     "text": [
      "100%|██████████| 3839/3839 [00:10<00:00, 355.15frames/s]\n"
     ]
    },
    {
     "name": "stdout",
     "output_type": "stream",
     "text": [
      "Scene count: 101\n",
      "Progerss:99.97%\r"
     ]
    },
    {
     "name": "stderr",
     "output_type": "stream",
     "text": [
      "  0%|          | 0/4560 [00:00<?, ?frames/s]"
     ]
    },
    {
     "name": "stdout",
     "output_type": "stream",
     "text": [
      "yesterdaymovie.mp4 yesterdaymovie\n",
      "1280 x 720 FPS: 23.976023976023978 4560.0\n"
     ]
    },
    {
     "name": "stderr",
     "output_type": "stream",
     "text": [
      "100%|██████████| 4560/4560 [00:11<00:00, 380.77frames/s]"
     ]
    },
    {
     "name": "stdout",
     "output_type": "stream",
     "text": [
      "Scene count: 143\n",
      "Progerss:0.09%\r"
     ]
    },
    {
     "name": "stderr",
     "output_type": "stream",
     "text": [
      "\n"
     ]
    },
    {
     "name": "stdout",
     "output_type": "stream",
     "text": [
      "Progerss:99.98%\r"
     ]
    },
    {
     "name": "stderr",
     "output_type": "stream",
     "text": [
      "  0%|          | 0/4067 [00:00<?, ?frames/s]"
     ]
    },
    {
     "name": "stdout",
     "output_type": "stream",
     "text": [
      "arcticmovie.mp4 arcticmovie\n",
      "1280 x 720 FPS: 23.976023976023978 4067.0\n"
     ]
    },
    {
     "name": "stderr",
     "output_type": "stream",
     "text": [
      "100%|██████████| 4067/4067 [00:10<00:00, 383.25frames/s]\n"
     ]
    },
    {
     "name": "stdout",
     "output_type": "stream",
     "text": [
      "Scene count: 56\n",
      "pomsmovie.mp4 pomsmovie\n"
     ]
    },
    {
     "name": "stderr",
     "output_type": "stream",
     "text": [
      "  0%|          | 0/3881 [00:00<?, ?frames/s]"
     ]
    },
    {
     "name": "stdout",
     "output_type": "stream",
     "text": [
      "1280 x 720 FPS: 23.976023976023978 3881.0\n"
     ]
    },
    {
     "name": "stderr",
     "output_type": "stream",
     "text": [
      "100%|██████████| 3881/3881 [00:10<00:00, 372.45frames/s]"
     ]
    },
    {
     "name": "stdout",
     "output_type": "stream",
     "text": [
      "Scene count: 131\n",
      "Progerss:0.10%\r"
     ]
    },
    {
     "name": "stderr",
     "output_type": "stream",
     "text": [
      "\n"
     ]
    },
    {
     "name": "stdout",
     "output_type": "stream",
     "text": [
      "breakthroughmovie.mp4 breakthroughmovie\n"
     ]
    },
    {
     "name": "stderr",
     "output_type": "stream",
     "text": [
      "  0%|          | 0/4834 [00:00<?, ?frames/s]"
     ]
    },
    {
     "name": "stdout",
     "output_type": "stream",
     "text": [
      "1280 x 720 FPS: 30.0 4834.0\n"
     ]
    },
    {
     "name": "stderr",
     "output_type": "stream",
     "text": [
      "100%|██████████| 4834/4834 [00:12<00:00, 379.52frames/s]"
     ]
    },
    {
     "name": "stdout",
     "output_type": "stream",
     "text": [
      "Scene count: 113\n",
      "Progerss:0.02%\r"
     ]
    },
    {
     "name": "stderr",
     "output_type": "stream",
     "text": [
      "\n"
     ]
    },
    {
     "name": "stdout",
     "output_type": "stream",
     "text": [
      "teenspiritmov.mp4 teenspiritmov\n"
     ]
    },
    {
     "name": "stderr",
     "output_type": "stream",
     "text": [
      "  0%|          | 0/3462 [00:00<?, ?frames/s]"
     ]
    },
    {
     "name": "stdout",
     "output_type": "stream",
     "text": [
      "1280 x 720 FPS: 23.976023976023978 3462.0\n"
     ]
    },
    {
     "name": "stderr",
     "output_type": "stream",
     "text": [
      "100%|██████████| 3462/3462 [00:09<00:00, 359.06frames/s]"
     ]
    },
    {
     "name": "stdout",
     "output_type": "stream",
     "text": [
      "Scene count: 86\n",
      "Progerss:0.03%\r"
     ]
    },
    {
     "name": "stderr",
     "output_type": "stream",
     "text": [
      "\n"
     ]
    },
    {
     "name": "stdout",
     "output_type": "stream",
     "text": [
      "highlifemovie.mp4 highlifemovie\n"
     ]
    },
    {
     "name": "stderr",
     "output_type": "stream",
     "text": [
      "  0%|          | 0/3433 [00:00<?, ?frames/s]"
     ]
    },
    {
     "name": "stdout",
     "output_type": "stream",
     "text": [
      "1280 x 720 FPS: 23.976023976023978 3433.0\n"
     ]
    },
    {
     "name": "stderr",
     "output_type": "stream",
     "text": [
      "100%|██████████| 3433/3433 [00:09<00:00, 381.35frames/s]"
     ]
    },
    {
     "name": "stdout",
     "output_type": "stream",
     "text": [
      "Scene count: 79\n",
      "Progerss:0.03%\r"
     ]
    },
    {
     "name": "stderr",
     "output_type": "stream",
     "text": [
      "\n"
     ]
    },
    {
     "name": "stdout",
     "output_type": "stream",
     "text": [
      "doramovie.mp4 doramovie\n"
     ]
    },
    {
     "name": "stderr",
     "output_type": "stream",
     "text": [
      "  0%|          | 0/3597 [00:00<?, ?frames/s]"
     ]
    },
    {
     "name": "stdout",
     "output_type": "stream",
     "text": [
      "1280 x 720 FPS: 23.976023976023978 3597.0\n"
     ]
    },
    {
     "name": "stderr",
     "output_type": "stream",
     "text": [
      "100%|██████████| 3597/3597 [00:11<00:00, 320.74frames/s]\n"
     ]
    },
    {
     "name": "stdout",
     "output_type": "stream",
     "text": [
      "Scene count: 133\n",
      "longshotmovie.mp4 longshotmovie\n"
     ]
    },
    {
     "name": "stderr",
     "output_type": "stream",
     "text": [
      "  0%|          | 0/4004 [00:00<?, ?frames/s]"
     ]
    },
    {
     "name": "stdout",
     "output_type": "stream",
     "text": [
      "1280 x 720 FPS: 23.976023976023978 4004.0\n"
     ]
    },
    {
     "name": "stderr",
     "output_type": "stream",
     "text": [
      "100%|██████████| 4004/4004 [00:10<00:00, 387.44frames/s]\n"
     ]
    },
    {
     "name": "stdout",
     "output_type": "stream",
     "text": [
      "Scene count: 116\n",
      "xmenmovies.mp4 xmenmovies\n",
      "1280 x 720 FPS: 23.976023976023978 2950.0\n"
     ]
    },
    {
     "name": "stderr",
     "output_type": "stream",
     "text": [
      "100%|██████████| 2950/2950 [00:07<00:00, 380.62frames/s]"
     ]
    },
    {
     "name": "stdout",
     "output_type": "stream",
     "text": [
      "Scene count: 71\n",
      "Progerss:0.10%\r"
     ]
    },
    {
     "name": "stderr",
     "output_type": "stream",
     "text": [
      "\n"
     ]
    },
    {
     "name": "stdout",
     "output_type": "stream",
     "text": [
      "bernadettefilm.mp4 bernadettefilm\n"
     ]
    },
    {
     "name": "stderr",
     "output_type": "stream",
     "text": [
      "  0%|          | 0/3786 [00:00<?, ?frames/s]"
     ]
    },
    {
     "name": "stdout",
     "output_type": "stream",
     "text": [
      "1280 x 720 FPS: 23.976023976023978 3786.0\n"
     ]
    },
    {
     "name": "stderr",
     "output_type": "stream",
     "text": [
      "100%|██████████| 3786/3786 [00:10<00:00, 376.07frames/s]\n"
     ]
    },
    {
     "name": "stdout",
     "output_type": "stream",
     "text": [
      "Scene count: 108\n",
      "serenityfilm.mp4 serenityfilm\n"
     ]
    },
    {
     "name": "stderr",
     "output_type": "stream",
     "text": [
      "  0%|          | 0/2199 [00:00<?, ?frames/s]"
     ]
    },
    {
     "name": "stdout",
     "output_type": "stream",
     "text": [
      "1280 x 720 FPS: 23.976023976023978 2199.0\n"
     ]
    },
    {
     "name": "stderr",
     "output_type": "stream",
     "text": [
      "100%|██████████| 2199/2199 [00:05<00:00, 387.81frames/s]"
     ]
    },
    {
     "name": "stdout",
     "output_type": "stream",
     "text": [
      "Scene count: 70\n",
      "Progerss:0.05%\r"
     ]
    },
    {
     "name": "stderr",
     "output_type": "stream",
     "text": [
      "\n"
     ]
    },
    {
     "name": "stdout",
     "output_type": "stream",
     "text": [
      "dumbo.mp4 dumbo\n",
      "1280 x 690 FPS: 23.976023976023978 3378.0\n"
     ]
    },
    {
     "name": "stderr",
     "output_type": "stream",
     "text": [
      "100%|██████████| 3378/3378 [00:08<00:00, 397.61frames/s]"
     ]
    },
    {
     "name": "stdout",
     "output_type": "stream",
     "text": [
      "Scene count: 88\n",
      "Progerss:0.03%\r"
     ]
    },
    {
     "name": "stderr",
     "output_type": "stream",
     "text": [
      "\n"
     ]
    },
    {
     "name": "stdout",
     "output_type": "stream",
     "text": [
      "thebestofenemies.mp4 thebestofenemies\n"
     ]
    },
    {
     "name": "stderr",
     "output_type": "stream",
     "text": [
      "  0%|          | 0/3866 [00:00<?, ?frames/s]"
     ]
    },
    {
     "name": "stdout",
     "output_type": "stream",
     "text": [
      "1280 x 720 FPS: 23.976024802099946 3866.0\n"
     ]
    },
    {
     "name": "stderr",
     "output_type": "stream",
     "text": [
      "100%|██████████| 3866/3866 [00:10<00:00, 386.21frames/s]"
     ]
    },
    {
     "name": "stdout",
     "output_type": "stream",
     "text": [
      "Scene count: 101\n",
      "Progerss:0.10%\r"
     ]
    },
    {
     "name": "stderr",
     "output_type": "stream",
     "text": [
      "\n"
     ]
    },
    {
     "name": "stdout",
     "output_type": "stream",
     "text": [
      "lalloronamovie.mp4 lalloronamovie\n"
     ]
    },
    {
     "name": "stderr",
     "output_type": "stream",
     "text": [
      "  0%|          | 0/3456 [00:00<?, ?frames/s]"
     ]
    },
    {
     "name": "stdout",
     "output_type": "stream",
     "text": [
      "1280 x 720 FPS: 23.976023976023978 3456.0\n"
     ]
    },
    {
     "name": "stderr",
     "output_type": "stream",
     "text": [
      "100%|██████████| 3456/3456 [00:09<00:00, 381.86frames/s]\n"
     ]
    },
    {
     "name": "stdout",
     "output_type": "stream",
     "text": [
      "Scene count: 45\n",
      "glassmovie.mp4 glassmovie\n",
      "1280 x 720 FPS: 23.976023976023978 4142.0\n"
     ]
    },
    {
     "name": "stderr",
     "output_type": "stream",
     "text": [
      "100%|██████████| 4142/4142 [00:10<00:00, 394.75frames/s]"
     ]
    },
    {
     "name": "stdout",
     "output_type": "stream",
     "text": [
      "Scene count: 77\n",
      "Progerss:0.10%\r"
     ]
    },
    {
     "name": "stderr",
     "output_type": "stream",
     "text": [
      "\n"
     ]
    },
    {
     "name": "stdout",
     "output_type": "stream",
     "text": [
      "hersmellmovie.mp4 hersmellmovie\n"
     ]
    },
    {
     "name": "stderr",
     "output_type": "stream",
     "text": [
      "  0%|          | 0/2652 [00:00<?, ?frames/s]"
     ]
    },
    {
     "name": "stdout",
     "output_type": "stream",
     "text": [
      "1280 x 720 FPS: 23.976023976023978 2652.0\n"
     ]
    },
    {
     "name": "stderr",
     "output_type": "stream",
     "text": [
      "100%|██████████| 2652/2652 [00:06<00:00, 388.97frames/s]\n"
     ]
    },
    {
     "name": "stdout",
     "output_type": "stream",
     "text": [
      "Scene count: 64\n",
      "hotelmumbaifilm.mp4 hotelmumbaifilm\n"
     ]
    },
    {
     "name": "stderr",
     "output_type": "stream",
     "text": [
      "  0%|          | 0/5992 [00:00<?, ?frames/s]"
     ]
    },
    {
     "name": "stdout",
     "output_type": "stream",
     "text": [
      "1280 x 720 FPS: 29.97002997002997 5992.0\n"
     ]
    },
    {
     "name": "stderr",
     "output_type": "stream",
     "text": [
      "100%|██████████| 5992/5992 [00:15<00:00, 388.59frames/s]\n"
     ]
    },
    {
     "name": "stdout",
     "output_type": "stream",
     "text": [
      "Scene count: 44\n",
      "mamovie2019.mp4 mamovie2019\n",
      "1280 x 720 FPS: 23.976023976023978 3566.0\n"
     ]
    },
    {
     "name": "stderr",
     "output_type": "stream",
     "text": [
      "100%|██████████| 3566/3566 [00:09<00:00, 385.58frames/s]\n"
     ]
    },
    {
     "name": "stdout",
     "output_type": "stream",
     "text": [
      "Scene count: 125\n",
      "brianbanksmovie.mp4 brianbanksmovie\n",
      "1280 x 720 FPS: 23.976023976023978 3189.0\n"
     ]
    },
    {
     "name": "stderr",
     "output_type": "stream",
     "text": [
      "100%|██████████| 3189/3189 [00:08<00:00, 388.93frames/s]"
     ]
    },
    {
     "name": "stdout",
     "output_type": "stream",
     "text": [
      "Scene count: 102\n",
      "Progerss:0.03%\r"
     ]
    },
    {
     "name": "stderr",
     "output_type": "stream",
     "text": [
      "\n"
     ]
    },
    {
     "name": "stdout",
     "output_type": "stream",
     "text": [
      "theintrudermovie.mp4 theintrudermovie\n"
     ]
    },
    {
     "name": "stderr",
     "output_type": "stream",
     "text": [
      "  0%|          | 0/3790 [00:00<?, ?frames/s]"
     ]
    },
    {
     "name": "stdout",
     "output_type": "stream",
     "text": [
      "1280 x 720 FPS: 23.976023976023978 3790.0\n"
     ]
    },
    {
     "name": "stderr",
     "output_type": "stream",
     "text": [
      "100%|██████████| 3790/3790 [00:09<00:00, 388.05frames/s]\n"
     ]
    },
    {
     "name": "stdout",
     "output_type": "stream",
     "text": [
      "Scene count: 98\n",
      "clarathefilm.mp4 clarathefilm\n"
     ]
    },
    {
     "name": "stderr",
     "output_type": "stream",
     "text": [
      "  0%|          | 0/2936 [00:00<?, ?frames/s]"
     ]
    },
    {
     "name": "stdout",
     "output_type": "stream",
     "text": [
      "1280 x 536 FPS: 23.976023976023978 2936.0\n"
     ]
    },
    {
     "name": "stderr",
     "output_type": "stream",
     "text": [
      "100%|██████████| 2936/2936 [00:05<00:00, 516.44frames/s]"
     ]
    },
    {
     "name": "stdout",
     "output_type": "stream",
     "text": [
      "Scene count: 94\n",
      "Progerss:0.24%\r"
     ]
    },
    {
     "name": "stderr",
     "output_type": "stream",
     "text": [
      "\n"
     ]
    },
    {
     "name": "stdout",
     "output_type": "stream",
     "text": [
      "goodboysmovie.mp4 goodboysmovie\n"
     ]
    },
    {
     "name": "stderr",
     "output_type": "stream",
     "text": [
      "  0%|          | 0/3490 [00:00<?, ?frames/s]"
     ]
    },
    {
     "name": "stdout",
     "output_type": "stream",
     "text": [
      "1280 x 720 FPS: 23.976023976023978 3490.0\n"
     ]
    },
    {
     "name": "stderr",
     "output_type": "stream",
     "text": [
      "100%|██████████| 3490/3490 [00:09<00:00, 385.68frames/s]\n"
     ]
    },
    {
     "name": "stdout",
     "output_type": "stream",
     "text": [
      "Scene count: 113\n",
      "alitamovie.mp4 alitamovie\n"
     ]
    },
    {
     "name": "stderr",
     "output_type": "stream",
     "text": [
      "  0%|          | 0/3650 [00:00<?, ?frames/s]"
     ]
    },
    {
     "name": "stdout",
     "output_type": "stream",
     "text": [
      "1280 x 720 FPS: 23.976023976023978 3650.0\n"
     ]
    },
    {
     "name": "stderr",
     "output_type": "stream",
     "text": [
      "100%|██████████| 3650/3650 [00:09<00:00, 381.42frames/s]"
     ]
    },
    {
     "name": "stdout",
     "output_type": "stream",
     "text": [
      "Scene count: 102\n",
      "Progerss:0.05%\r"
     ]
    },
    {
     "name": "stderr",
     "output_type": "stream",
     "text": [
      "\n"
     ]
    },
    {
     "name": "stdout",
     "output_type": "stream",
     "text": [
      "onthebasisofsex.mp4 onthebasisofsex\n"
     ]
    },
    {
     "name": "stderr",
     "output_type": "stream",
     "text": [
      "  0%|          | 0/4018 [00:00<?, ?frames/s]"
     ]
    },
    {
     "name": "stdout",
     "output_type": "stream",
     "text": [
      "1280 x 720 FPS: 23.976023976023978 4018.0\n"
     ]
    },
    {
     "name": "stderr",
     "output_type": "stream",
     "text": [
      "100%|██████████| 4018/4018 [00:10<00:00, 378.53frames/s]"
     ]
    },
    {
     "name": "stdout",
     "output_type": "stream",
     "text": [
      "Scene count: 110\n",
      "Progerss:0.10%\r"
     ]
    },
    {
     "name": "stderr",
     "output_type": "stream",
     "text": [
      "\n"
     ]
    },
    {
     "name": "stdout",
     "output_type": "stream",
     "text": [
      "hustlemovie.mp4 hustlemovie\n",
      "1280 x 720 FPS: 23.976023976023978 3801.0\n"
     ]
    },
    {
     "name": "stderr",
     "output_type": "stream",
     "text": [
      "100%|██████████| 3801/3801 [00:09<00:00, 384.40frames/s]"
     ]
    },
    {
     "name": "stdout",
     "output_type": "stream",
     "text": [
      "Scene count: 110\n",
      "Progerss:0.11%\r"
     ]
    },
    {
     "name": "stderr",
     "output_type": "stream",
     "text": [
      "\n"
     ]
    },
    {
     "name": "stdout",
     "output_type": "stream",
     "text": [
      "whatmenwant.mp4 whatmenwant\n"
     ]
    },
    {
     "name": "stderr",
     "output_type": "stream",
     "text": [
      "  0%|          | 0/3690 [00:00<?, ?frames/s]"
     ]
    },
    {
     "name": "stdout",
     "output_type": "stream",
     "text": [
      "1280 x 720 FPS: 23.976023976023978 3690.0\n"
     ]
    },
    {
     "name": "stderr",
     "output_type": "stream",
     "text": [
      "100%|██████████| 3690/3690 [00:09<00:00, 387.48frames/s]"
     ]
    },
    {
     "name": "stdout",
     "output_type": "stream",
     "text": [
      "Scene count: 115\n",
      "Progerss:0.05%\r"
     ]
    },
    {
     "name": "stderr",
     "output_type": "stream",
     "text": [
      "\n"
     ]
    },
    {
     "name": "stdout",
     "output_type": "stream",
     "text": [
      "adogsjourneymovie.mp4 adogsjourneymovie\n"
     ]
    },
    {
     "name": "stderr",
     "output_type": "stream",
     "text": [
      "  1%|          | 32/4052 [00:00<00:12, 314.90frames/s]"
     ]
    },
    {
     "name": "stdout",
     "output_type": "stream",
     "text": [
      "1280 x 720 FPS: 23.976023976023978 4052.0\n"
     ]
    },
    {
     "name": "stderr",
     "output_type": "stream",
     "text": [
      "100%|██████████| 4052/4052 [00:10<00:00, 388.74frames/s]"
     ]
    },
    {
     "name": "stdout",
     "output_type": "stream",
     "text": [
      "Scene count: 117\n",
      "Progerss:0.07%\r"
     ]
    },
    {
     "name": "stderr",
     "output_type": "stream",
     "text": [
      "\n"
     ]
    },
    {
     "name": "stdout",
     "output_type": "stream",
     "text": [
      "spidermanmovie.mp4 spidermanmovie\n"
     ]
    },
    {
     "name": "stderr",
     "output_type": "stream",
     "text": [
      "  0%|          | 0/4290 [00:00<?, ?frames/s]"
     ]
    },
    {
     "name": "stdout",
     "output_type": "stream",
     "text": [
      "1280 x 720 FPS: 23.976023976023978 4290.0\n"
     ]
    },
    {
     "name": "stderr",
     "output_type": "stream",
     "text": [
      "100%|██████████| 4290/4290 [00:11<00:00, 389.20frames/s]"
     ]
    },
    {
     "name": "stdout",
     "output_type": "stream",
     "text": [
      "Scene count: 103\n",
      "Progerss:0.07%\r"
     ]
    },
    {
     "name": "stderr",
     "output_type": "stream",
     "text": [
      "\n"
     ]
    },
    {
     "name": "stdout",
     "output_type": "stream",
     "text": [
      "angrybirdsmovie.mp4 angrybirdsmovie\n",
      "1280 x 692 FPS: 23.976023976023978 4158.0\n"
     ]
    },
    {
     "name": "stderr",
     "output_type": "stream",
     "text": [
      "100%|██████████| 4158/4158 [00:10<00:00, 384.28frames/s]\n"
     ]
    },
    {
     "name": "stdout",
     "output_type": "stream",
     "text": [
      "Scene count: 120\n",
      "artofracingmovie.mp4 artofracingmovie\n"
     ]
    },
    {
     "name": "stderr",
     "output_type": "stream",
     "text": [
      "  0%|          | 0/3189 [00:00<?, ?frames/s]"
     ]
    },
    {
     "name": "stdout",
     "output_type": "stream",
     "text": [
      "1280 x 720 FPS: 23.976023976023978 3189.0\n"
     ]
    },
    {
     "name": "stderr",
     "output_type": "stream",
     "text": [
      "100%|██████████| 3189/3189 [00:08<00:00, 384.23frames/s]\n"
     ]
    },
    {
     "name": "stdout",
     "output_type": "stream",
     "text": [
      "Scene count: 99\n",
      "annamovie.mp4 annamovie\n"
     ]
    },
    {
     "name": "stderr",
     "output_type": "stream",
     "text": [
      "  0%|          | 0/3374 [00:00<?, ?frames/s]"
     ]
    },
    {
     "name": "stdout",
     "output_type": "stream",
     "text": [
      "1280 x 720 FPS: 23.976023976023978 3374.0\n"
     ]
    },
    {
     "name": "stderr",
     "output_type": "stream",
     "text": [
      "100%|██████████| 3374/3374 [00:08<00:00, 383.71frames/s]\n"
     ]
    },
    {
     "name": "stdout",
     "output_type": "stream",
     "text": [
      "Scene count: 89\n",
      "uglydolls.mp4 uglydolls\n",
      "1280 x 720 FPS: 23.976023976023978 2922.0\n"
     ]
    },
    {
     "name": "stderr",
     "output_type": "stream",
     "text": [
      "100%|██████████| 2922/2922 [00:07<00:00, 375.19frames/s]"
     ]
    },
    {
     "name": "stdout",
     "output_type": "stream",
     "text": [
      "Scene count: 57\n",
      "Progerss:0.07%\r"
     ]
    },
    {
     "name": "stderr",
     "output_type": "stream",
     "text": [
      "\n"
     ]
    },
    {
     "name": "stdout",
     "output_type": "stream",
     "text": [
      "isntitromantic.mp4 isntitromantic\n"
     ]
    },
    {
     "name": "stderr",
     "output_type": "stream",
     "text": [
      "  0%|          | 0/3698 [00:00<?, ?frames/s]"
     ]
    },
    {
     "name": "stdout",
     "output_type": "stream",
     "text": [
      "1280 x 720 FPS: 23.976023976023978 3698.0\n"
     ]
    },
    {
     "name": "stderr",
     "output_type": "stream",
     "text": [
      "100%|██████████| 3698/3698 [00:09<00:00, 378.63frames/s]\n"
     ]
    },
    {
     "name": "stdout",
     "output_type": "stream",
     "text": [
      "Scene count: 104\n",
      "littlewoodsfilm.mp4 littlewoodsfilm\n"
     ]
    },
    {
     "name": "stderr",
     "output_type": "stream",
     "text": [
      "  0%|          | 0/3480 [00:00<?, ?frames/s]"
     ]
    },
    {
     "name": "stdout",
     "output_type": "stream",
     "text": [
      "1280 x 720 FPS: 23.976023976023978 3480.0\n"
     ]
    },
    {
     "name": "stderr",
     "output_type": "stream",
     "text": [
      "100%|██████████| 3480/3480 [00:08<00:00, 388.26frames/s]"
     ]
    },
    {
     "name": "stdout",
     "output_type": "stream",
     "text": [
      "Scene count: 72\n",
      "Progerss:0.14%\r"
     ]
    },
    {
     "name": "stderr",
     "output_type": "stream",
     "text": [
      "\n"
     ]
    },
    {
     "name": "stdout",
     "output_type": "stream",
     "text": [
      "scarystoriesmovie.mp4 scarystoriesmovie\n"
     ]
    },
    {
     "name": "stderr",
     "output_type": "stream",
     "text": [
      "  0%|          | 0/3823 [00:00<?, ?frames/s]"
     ]
    },
    {
     "name": "stdout",
     "output_type": "stream",
     "text": [
      "1280 x 720 FPS: 23.976023976023978 3823.0\n"
     ]
    },
    {
     "name": "stderr",
     "output_type": "stream",
     "text": [
      "100%|██████████| 3823/3823 [00:10<00:00, 376.89frames/s]\n"
     ]
    },
    {
     "name": "stdout",
     "output_type": "stream",
     "text": [
      "Scene count: 101\n",
      "thelegomovie.mp4 thelegomovie\n"
     ]
    },
    {
     "name": "stderr",
     "output_type": "stream",
     "text": [
      "  0%|          | 0/3701 [00:00<?, ?frames/s]"
     ]
    },
    {
     "name": "stdout",
     "output_type": "stream",
     "text": [
      "1280 x 720 FPS: 23.976023976023978 3701.0\n"
     ]
    },
    {
     "name": "stderr",
     "output_type": "stream",
     "text": [
      "100%|██████████| 3701/3701 [00:10<00:00, 358.06frames/s]"
     ]
    },
    {
     "name": "stdout",
     "output_type": "stream",
     "text": [
      "Scene count: 89\n",
      "Progerss:0.11%\r"
     ]
    },
    {
     "name": "stderr",
     "output_type": "stream",
     "text": [
      "\n"
     ]
    },
    {
     "name": "stdout",
     "output_type": "stream",
     "text": [
      "theprodigymovie.mp4 theprodigymovie\n"
     ]
    },
    {
     "name": "stderr",
     "output_type": "stream",
     "text": [
      "  0%|          | 0/2496 [00:00<?, ?frames/s]"
     ]
    },
    {
     "name": "stdout",
     "output_type": "stream",
     "text": [
      "1280 x 720 FPS: 23.976023976023978 2496.0\n"
     ]
    },
    {
     "name": "stderr",
     "output_type": "stream",
     "text": [
      "100%|██████████| 2496/2496 [00:06<00:00, 374.52frames/s]"
     ]
    },
    {
     "name": "stdout",
     "output_type": "stream",
     "text": [
      "Scene count: 59\n",
      "Progerss:0.04%\r"
     ]
    },
    {
     "name": "stderr",
     "output_type": "stream",
     "text": [
      "\n"
     ]
    },
    {
     "name": "stdout",
     "output_type": "stream",
     "text": [
      "godzillamovie.mp4 godzillamovie\n"
     ]
    },
    {
     "name": "stderr",
     "output_type": "stream",
     "text": [
      "  0%|          | 0/3480 [00:00<?, ?frames/s]"
     ]
    },
    {
     "name": "stdout",
     "output_type": "stream",
     "text": [
      "1280 x 720 FPS: 23.976023976023978 3480.0\n"
     ]
    },
    {
     "name": "stderr",
     "output_type": "stream",
     "text": [
      "100%|██████████| 3480/3480 [00:09<00:00, 386.53frames/s]"
     ]
    },
    {
     "name": "stdout",
     "output_type": "stream",
     "text": [
      "Scene count: 59\n",
      "Progerss:0.11%\r"
     ]
    },
    {
     "name": "stderr",
     "output_type": "stream",
     "text": [
      "\n"
     ]
    },
    {
     "name": "stdout",
     "output_type": "stream",
     "text": [
      "stubermovie.mp4 stubermovie\n"
     ]
    },
    {
     "name": "stderr",
     "output_type": "stream",
     "text": [
      "  0%|          | 0/2966 [00:00<?, ?frames/s]"
     ]
    },
    {
     "name": "stdout",
     "output_type": "stream",
     "text": [
      "1280 x 720 FPS: 23.976023976023978 2966.0\n"
     ]
    },
    {
     "name": "stderr",
     "output_type": "stream",
     "text": [
      "100%|██████████| 2966/2966 [00:07<00:00, 379.22frames/s]"
     ]
    },
    {
     "name": "stdout",
     "output_type": "stream",
     "text": [
      "Scene count: 86\n",
      "Progerss:0.13%\r"
     ]
    },
    {
     "name": "stderr",
     "output_type": "stream",
     "text": [
      "\n"
     ]
    },
    {
     "name": "stdout",
     "output_type": "stream",
     "text": [
      "thedeaddontdie.mp4 thedeaddontdie\n",
      "1280 x 720 FPS: 23.976023976023978 3370.0\n"
     ]
    },
    {
     "name": "stderr",
     "output_type": "stream",
     "text": [
      "100%|██████████| 3370/3370 [00:08<00:00, 381.19frames/s]"
     ]
    },
    {
     "name": "stdout",
     "output_type": "stream",
     "text": [
      "Scene count: 97\n",
      "Progerss:0.09%\r"
     ]
    },
    {
     "name": "stderr",
     "output_type": "stream",
     "text": [
      "\n"
     ]
    },
    {
     "name": "stdout",
     "output_type": "stream",
     "text": [
      "secretlifeofpets.mp4 secretlifeofpets\n",
      "1280 x 720 FPS: 29.97002997002997 450.0\n"
     ]
    },
    {
     "name": "stderr",
     "output_type": "stream",
     "text": [
      "100%|██████████| 450/450 [00:01<00:00, 364.70frames/s]"
     ]
    },
    {
     "name": "stdout",
     "output_type": "stream",
     "text": [
      "Scene count: 8\n",
      "Progerss:0.67%\r"
     ]
    },
    {
     "name": "stderr",
     "output_type": "stream",
     "text": [
      "\n"
     ]
    },
    {
     "name": "stdout",
     "output_type": "stream",
     "text": [
      "lastblackmansf.mp4 lastblackmansf\n"
     ]
    },
    {
     "name": "stderr",
     "output_type": "stream",
     "text": [
      "  0%|          | 0/3208 [00:00<?, ?frames/s]"
     ]
    },
    {
     "name": "stdout",
     "output_type": "stream",
     "text": [
      "1200 x 720 FPS: 23.976023976023978 3208.0\n"
     ]
    },
    {
     "name": "stderr",
     "output_type": "stream",
     "text": [
      "100%|██████████| 3208/3208 [00:08<00:00, 392.95frames/s]"
     ]
    },
    {
     "name": "stdout",
     "output_type": "stream",
     "text": [
      "Scene count: 62\n",
      "Progerss:0.12%\r"
     ]
    },
    {
     "name": "stderr",
     "output_type": "stream",
     "text": [
      "\n"
     ]
    },
    {
     "name": "stdout",
     "output_type": "stream",
     "text": [
      "angelhasfallen.mp4 angelhasfallen\n",
      "1280 x 720 FPS: 23.976023976023978 3715.0\n"
     ]
    },
    {
     "name": "stderr",
     "output_type": "stream",
     "text": [
      "100%|██████████| 3715/3715 [00:09<00:00, 381.49frames/s]\n"
     ]
    },
    {
     "name": "stdout",
     "output_type": "stream",
     "text": [
      "Scene count: 102\n",
      "thekitchenmovie.mp4 thekitchenmovie\n"
     ]
    },
    {
     "name": "stderr",
     "output_type": "stream",
     "text": [
      "  0%|          | 0/3662 [00:00<?, ?frames/s]"
     ]
    },
    {
     "name": "stdout",
     "output_type": "stream",
     "text": [
      "1280 x 720 FPS: 23.976023976023978 3662.0\n"
     ]
    },
    {
     "name": "stderr",
     "output_type": "stream",
     "text": [
      "100%|██████████| 3662/3662 [00:09<00:00, 381.94frames/s]"
     ]
    },
    {
     "name": "stdout",
     "output_type": "stream",
     "text": [
      "Scene count: 86\n",
      "Progerss:0.11%\r"
     ]
    },
    {
     "name": "stderr",
     "output_type": "stream",
     "text": [
      "\n"
     ]
    },
    {
     "name": "stdout",
     "output_type": "stream",
     "text": [
      "blindedbythelightmovie.mp4 blindedbythelightmovie\n",
      "1280 x 720 FPS: 23.976023976023978 3444.0\n"
     ]
    },
    {
     "name": "stderr",
     "output_type": "stream",
     "text": [
      "100%|██████████| 3444/3444 [00:09<00:00, 381.46frames/s]\n"
     ]
    },
    {
     "name": "stdout",
     "output_type": "stream",
     "text": [
      "Scene count: 101\n",
      "latenightmovie.mp4 latenightmovie\n"
     ]
    },
    {
     "name": "stderr",
     "output_type": "stream",
     "text": [
      "  0%|          | 0/3242 [00:00<?, ?frames/s]"
     ]
    },
    {
     "name": "stdout",
     "output_type": "stream",
     "text": [
      "1280 x 720 FPS: 23.976023976023978 3242.0\n"
     ]
    },
    {
     "name": "stderr",
     "output_type": "stream",
     "text": [
      "100%|██████████| 3242/3242 [00:08<00:00, 383.87frames/s]"
     ]
    },
    {
     "name": "stdout",
     "output_type": "stream",
     "text": [
      "Scene count: 104\n",
      "Progerss:0.06%\r"
     ]
    },
    {
     "name": "stderr",
     "output_type": "stream",
     "text": [
      "\n"
     ]
    },
    {
     "name": "stdout",
     "output_type": "stream",
     "text": [
      "overcomermovie.mp4 overcomermovie\n"
     ]
    },
    {
     "name": "stderr",
     "output_type": "stream",
     "text": [
      "  0%|          | 0/3389 [00:00<?, ?frames/s]"
     ]
    },
    {
     "name": "stdout",
     "output_type": "stream",
     "text": [
      "1280 x 536 FPS: 23.976023976023978 3389.0\n"
     ]
    },
    {
     "name": "stderr",
     "output_type": "stream",
     "text": [
      "100%|██████████| 3389/3389 [00:06<00:00, 498.97frames/s]\n"
     ]
    },
    {
     "name": "stdout",
     "output_type": "stream",
     "text": [
      "Scene count: 107\n",
      "themustangfilm.mp4 themustangfilm\n",
      "1280 x 720 FPS: 23.976023976023978 3898.0\n"
     ]
    },
    {
     "name": "stderr",
     "output_type": "stream",
     "text": [
      "100%|██████████| 3898/3898 [00:10<00:00, 379.37frames/s]\n"
     ]
    },
    {
     "name": "stdout",
     "output_type": "stream",
     "text": [
      "Scene count: 123\n",
      "annabellemovie.mp4 annabellemovie\n"
     ]
    },
    {
     "name": "stderr",
     "output_type": "stream",
     "text": [
      "  0%|          | 0/3456 [00:00<?, ?frames/s]"
     ]
    },
    {
     "name": "stdout",
     "output_type": "stream",
     "text": [
      "1280 x 720 FPS: 23.976023976023978 3456.0\n"
     ]
    },
    {
     "name": "stderr",
     "output_type": "stream",
     "text": [
      "100%|██████████| 3456/3456 [00:09<00:00, 381.00frames/s]"
     ]
    },
    {
     "name": "stdout",
     "output_type": "stream",
     "text": [
      "Scene count: 66\n",
      "Progerss:0.06%\r"
     ]
    },
    {
     "name": "stderr",
     "output_type": "stream",
     "text": [
      "\n"
     ]
    },
    {
     "name": "stdout",
     "output_type": "stream",
     "text": [
      "Progerss:99.97%\r"
     ]
    },
    {
     "name": "stderr",
     "output_type": "stream",
     "text": [
      "  0%|          | 0/3665 [00:00<?, ?frames/s]"
     ]
    },
    {
     "name": "stdout",
     "output_type": "stream",
     "text": [
      "missinglinkfilm.mp4 missinglinkfilm\n",
      "1280 x 720 FPS: 23.976023976023978 3665.0\n"
     ]
    },
    {
     "name": "stderr",
     "output_type": "stream",
     "text": [
      "100%|██████████| 3665/3665 [00:09<00:00, 383.64frames/s]\n"
     ]
    },
    {
     "name": "stdout",
     "output_type": "stream",
     "text": [
      "Scene count: 68\n",
      "disneyaladdin.mp4 disneyaladdin\n"
     ]
    },
    {
     "name": "stderr",
     "output_type": "stream",
     "text": [
      "  0%|          | 0/3232 [00:00<?, ?frames/s]"
     ]
    },
    {
     "name": "stdout",
     "output_type": "stream",
     "text": [
      "1280 x 534 FPS: 23.976023976023978 3232.0\n"
     ]
    },
    {
     "name": "stderr",
     "output_type": "stream",
     "text": [
      "100%|██████████| 3232/3232 [00:06<00:00, 507.22frames/s]\n"
     ]
    },
    {
     "name": "stdout",
     "output_type": "stream",
     "text": [
      "Scene count: 92\n",
      "tolkienmovie.mp4 tolkienmovie\n",
      "1280 x 720 FPS: 23.976023976023978 3427.0\n"
     ]
    },
    {
     "name": "stderr",
     "output_type": "stream",
     "text": [
      "100%|██████████| 3427/3427 [00:09<00:00, 380.25frames/s]"
     ]
    },
    {
     "name": "stdout",
     "output_type": "stream",
     "text": [
      "Scene count: 70\n",
      "Progerss:0.03%\r"
     ]
    },
    {
     "name": "stderr",
     "output_type": "stream",
     "text": [
      "\n"
     ]
    },
    {
     "name": "stdout",
     "output_type": "stream",
     "text": [
      "rocketmanmovie.mp4 rocketmanmovie\n",
      "1280 x 720 FPS: 23.976023976023978 3658.0\n"
     ]
    },
    {
     "name": "stderr",
     "output_type": "stream",
     "text": [
      "100%|██████████| 3658/3658 [00:09<00:00, 397.49frames/s]"
     ]
    },
    {
     "name": "stdout",
     "output_type": "stream",
     "text": [
      "Scene count: 107\n",
      "Progerss:0.03%\r"
     ]
    },
    {
     "name": "stderr",
     "output_type": "stream",
     "text": [
      "\n"
     ]
    },
    {
     "name": "stdout",
     "output_type": "stream",
     "text": [
      "wonderparkmovie.mp4 wonderparkmovie\n"
     ]
    },
    {
     "name": "stderr",
     "output_type": "stream",
     "text": [
      "  0%|          | 0/3574 [00:00<?, ?frames/s]"
     ]
    },
    {
     "name": "stdout",
     "output_type": "stream",
     "text": [
      "1280 x 720 FPS: 23.976023976023978 3574.0\n"
     ]
    },
    {
     "name": "stderr",
     "output_type": "stream",
     "text": [
      "100%|██████████| 3574/3574 [00:08<00:00, 397.40frames/s]"
     ]
    },
    {
     "name": "stdout",
     "output_type": "stream",
     "text": [
      "Scene count: 131\n",
      "Progerss:0.06%\r"
     ]
    },
    {
     "name": "stderr",
     "output_type": "stream",
     "text": [
      "\n"
     ]
    },
    {
     "name": "stdout",
     "output_type": "stream",
     "text": [
      "happydeathdaymovie.mp4 happydeathdaymovie\n"
     ]
    },
    {
     "name": "stderr",
     "output_type": "stream",
     "text": [
      "  0%|          | 0/3578 [00:00<?, ?frames/s]"
     ]
    },
    {
     "name": "stdout",
     "output_type": "stream",
     "text": [
      "1280 x 720 FPS: 23.976023976023978 3578.0\n"
     ]
    },
    {
     "name": "stderr",
     "output_type": "stream",
     "text": [
      "100%|██████████| 3578/3578 [00:08<00:00, 400.81frames/s]\n"
     ]
    },
    {
     "name": "stdout",
     "output_type": "stream",
     "text": [
      "Scene count: 123\n",
      "captainmarvelofficial.mp4 captainmarvelofficial\n"
     ]
    },
    {
     "name": "stderr",
     "output_type": "stream",
     "text": [
      "  0%|          | 0/2796 [00:00<?, ?frames/s]"
     ]
    },
    {
     "name": "stdout",
     "output_type": "stream",
     "text": [
      "1280 x 720 FPS: 23.976023976023978 2796.0\n"
     ]
    },
    {
     "name": "stderr",
     "output_type": "stream",
     "text": [
      "100%|██████████| 2796/2796 [00:07<00:00, 381.93frames/s]\n"
     ]
    },
    {
     "name": "stdout",
     "output_type": "stream",
     "text": [
      "Scene count: 58\n",
      "Progerss:99.96%\r"
     ]
    },
    {
     "name": "stderr",
     "output_type": "stream",
     "text": [
      "  0%|          | 0/3506 [00:00<?, ?frames/s]"
     ]
    },
    {
     "name": "stdout",
     "output_type": "stream",
     "text": [
      "petsematarymovie.mp4 petsematarymovie\n",
      "1280 x 720 FPS: 23.908 3506.0\n"
     ]
    },
    {
     "name": "stderr",
     "output_type": "stream",
     "text": [
      "100%|██████████| 3506/3506 [00:09<00:00, 382.37frames/s]"
     ]
    },
    {
     "name": "stdout",
     "output_type": "stream",
     "text": [
      "Scene count: 80\n",
      "Progerss:0.11%\r"
     ]
    },
    {
     "name": "stderr",
     "output_type": "stream",
     "text": [
      "\n"
     ]
    },
    {
     "name": "stdout",
     "output_type": "stream",
     "text": [
      "coldpursuitmovie.mp4 coldpursuitmovie\n"
     ]
    },
    {
     "name": "stderr",
     "output_type": "stream",
     "text": [
      "  0%|          | 0/3616 [00:00<?, ?frames/s]"
     ]
    },
    {
     "name": "stdout",
     "output_type": "stream",
     "text": [
      "1280 x 720 FPS: 23.976023976023978 3616.0\n"
     ]
    },
    {
     "name": "stderr",
     "output_type": "stream",
     "text": [
      "100%|██████████| 3616/3616 [00:09<00:00, 383.37frames/s]\n"
     ]
    },
    {
     "name": "stdout",
     "output_type": "stream",
     "text": [
      "Scene count: 114\n",
      "gretafilm.mp4 gretafilm\n"
     ]
    },
    {
     "name": "stderr",
     "output_type": "stream",
     "text": [
      "  0%|          | 0/3971 [00:00<?, ?frames/s]"
     ]
    },
    {
     "name": "stdout",
     "output_type": "stream",
     "text": [
      "1280 x 720 FPS: 23.976023976023978 3971.0\n"
     ]
    },
    {
     "name": "stderr",
     "output_type": "stream",
     "text": [
      "100%|██████████| 3971/3971 [00:10<00:00, 386.10frames/s]"
     ]
    },
    {
     "name": "stdout",
     "output_type": "stream",
     "text": [
      "Scene count: 112\n",
      "Progerss:0.13%\r"
     ]
    },
    {
     "name": "stderr",
     "output_type": "stream",
     "text": [
      "\n"
     ]
    },
    {
     "name": "stdout",
     "output_type": "stream",
     "text": [
      "missbalamovie.mp4 missbalamovie\n"
     ]
    },
    {
     "name": "stderr",
     "output_type": "stream",
     "text": [
      "  0%|          | 0/3897 [00:00<?, ?frames/s]"
     ]
    },
    {
     "name": "stdout",
     "output_type": "stream",
     "text": [
      "1280 x 720 FPS: 23.976023976023978 3897.0\n"
     ]
    },
    {
     "name": "stderr",
     "output_type": "stream",
     "text": [
      "100%|██████████| 3897/3897 [00:13<00:00, 293.53frames/s]\n"
     ]
    },
    {
     "name": "stdout",
     "output_type": "stream",
     "text": [
      "Scene count: 126\n",
      "avengers.mp4 avengers\n"
     ]
    },
    {
     "name": "stderr",
     "output_type": "stream",
     "text": [
      "  0%|          | 0/3504 [00:00<?, ?frames/s]"
     ]
    },
    {
     "name": "stdout",
     "output_type": "stream",
     "text": [
      "1280 x 720 FPS: 23.976023976023978 3504.0\n"
     ]
    },
    {
     "name": "stderr",
     "output_type": "stream",
     "text": [
      "100%|██████████| 3504/3504 [00:09<00:00, 375.78frames/s]"
     ]
    },
    {
     "name": "stdout",
     "output_type": "stream",
     "text": [
      "Scene count: 55\n",
      "Progerss:0.03%\r"
     ]
    },
    {
     "name": "stderr",
     "output_type": "stream",
     "text": [
      "\n"
     ]
    },
    {
     "name": "stdout",
     "output_type": "stream",
     "text": [
      "Progerss:99.97%\r"
     ]
    },
    {
     "name": "stderr",
     "output_type": "stream",
     "text": [
      "  0%|          | 0/5216 [00:00<?, ?frames/s]"
     ]
    },
    {
     "name": "stdout",
     "output_type": "stream",
     "text": [
      "booksmart.mp4 booksmart\n",
      "1280 x 720 FPS: 29.97002997002997 5216.0\n"
     ]
    },
    {
     "name": "stderr",
     "output_type": "stream",
     "text": [
      "100%|██████████| 5216/5216 [00:13<00:00, 388.73frames/s]\n"
     ]
    },
    {
     "name": "stdout",
     "output_type": "stream",
     "text": [
      "Scene count: 80\n",
      "triplefrontier.mp4 triplefrontier\n",
      "1280 x 720 FPS: 24.0 3187.0\n"
     ]
    },
    {
     "name": "stderr",
     "output_type": "stream",
     "text": [
      "100%|██████████| 3187/3187 [00:08<00:00, 387.71frames/s]\n"
     ]
    },
    {
     "name": "stdout",
     "output_type": "stream",
     "text": [
      "Scene count: 80\n",
      "johnwickmovie.mp4 johnwickmovie\n"
     ]
    },
    {
     "name": "stderr",
     "output_type": "stream",
     "text": [
      "  0%|          | 0/3747 [00:00<?, ?frames/s]"
     ]
    },
    {
     "name": "stdout",
     "output_type": "stream",
     "text": [
      "1280 x 720 FPS: 23.976023976023978 3747.0\n"
     ]
    },
    {
     "name": "stderr",
     "output_type": "stream",
     "text": [
      "100%|██████████| 3747/3747 [00:10<00:00, 370.28frames/s]"
     ]
    },
    {
     "name": "stdout",
     "output_type": "stream",
     "text": [
      "Scene count: 103\n",
      "Progerss:0.11%\r"
     ]
    },
    {
     "name": "stderr",
     "output_type": "stream",
     "text": [
      "\n"
     ]
    },
    {
     "name": "stdout",
     "output_type": "stream",
     "text": [
      "httydragon.mp4 httydragon\n"
     ]
    },
    {
     "name": "stderr",
     "output_type": "stream",
     "text": [
      "  0%|          | 0/3936 [00:00<?, ?frames/s]"
     ]
    },
    {
     "name": "stdout",
     "output_type": "stream",
     "text": [
      "1280 x 720 FPS: 23.976023976023978 3936.0\n"
     ]
    },
    {
     "name": "stderr",
     "output_type": "stream",
     "text": [
      "100%|██████████| 3936/3936 [00:10<00:00, 375.79frames/s]"
     ]
    },
    {
     "name": "stdout",
     "output_type": "stream",
     "text": [
      "Scene count: 84\n",
      "Progerss:0.05%\r"
     ]
    },
    {
     "name": "stderr",
     "output_type": "stream",
     "text": [
      "\n"
     ]
    },
    {
     "name": "stdout",
     "output_type": "stream",
     "text": [
      "underthesilverlake.mp4 underthesilverlake\n"
     ]
    },
    {
     "name": "stderr",
     "output_type": "stream",
     "text": [
      "  0%|          | 0/3241 [00:00<?, ?frames/s]"
     ]
    },
    {
     "name": "stdout",
     "output_type": "stream",
     "text": [
      "1280 x 720 FPS: 23.97602545409083 3241.0\n"
     ]
    },
    {
     "name": "stderr",
     "output_type": "stream",
     "text": [
      "100%|██████████| 3241/3241 [00:08<00:00, 383.93frames/s]\n"
     ]
    },
    {
     "name": "stdout",
     "output_type": "stream",
     "text": [
      "Scene count: 105\n",
      "midsommarmovie.mp4 midsommarmovie\n"
     ]
    },
    {
     "name": "stderr",
     "output_type": "stream",
     "text": [
      "  0%|          | 0/3795 [00:00<?, ?frames/s]"
     ]
    },
    {
     "name": "stdout",
     "output_type": "stream",
     "text": [
      "1280 x 720 FPS: 23.976023976023978 3795.0\n"
     ]
    },
    {
     "name": "stderr",
     "output_type": "stream",
     "text": [
      "100%|██████████| 3795/3795 [00:09<00:00, 405.00frames/s]"
     ]
    },
    {
     "name": "stdout",
     "output_type": "stream",
     "text": [
      "Scene count: 81\n",
      "Progerss:0.11%\r"
     ]
    },
    {
     "name": "stderr",
     "output_type": "stream",
     "text": [
      "\n"
     ]
    },
    {
     "name": "stdout",
     "output_type": "stream",
     "text": [
      "usmovie.mp4 usmovie\n",
      "1280 x 720 FPS: 25.0 4215.0\n"
     ]
    },
    {
     "name": "stderr",
     "output_type": "stream",
     "text": [
      "100%|██████████| 4215/4215 [00:10<00:00, 409.01frames/s]\n"
     ]
    },
    {
     "name": "stdout",
     "output_type": "stream",
     "text": [
      "Scene count: 98\n",
      "captivestatemovie.mp4 captivestatemovie\n",
      "1280 x 720 FPS: 23.976023976023978 3956.0\n"
     ]
    },
    {
     "name": "stderr",
     "output_type": "stream",
     "text": [
      "100%|██████████| 3956/3956 [00:09<00:00, 404.76frames/s]"
     ]
    },
    {
     "name": "stdout",
     "output_type": "stream",
     "text": [
      "Scene count: 112\n",
      "Progerss:0.13%\r"
     ]
    },
    {
     "name": "stderr",
     "output_type": "stream",
     "text": [
      "\n"
     ]
    },
    {
     "name": "stdout",
     "output_type": "stream",
     "text": [
      "shaftmovie.mp4 shaftmovie\n"
     ]
    },
    {
     "name": "stderr",
     "output_type": "stream",
     "text": [
      "  0%|          | 0/3053 [00:00<?, ?frames/s]"
     ]
    },
    {
     "name": "stdout",
     "output_type": "stream",
     "text": [
      "1280 x 720 FPS: 23.976023976023978 3053.0\n"
     ]
    },
    {
     "name": "stderr",
     "output_type": "stream",
     "text": [
      "100%|██████████| 3053/3053 [00:07<00:00, 398.45frames/s]"
     ]
    },
    {
     "name": "stdout",
     "output_type": "stream",
     "text": [
      "Scene count: 90\n",
      "Progerss:0.13%\r"
     ]
    },
    {
     "name": "stderr",
     "output_type": "stream",
     "text": [
      "\n"
     ]
    },
    {
     "name": "stdout",
     "output_type": "stream",
     "text": [
      "meninblack.mp4 meninblack\n"
     ]
    },
    {
     "name": "stderr",
     "output_type": "stream",
     "text": [
      "  0%|          | 0/3966 [00:00<?, ?frames/s]"
     ]
    },
    {
     "name": "stdout",
     "output_type": "stream",
     "text": [
      "1280 x 720 FPS: 23.976023976023978 3966.0\n"
     ]
    },
    {
     "name": "stderr",
     "output_type": "stream",
     "text": [
      "100%|██████████| 3966/3966 [00:09<00:00, 409.38frames/s]"
     ]
    },
    {
     "name": "stdout",
     "output_type": "stream",
     "text": [
      "Scene count: 114\n",
      "Progerss:0.08%\r"
     ]
    },
    {
     "name": "stderr",
     "output_type": "stream",
     "text": [
      "\n"
     ]
    },
    {
     "name": "stdout",
     "output_type": "stream",
     "text": [
      "beachbummovie.mp4 beachbummovie\n",
      "1280 x 720 FPS: 23.976023976023978 3600.0\n"
     ]
    },
    {
     "name": "stderr",
     "output_type": "stream",
     "text": [
      "100%|██████████| 3600/3600 [00:08<00:00, 410.23frames/s]"
     ]
    },
    {
     "name": "stdout",
     "output_type": "stream",
     "text": [
      "Scene count: 107\n",
      "Progerss:0.11%\r"
     ]
    },
    {
     "name": "stderr",
     "output_type": "stream",
     "text": [
      "\n"
     ]
    },
    {
     "name": "stdout",
     "output_type": "stream",
     "text": [
      "brightburnmovie.mp4 brightburnmovie\n"
     ]
    },
    {
     "name": "stderr",
     "output_type": "stream",
     "text": [
      "  0%|          | 0/3933 [00:00<?, ?frames/s]"
     ]
    },
    {
     "name": "stdout",
     "output_type": "stream",
     "text": [
      "1280 x 720 FPS: 23.0 3933.0\n"
     ]
    },
    {
     "name": "stderr",
     "output_type": "stream",
     "text": [
      "100%|██████████| 3933/3933 [00:09<00:00, 404.37frames/s]"
     ]
    },
    {
     "name": "stdout",
     "output_type": "stream",
     "text": [
      "Scene count: 66\n",
      "Progerss:0.03%\r"
     ]
    },
    {
     "name": "stderr",
     "output_type": "stream",
     "text": [
      "\n"
     ]
    },
    {
     "name": "stdout",
     "output_type": "stream",
     "text": [
      "fightingwmyfam.mp4 fightingwmyfam\n"
     ]
    },
    {
     "name": "stderr",
     "output_type": "stream",
     "text": [
      "  0%|          | 0/4214 [00:00<?, ?frames/s]"
     ]
    },
    {
     "name": "stdout",
     "output_type": "stream",
     "text": [
      "1280 x 720 FPS: 25.0 4214.0\n"
     ]
    },
    {
     "name": "stderr",
     "output_type": "stream",
     "text": [
      "100%|██████████| 4214/4214 [00:10<00:00, 404.62frames/s]"
     ]
    },
    {
     "name": "stdout",
     "output_type": "stream",
     "text": [
      "Scene count: 121\n",
      "Progerss:0.05%\r"
     ]
    },
    {
     "name": "stderr",
     "output_type": "stream",
     "text": [
      "\n"
     ]
    },
    {
     "name": "stdout",
     "output_type": "stream",
     "text": [
      "apollo11movie.mp4 apollo11movie\n",
      "1280 x 720 FPS: 23.976023976023978 2693.0\n"
     ]
    },
    {
     "name": "stderr",
     "output_type": "stream",
     "text": [
      "100%|██████████| 2693/2693 [00:06<00:00, 407.87frames/s]\n"
     ]
    },
    {
     "name": "stdout",
     "output_type": "stream",
     "text": [
      "Scene count: 41\n",
      "onceinhollywood.mp4 onceinhollywood\n",
      "1280 x 720 FPS: 23.976023976023978 3704.0\n"
     ]
    },
    {
     "name": "stderr",
     "output_type": "stream",
     "text": [
      "100%|██████████| 3704/3704 [00:09<00:00, 408.51frames/s]"
     ]
    },
    {
     "name": "stdout",
     "output_type": "stream",
     "text": [
      "Scene count: 93\n",
      "Progerss:0.08%\r"
     ]
    },
    {
     "name": "stderr",
     "output_type": "stream",
     "text": [
      "\n"
     ]
    },
    {
     "name": "stdout",
     "output_type": "stream",
     "text": [
      "shazammovie.mp4 shazammovie\n",
      "1280 x 720 FPS: 25.0 4829.0\n"
     ]
    },
    {
     "name": "stderr",
     "output_type": "stream",
     "text": [
      "100%|██████████| 4829/4829 [00:12<00:00, 400.42frames/s]\n"
     ]
    },
    {
     "name": "stdout",
     "output_type": "stream",
     "text": [
      "Scene count: 127\n",
      "brittanyrunsmov.mp4 brittanyrunsmov\n"
     ]
    },
    {
     "name": "stderr",
     "output_type": "stream",
     "text": [
      "  0%|          | 0/3696 [00:00<?, ?frames/s]"
     ]
    },
    {
     "name": "stdout",
     "output_type": "stream",
     "text": [
      "1280 x 720 FPS: 23.976023976023978 3696.0\n"
     ]
    },
    {
     "name": "stderr",
     "output_type": "stream",
     "text": [
      "100%|██████████| 3696/3696 [00:09<00:00, 370.29frames/s]\n"
     ]
    },
    {
     "name": "stdout",
     "output_type": "stream",
     "text": [
      "Scene count: 108\n",
      "thesunisalsoastar.mp4 thesunisalsoastar\n",
      "1280 x 720 FPS: 23.976023976023978 3460.0\n"
     ]
    },
    {
     "name": "stderr",
     "output_type": "stream",
     "text": [
      "100%|██████████| 3460/3460 [00:08<00:00, 396.41frames/s]"
     ]
    },
    {
     "name": "stdout",
     "output_type": "stream",
     "text": [
      "Scene count: 99\n",
      "Progerss:0.03%\r"
     ]
    },
    {
     "name": "stderr",
     "output_type": "stream",
     "text": [
      "\n"
     ]
    },
    {
     "name": "stdout",
     "output_type": "stream",
     "text": [
      "lionking.mp4 lionking\n"
     ]
    },
    {
     "name": "stderr",
     "output_type": "stream",
     "text": [
      "  0%|          | 0/2606 [00:00<?, ?frames/s]"
     ]
    },
    {
     "name": "stdout",
     "output_type": "stream",
     "text": [
      "1280 x 690 FPS: 23.976023976023978 2606.0\n"
     ]
    },
    {
     "name": "stderr",
     "output_type": "stream",
     "text": [
      "100%|██████████| 2606/2606 [00:06<00:00, 402.69frames/s]"
     ]
    },
    {
     "name": "stdout",
     "output_type": "stream",
     "text": [
      "Scene count: 52\n",
      "Progerss:0.04%\r"
     ]
    },
    {
     "name": "stderr",
     "output_type": "stream",
     "text": [
      "\n"
     ]
    },
    {
     "name": "stdout",
     "output_type": "stream",
     "text": [
      "47metersdown.mp4 47metersdown\n",
      "1280 x 720 FPS: 23.976023976023978 2854.0\n"
     ]
    },
    {
     "name": "stderr",
     "output_type": "stream",
     "text": [
      "100%|██████████| 2854/2854 [00:07<00:00, 386.70frames/s]"
     ]
    },
    {
     "name": "stdout",
     "output_type": "stream",
     "text": [
      "Scene count: 82\n",
      "Progerss:0.07%\r"
     ]
    },
    {
     "name": "stderr",
     "output_type": "stream",
     "text": [
      "\n"
     ]
    },
    {
     "name": "stdout",
     "output_type": "stream",
     "text": [
      "theupsidefilm.mp4 theupsidefilm\n",
      "1280 x 720 FPS: 23.97602474187762 4170.0\n"
     ]
    },
    {
     "name": "stderr",
     "output_type": "stream",
     "text": [
      "100%|██████████| 4170/4170 [00:10<00:00, 384.05frames/s]"
     ]
    },
    {
     "name": "stdout",
     "output_type": "stream",
     "text": [
      "Scene count: 136\n",
      "Progerss:0.10%\r"
     ]
    },
    {
     "name": "stderr",
     "output_type": "stream",
     "text": [
      "\n"
     ]
    },
    {
     "name": "stdout",
     "output_type": "stream",
     "text": [
      "everybodyknowsmovie.mp4 everybodyknowsmovie\n",
      "1280 x 720 FPS: 23.976023976023978 3142.0\n"
     ]
    },
    {
     "name": "stderr",
     "output_type": "stream",
     "text": [
      "100%|██████████| 3142/3142 [00:08<00:00, 392.56frames/s]\n"
     ]
    },
    {
     "name": "stdout",
     "output_type": "stream",
     "text": [
      "Scene count: 66\n",
      "toystory.mp4 toystory\n"
     ]
    },
    {
     "name": "stderr",
     "output_type": "stream",
     "text": [
      "  0%|          | 0/3539 [00:00<?, ?frames/s]"
     ]
    },
    {
     "name": "stdout",
     "output_type": "stream",
     "text": [
      "1280 x 536 FPS: 23.976023976023978 3539.0\n"
     ]
    },
    {
     "name": "stderr",
     "output_type": "stream",
     "text": [
      "100%|██████████| 3539/3539 [00:06<00:00, 540.39frames/s]"
     ]
    },
    {
     "name": "stdout",
     "output_type": "stream",
     "text": [
      "Scene count: 95\n",
      "Progerss:0.08%\r"
     ]
    },
    {
     "name": "stderr",
     "output_type": "stream",
     "text": [
      "\n"
     ]
    },
    {
     "name": "stdout",
     "output_type": "stream",
     "text": [
      "aftermathmovie.mp4 aftermathmovie\n",
      "1280 x 720 FPS: 23.976023976023978 3712.0\n"
     ]
    },
    {
     "name": "stderr",
     "output_type": "stream",
     "text": [
      "100%|██████████| 3712/3712 [00:09<00:00, 404.30frames/s]"
     ]
    },
    {
     "name": "stdout",
     "output_type": "stream",
     "text": [
      "Scene count: 104\n",
      "Progerss:0.13%\r"
     ]
    },
    {
     "name": "stderr",
     "output_type": "stream",
     "text": [
      "\n"
     ]
    },
    {
     "name": "stdout",
     "output_type": "stream",
     "text": [
      "taosdfilm.mp4 taosdfilm\n",
      "1280 x "
     ]
    },
    {
     "name": "stderr",
     "output_type": "stream",
     "text": [
      "  0%|          | 0/3835 [00:00<?, ?frames/s]"
     ]
    },
    {
     "name": "stdout",
     "output_type": "stream",
     "text": [
      "720 FPS: 23.976023976023978 3835.0\n"
     ]
    },
    {
     "name": "stderr",
     "output_type": "stream",
     "text": [
      "100%|██████████| 3835/3835 [00:09<00:00, 407.43frames/s]"
     ]
    },
    {
     "name": "stdout",
     "output_type": "stream",
     "text": [
      "Scene count: 102\n",
      "Progerss:0.03%\r"
     ]
    },
    {
     "name": "stderr",
     "output_type": "stream",
     "text": [
      "\n"
     ]
    },
    {
     "name": "stdout",
     "output_type": "stream",
     "text": [
      "thefarewell.mp4 thefarewell\n"
     ]
    },
    {
     "name": "stderr",
     "output_type": "stream",
     "text": [
      "  0%|          | 0/3608 [00:00<?, ?frames/s]"
     ]
    },
    {
     "name": "stdout",
     "output_type": "stream",
     "text": [
      "1280 x 720 FPS: 23.976023976023978 3608.0\n"
     ]
    },
    {
     "name": "stderr",
     "output_type": "stream",
     "text": [
      "100%|██████████| 3608/3608 [00:08<00:00, 408.22frames/s]\n"
     ]
    },
    {
     "name": "stdout",
     "output_type": "stream",
     "text": [
      "Scene count: 70\n",
      "fivefeetapartfilm.mp4 fivefeetapartfilm\n"
     ]
    },
    {
     "name": "stderr",
     "output_type": "stream",
     "text": [
      "  0%|          | 0/3646 [00:00<?, ?frames/s]"
     ]
    },
    {
     "name": "stdout",
     "output_type": "stream",
     "text": [
      "1280 x 720 FPS: 23.976023976023978 3646.0\n"
     ]
    },
    {
     "name": "stderr",
     "output_type": "stream",
     "text": [
      "100%|██████████| 3646/3646 [00:08<00:00, 408.30frames/s]\n"
     ]
    },
    {
     "name": "stdout",
     "output_type": "stream",
     "text": [
      "Scene count: 110\n",
      "thehummingbirdprojectfilm.mp4 thehummingbirdprojectfilm\n"
     ]
    },
    {
     "name": "stderr",
     "output_type": "stream",
     "text": [
      "  0%|          | 0/3620 [00:00<?, ?frames/s]"
     ]
    },
    {
     "name": "stdout",
     "output_type": "stream",
     "text": [
      "1280 x 720 FPS: 23.976023976023978 3620.0\n"
     ]
    },
    {
     "name": "stderr",
     "output_type": "stream",
     "text": [
      "100%|██████████| 3620/3620 [00:08<00:00, 409.44frames/s]"
     ]
    },
    {
     "name": "stdout",
     "output_type": "stream",
     "text": [
      "Scene count: 111\n",
      "Progerss:0.17%\r"
     ]
    },
    {
     "name": "stderr",
     "output_type": "stream",
     "text": [
      "\n"
     ]
    },
    {
     "name": "stdout",
     "output_type": "stream",
     "text": [
      "fastandfuriousmovie.mp4 fastandfuriousmovie\n",
      "1280 x 720 FPS: 23.976023976023978 5203.0\n"
     ]
    },
    {
     "name": "stderr",
     "output_type": "stream",
     "text": [
      "100%|██████████| 5203/5203 [00:12<00:00, 409.70frames/s]"
     ]
    },
    {
     "name": "stdout",
     "output_type": "stream",
     "text": [
      "Scene count: 180\n",
      "Progerss:0.02%\r"
     ]
    },
    {
     "name": "stderr",
     "output_type": "stream",
     "text": [
      "\n"
     ]
    },
    {
     "name": "stdout",
     "output_type": "stream",
     "text": [
      "aftermovie.mp4 aftermovie\n"
     ]
    },
    {
     "name": "stderr",
     "output_type": "stream",
     "text": [
      "  0%|          | 0/13695 [00:00<?, ?frames/s]"
     ]
    },
    {
     "name": "stdout",
     "output_type": "stream",
     "text": [
      "1280 x 720 FPS: 23.976023976023978 13695.0\n"
     ]
    },
    {
     "name": "stderr",
     "output_type": "stream",
     "text": [
      "100%|██████████| 13695/13695 [00:34<00:00, 400.11frames/s]\n"
     ]
    },
    {
     "name": "stdout",
     "output_type": "stream",
     "text": [
      "Scene count: 235\n",
      "littlethemovie.mp4 littlethemovie\n",
      "1280 x 720 FPS: 23.976023976023978 4417.0\n"
     ]
    },
    {
     "name": "stderr",
     "output_type": "stream",
     "text": [
      "100%|██████████| 4417/4417 [00:10<00:00, 402.27frames/s]"
     ]
    },
    {
     "name": "stdout",
     "output_type": "stream",
     "text": [
      "Scene count: 129\n",
      "Progerss:0.07%\r"
     ]
    },
    {
     "name": "stderr",
     "output_type": "stream",
     "text": [
      "\n"
     ]
    },
    {
     "name": "stdout",
     "output_type": "stream",
     "text": [
      "gloriabellmovie.mp4 gloriabellmovie\n"
     ]
    },
    {
     "name": "stderr",
     "output_type": "stream",
     "text": [
      "  0%|          | 0/3506 [00:00<?, ?frames/s]"
     ]
    },
    {
     "name": "stdout",
     "output_type": "stream",
     "text": [
      "1280 x 720 FPS: 23.976023976023978 3506.0\n"
     ]
    },
    {
     "name": "stderr",
     "output_type": "stream",
     "text": [
      "100%|██████████| 3506/3506 [00:08<00:00, 397.86frames/s]"
     ]
    },
    {
     "name": "stdout",
     "output_type": "stream",
     "text": [
      "Scene count: 65\n",
      "Progerss:0.03%\r"
     ]
    },
    {
     "name": "stderr",
     "output_type": "stream",
     "text": [
      "\n"
     ]
    },
    {
     "name": "stdout",
     "output_type": "stream",
     "text": [
      "childsplaymovie.mp4 childsplaymovie\n",
      "1280 x 720 FPS: 23.976023976023978 2919.0\n"
     ]
    },
    {
     "name": "stderr",
     "output_type": "stream",
     "text": [
      "100%|██████████| 2919/2919 [00:07<00:00, 408.81frames/s]"
     ]
    },
    {
     "name": "stdout",
     "output_type": "stream",
     "text": [
      "Scene count: 82\n",
      "Progerss:0.07%\r"
     ]
    },
    {
     "name": "stderr",
     "output_type": "stream",
     "text": [
      "\n"
     ]
    },
    {
     "name": "stdout",
     "output_type": "stream",
     "text": [
      "escaperoom.mp4 escaperoom\n"
     ]
    },
    {
     "name": "stderr",
     "output_type": "stream",
     "text": [
      "  0%|          | 0/3889 [00:00<?, ?frames/s]"
     ]
    },
    {
     "name": "stdout",
     "output_type": "stream",
     "text": [
      "1280 x 720 FPS: 23.976023976023978 3889.0\n"
     ]
    },
    {
     "name": "stderr",
     "output_type": "stream",
     "text": [
      "100%|██████████| 3889/3889 [00:09<00:00, 407.69frames/s]"
     ]
    },
    {
     "name": "stdout",
     "output_type": "stream",
     "text": [
      "Scene count: 124\n",
      "Progerss:0.10%\r"
     ]
    },
    {
     "name": "stderr",
     "output_type": "stream",
     "text": [
      "\n"
     ]
    },
    {
     "name": "stdout",
     "output_type": "stream",
     "text": [
      "detectivepikachumovie.mp4 detectivepikachumovie\n"
     ]
    },
    {
     "name": "stderr",
     "output_type": "stream",
     "text": [
      "  0%|          | 0/3402 [00:00<?, ?frames/s]"
     ]
    },
    {
     "name": "stdout",
     "output_type": "stream",
     "text": [
      "1280 x 720 FPS: 23.976023976023978 3402.0\n"
     ]
    },
    {
     "name": "stderr",
     "output_type": "stream",
     "text": [
      "100%|██████████| 3402/3402 [00:08<00:00, 407.93frames/s]"
     ]
    },
    {
     "name": "stdout",
     "output_type": "stream",
     "text": [
      "Scene count: 80\n",
      "Progerss:0.15%\r"
     ]
    },
    {
     "name": "stderr",
     "output_type": "stream",
     "text": [
      "\n"
     ]
    },
    {
     "name": "stdout",
     "output_type": "stream",
     "text": [
      "Progerss:99.97%\r"
     ]
    }
   ],
   "source": [
    "for file in os.listdir(PATH):\n",
    "    \n",
    "    video = PATH + file\n",
    "    prefix = file.split('.')[0]\n",
    "    print(file, prefix)\n",
    "    \n",
    "    savePath = TRAILER + prefix\n",
    "    newPath(savePath)\n",
    "    \n",
    "    cap = cv2.VideoCapture(video)\n",
    "    w = int(cap.get(3))\n",
    "    h = int(cap.get(4))\n",
    "    fps = cap.get(5)\n",
    "    duration = cap.get(7)\n",
    "    print(w, 'x', h, 'FPS:', fps, duration)\n",
    "    fourcc = cv2.VideoWriter_fourcc(*'XVID')\n",
    "    \n",
    "    # scenedetect\n",
    "    video_manager = VideoManager([video])\n",
    "    stats_manager = StatsManager()\n",
    "    scene_manager = SceneManager(stats_manager)\n",
    "    # Add ContentDetector algorithm (constructor takes detector options like threshold).\n",
    "    scene_manager.add_detector(ContentDetector())\n",
    "    base_timecode = video_manager.get_base_timecode()\n",
    "\n",
    "    try:\n",
    "        video_manager.set_duration()\n",
    "\n",
    "        # Set downscale factor to improve processing speed (no args means default).\n",
    "        video_manager.set_downscale_factor()\n",
    "\n",
    "        # Start video_manager.\n",
    "        video_manager.start()\n",
    "\n",
    "        # Perform scene detection on video_manager.\n",
    "        scene_manager.detect_scenes(frame_source=video_manager)\n",
    "\n",
    "        # Obtain list of detected scenes.\n",
    "        scene_list = scene_manager.get_scene_list(base_timecode)\n",
    "        # Like FrameTimecodes, each scene in the scene_list can be sorted if the\n",
    "        # list of scenes becomes unsorted.\n",
    "\n",
    "#         print('List of scenes obtained:')\n",
    "        length = len(scene_list)\n",
    "        print('Scene count:', length)\n",
    "        for i, scene in enumerate(scene_list):\n",
    "            \n",
    "            scenePath = savePath + '/' + 'scene_' + str(i+1) +'/'\n",
    "            newPath(scenePath)\n",
    "            \n",
    "            framePath = scenePath + 'frames/'\n",
    "            newPath(framePath)\n",
    "            filename = scenePath + 'clip.avi'\n",
    "#             print(filename)\n",
    "            \n",
    "#             out = cv2.VideoWriter(filename, fourcc, fps, (w, h))\n",
    "            \n",
    "            start = scene[0].get_frames()\n",
    "            end = scene[1].get_frames()\n",
    "            \n",
    "#             print('    Scene %2d: Start %s / Frame %d, End %s / Frame %d' % (\n",
    "#                 i+1,\n",
    "#                 scene[0].get_timecode(), start,\n",
    "#                 scene[1].get_timecode(), end,))\n",
    "            \n",
    "            cap.set(1,start)\n",
    "            \n",
    "            while(cap.isOpened()):\n",
    "                \n",
    "                ret, frame = cap.read()\n",
    "                \n",
    "                current = int(cap.get(1))\n",
    "                \n",
    "                if (ret == True):\n",
    "#                     out.write(frame)\n",
    "                    cv2.imwrite(framePath + str(current) + '.jpg', frame)\n",
    "                    \n",
    "                    if current == end:\n",
    "                        break\n",
    "                else:\n",
    "                    break\n",
    "                \n",
    "                writeProgress('Progerss:',current, duration)\n",
    "    #     # We only write to the stats file if a save is required:\n",
    "    #     if stats_manager.is_save_required():\n",
    "    #         with open(STATS_FILE_PATH, 'w') as stats_file:\n",
    "    #             stats_manager.save_to_csv(stats_file, base_timecode)\n",
    "\n",
    "    finally:\n",
    "        video_manager.release()\n",
    "        cap.release()\n",
    "#         out.release()"
   ]
  },
  {
   "cell_type": "code",
   "execution_count": null,
   "metadata": {
    "scrolled": true
   },
   "outputs": [],
   "source": []
  }
 ],
 "metadata": {
  "kernelspec": {
   "display_name": "Python 3",
   "language": "python",
   "name": "python3"
  },
  "language_info": {
   "codemirror_mode": {
    "name": "ipython",
    "version": 3
   },
   "file_extension": ".py",
   "mimetype": "text/x-python",
   "name": "python",
   "nbconvert_exporter": "python",
   "pygments_lexer": "ipython3",
   "version": "3.6.9"
  }
 },
 "nbformat": 4,
 "nbformat_minor": 4
}
