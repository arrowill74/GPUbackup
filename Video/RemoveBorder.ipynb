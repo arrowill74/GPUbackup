{
 "cells": [
  {
   "cell_type": "code",
   "execution_count": 1,
   "metadata": {},
   "outputs": [],
   "source": [
    "# Basic import\n",
    "import os\n",
    "import sys\n",
    "import json\n",
    "import shutil\n",
    "import pandas as pd\n",
    "import numpy as np\n",
    "import matplotlib.pyplot as plt"
   ]
  },
  {
   "cell_type": "code",
   "execution_count": 2,
   "metadata": {},
   "outputs": [],
   "source": [
    "# Helper function\n",
    "def writeProgress(msg, count, total):\n",
    "    sys.stdout.write(msg + \"{:.2%}\\r\".format(count/total))\n",
    "    sys.stdout.flush()\n",
    "    \n",
    "def newPath(path):\n",
    "    if not os.path.isdir(path):\n",
    "        os.mkdir(path)\n",
    "\n",
    "def read_json(src_path):\n",
    "    with open(src_path, 'r') as json_file:\n",
    "        data = json.load(json_file)\n",
    "    return data\n",
    "\n",
    "def write_json(data,dst_path):\n",
    "    with open(dst_path, 'w') as outfile:\n",
    "        json.dump(data, outfile)\n",
    "\n",
    "def writeLog(row):\n",
    "    with open('log.txt', 'a') as outfile:\n",
    "        outfile.write(row + '\\n')\n",
    "        \n",
    "def getErrMsg(e):\n",
    "    error_class = e.__class__.__name__ #取得錯誤類型\n",
    "    detail = e.args[0] #取得詳細內容\n",
    "    errMsg = \"[{}] {}\".format(error_class, detail)\n",
    "    return errMsg"
   ]
  },
  {
   "cell_type": "code",
   "execution_count": 3,
   "metadata": {},
   "outputs": [
    {
     "name": "stdout",
     "output_type": "stream",
     "text": [
      "20 ['Action', 'Adventure', 'Animation', 'Biography', 'Comedy', 'Crime', 'Documentary', 'Drama', 'Family', 'Fantasy', 'History', 'Horror', 'Music', 'Mystery', 'Romance', 'Sci-Fi', 'Sport', 'Thriller', 'War', 'Western']\n"
     ]
    }
   ],
   "source": [
    "# 讀取固定的類別順序\n",
    "genres = read_json('../orderdListGenres.json')\n",
    "print(len(genres), genres)"
   ]
  },
  {
   "cell_type": "code",
   "execution_count": 4,
   "metadata": {},
   "outputs": [
    {
     "data": {
      "text/plain": [
       "97"
      ]
     },
     "execution_count": 4,
     "metadata": {},
     "output_type": "execute_result"
    }
   ],
   "source": [
    "# 讀取電影所屬的分類\n",
    "genresMat = read_json('../genresMat.json')\n",
    "len(genresMat)"
   ]
  },
  {
   "cell_type": "markdown",
   "metadata": {},
   "source": [
    "# Makedir SplitTrailers_crop/"
   ]
  },
  {
   "cell_type": "code",
   "execution_count": 5,
   "metadata": {},
   "outputs": [],
   "source": [
    "PATH = './2018Trailers/'\n",
    "TRAILER = './2018SplitTrailers_crop/'\n",
    "newPath(TRAILER)"
   ]
  },
  {
   "cell_type": "code",
   "execution_count": 6,
   "metadata": {},
   "outputs": [],
   "source": [
    "from __future__ import print_function\n",
    "import scenedetect\n",
    "from scenedetect.video_manager import VideoManager\n",
    "from scenedetect.scene_manager import SceneManager\n",
    "from scenedetect.frame_timecode import FrameTimecode\n",
    "from scenedetect.stats_manager import StatsManager\n",
    "from scenedetect.detectors import ContentDetector\n",
    "import cv2     # for capturing videos"
   ]
  },
  {
   "cell_type": "code",
   "execution_count": 7,
   "metadata": {},
   "outputs": [],
   "source": [
    "def splitScene(dic, horizontal = True):\n",
    "    count = 0\n",
    "    for key, v in dic.items():\n",
    "        count += 1\n",
    "        \n",
    "        video = PATH + key + '.mp4'\n",
    "        border = v\n",
    "        print(count, key, border)\n",
    "\n",
    "        savePath = TRAILER + key\n",
    "        newPath(savePath)\n",
    "\n",
    "        cap = cv2.VideoCapture(video)\n",
    "        w = int(cap.get(3))\n",
    "        h = int(cap.get(4))\n",
    "        fps = cap.get(5)\n",
    "        duration = cap.get(7)\n",
    "        print(w, 'x', h, 'FPS:', fps, duration)\n",
    "        fourcc = cv2.VideoWriter_fourcc(*'XVID')\n",
    "        if horizontal:\n",
    "            newH = h - 2*border # horizontal\n",
    "        else:\n",
    "            newW = w - 2*border # vertical\n",
    "            \n",
    "        # scenedetect\n",
    "        video_manager = VideoManager([video])\n",
    "        stats_manager = StatsManager()\n",
    "        scene_manager = SceneManager(stats_manager)\n",
    "        # Add ContentDetector algorithm (constructor takes detector options like threshold).\n",
    "        scene_manager.add_detector(ContentDetector())\n",
    "        base_timecode = video_manager.get_base_timecode()\n",
    "\n",
    "        try:\n",
    "            video_manager.set_duration()\n",
    "\n",
    "            # Set downscale factor to improve processing speed (no args means default).\n",
    "            video_manager.set_downscale_factor()\n",
    "\n",
    "            # Start video_manager.\n",
    "            video_manager.start()\n",
    "\n",
    "            # Perform scene detection on video_manager.\n",
    "            scene_manager.detect_scenes(frame_source=video_manager)\n",
    "\n",
    "            # Obtain list of detected scenes.\n",
    "            scene_list = scene_manager.get_scene_list(base_timecode)\n",
    "            # Like FrameTimecodes, each scene in the scene_list can be sorted if the\n",
    "            # list of scenes becomes unsorted.\n",
    "\n",
    "    #         print('List of scenes obtained:')\n",
    "            length = len(scene_list)\n",
    "            print('Scene count:', length)\n",
    "            for i, scene in enumerate(scene_list):\n",
    "\n",
    "                scenePath = savePath + '/' + 'scene_' + str(i+1) +'/'\n",
    "                newPath(scenePath)\n",
    "\n",
    "                framePath = scenePath + 'frames/'\n",
    "                newPath(framePath)\n",
    "                filename = scenePath + 'clip.avi'\n",
    "    #             print(filename)\n",
    "\n",
    "                out = cv2.VideoWriter(filename, fourcc, fps, (w if horizontal else newW, \n",
    "                                                              newH if horizontal else h))\n",
    "\n",
    "                start = scene[0].get_frames()\n",
    "                end = scene[1].get_frames()\n",
    "\n",
    "                cap.set(1,start)\n",
    "\n",
    "                while(cap.isOpened()):\n",
    "\n",
    "                    ret, frame = cap.read()\n",
    "                    if horizontal:\n",
    "                        frame = frame[border: h - border, :] # horizontal\n",
    "                    else:\n",
    "                        frame = frame[:, border: w - border] # vertical\n",
    "\n",
    "                    current = int(cap.get(1))\n",
    "\n",
    "                    if (ret == True):\n",
    "                        out.write(frame)\n",
    "                        cv2.imwrite(framePath + str(current) + '.jpg', frame)\n",
    "\n",
    "                        if current == end:\n",
    "                            break\n",
    "                    else:\n",
    "                        break\n",
    "\n",
    "                    writeProgress('Progerss:',current, duration)\n",
    "        except Exception as e:\n",
    "            errMsg = getErrMsg(e)\n",
    "            print(errMsg)\n",
    "            writeLog(key + '\\n\\t' + errMsg)\n",
    "            \n",
    "        finally:\n",
    "            video_manager.release()\n",
    "            cap.release()\n",
    "            out.release()"
   ]
  },
  {
   "cell_type": "markdown",
   "metadata": {},
   "source": [
    "## Get horizontal and vertical dict respectively"
   ]
  },
  {
   "cell_type": "code",
   "execution_count": 8,
   "metadata": {},
   "outputs": [
    {
     "name": "stdout",
     "output_type": "stream",
     "text": [
      "<class 'str'>\n",
      "<class 'dict'>\n",
      "1405\n"
     ]
    }
   ],
   "source": [
    "dic = read_json('./json/crop_dict4Trailers_2018.json')\n",
    "print(type(dic))\n",
    "dic = eval(dic)\n",
    "print(type(dic))\n",
    "print(len(dic))\n",
    "\n",
    "# del dic['highlifemovie']\n",
    "# print(len(dic))"
   ]
  },
  {
   "cell_type": "code",
   "execution_count": 9,
   "metadata": {},
   "outputs": [
    {
     "name": "stdout",
     "output_type": "stream",
     "text": [
      "<class 'str'>\n",
      "<class 'dict'>\n",
      "33\n"
     ]
    }
   ],
   "source": [
    "dic_v = read_json('./json/crop_dict4Trailers_vertical_2018.json')\n",
    "print(type(dic_v))\n",
    "dic_v = eval(dic_v)\n",
    "print(type(dic_v))\n",
    "print(len(dic_v))"
   ]
  },
  {
   "cell_type": "markdown",
   "metadata": {},
   "source": [
    "### For horizontal crop"
   ]
  },
  {
   "cell_type": "code",
   "execution_count": null,
   "metadata": {
    "scrolled": true
   },
   "outputs": [
    {
     "name": "stdout",
     "output_type": "stream",
     "text": [
      "1 tt7666250 92\n",
      "1280 x 720 FPS: 25.0 3258.0\n",
      "Scene count: 104\n",
      "Progerss:42.27%\r"
     ]
    }
   ],
   "source": [
    "splitScene(dic)"
   ]
  },
  {
   "cell_type": "code",
   "execution_count": null,
   "metadata": {},
   "outputs": [],
   "source": [
    "len(os.listdir(TRAILER))"
   ]
  },
  {
   "cell_type": "markdown",
   "metadata": {},
   "source": [
    "### For vertical crop"
   ]
  },
  {
   "cell_type": "code",
   "execution_count": null,
   "metadata": {},
   "outputs": [],
   "source": [
    "splitScene(dic_v, horizontal = False)"
   ]
  },
  {
   "cell_type": "code",
   "execution_count": null,
   "metadata": {},
   "outputs": [],
   "source": [
    "len(os.listdir(TRAILER))"
   ]
  },
  {
   "cell_type": "markdown",
   "metadata": {},
   "source": [
    "# Check crop results"
   ]
  },
  {
   "cell_type": "code",
   "execution_count": null,
   "metadata": {},
   "outputs": [],
   "source": [
    "import random"
   ]
  },
  {
   "cell_type": "code",
   "execution_count": null,
   "metadata": {},
   "outputs": [],
   "source": [
    "originPath = './SplitTrailers/'\n",
    "cropPath = './SplitTrailers_crop/'"
   ]
  },
  {
   "cell_type": "code",
   "execution_count": null,
   "metadata": {},
   "outputs": [],
   "source": [
    "lis = os.listdir(originPath)\n",
    "print(len(lis))\n",
    "print(lis.index('highlifemovie'))"
   ]
  },
  {
   "cell_type": "code",
   "execution_count": null,
   "metadata": {
    "scrolled": true
   },
   "outputs": [],
   "source": [
    "countdown = len(os.listdir(originPath))\n",
    "\n",
    "for movie in os.listdir(originPath):\n",
    "    print('Running:', countdown, movie)\n",
    "    sceneList = os.listdir(originPath + movie)\n",
    "    nxt = True\n",
    "    while nxt:\n",
    "        scene = random.choice(sceneList)\n",
    "        framePath = originPath + movie + '/' + scene + '/frames/'\n",
    "        frameList = [int(name.split('.')[0]) for name in os.listdir(framePath)]\n",
    "        frameList.sort()\n",
    "    #     print(frameList)\n",
    "        keyframe = str(frameList[len(frameList)//2]) + '.jpg'\n",
    "        print(keyframe)\n",
    "\n",
    "        ori_img = cv2.imread(originPath + movie + '/' + scene + '/frames/' + keyframe)[:,:,::-1]\n",
    "        crop_img = cv2.imread(cropPath + movie + '/' + scene + '/frames/' + keyframe)[:,:,::-1]\n",
    "\n",
    "        plt.subplot(121).set_title(\"Original\"), plt.imshow(ori_img)\n",
    "        plt.subplot(122).set_title(\"Cropped\"), plt.imshow(crop_img)\n",
    "        plt.show()\n",
    "        \n",
    "        usr_input = input()\n",
    "        # \"Enter\" to next movie, otherwise random pick another image for check\n",
    "        if usr_input == '': # move forwards\n",
    "            nxt = False\n",
    "            countdown -=1"
   ]
  },
  {
   "cell_type": "code",
   "execution_count": null,
   "metadata": {},
   "outputs": [],
   "source": []
  }
 ],
 "metadata": {
  "kernelspec": {
   "display_name": "Python 3",
   "language": "python",
   "name": "python3"
  },
  "language_info": {
   "codemirror_mode": {
    "name": "ipython",
    "version": 3
   },
   "file_extension": ".py",
   "mimetype": "text/x-python",
   "name": "python",
   "nbconvert_exporter": "python",
   "pygments_lexer": "ipython3",
   "version": "3.6.10"
  }
 },
 "nbformat": 4,
 "nbformat_minor": 4
}
