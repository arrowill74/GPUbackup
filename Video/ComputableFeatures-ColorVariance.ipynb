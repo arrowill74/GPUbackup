{
 "cells": [
  {
   "cell_type": "code",
   "execution_count": 1,
   "metadata": {},
   "outputs": [],
   "source": [
    "# Basic import\n",
    "import os\n",
    "import sys\n",
    "import json\n",
    "import shutil\n",
    "import pandas as pd\n",
    "import numpy as np\n",
    "import matplotlib.pyplot as plt\n",
    "\n",
    "import cv2"
   ]
  },
  {
   "cell_type": "code",
   "execution_count": 2,
   "metadata": {},
   "outputs": [],
   "source": [
    "# Helper function\n",
    "def writeProgress(msg, count, total):\n",
    "    sys.stdout.write(msg + \"{:.2%}\\r\".format(count/total))\n",
    "    sys.stdout.flush()\n",
    "    \n",
    "def newPath(path):\n",
    "    if not os.path.isdir(path):\n",
    "        os.mkdir(path)\n",
    "\n",
    "def read_json(src_path):\n",
    "    with open(src_path, 'r') as json_file:\n",
    "        data = json.load(json_file)\n",
    "    return data\n",
    "\n",
    "def write_json(data,dst_path):\n",
    "    with open(dst_path, 'w') as outfile:\n",
    "        json.dump(data, outfile)"
   ]
  },
  {
   "cell_type": "markdown",
   "metadata": {},
   "source": [
    "## 2019 movies"
   ]
  },
  {
   "cell_type": "code",
   "execution_count": 3,
   "metadata": {},
   "outputs": [
    {
     "name": "stdout",
     "output_type": "stream",
     "text": [
      "['21bridgesmovie', '47metersdown', 'abeautifuldaymovie', 'abominablemovie', 'adastramovie', 'adogsjourneymovie', 'aftermathmovie', 'aftermovie', 'ahiddenlifefilm', 'alitamovie']\n",
      "165 ['21bridgesmovie', '47metersdown', 'abeautifuldaymovie', 'abominablemovie', 'adastramovie', 'adogsjourneymovie', 'aftermathmovie', 'aftermovie', 'ahiddenlifefilm', 'alitamovie']\n"
     ]
    }
   ],
   "source": [
    "PATH = './SplitTrailers_crop/'\n",
    "trailers = os.listdir(PATH)\n",
    "trailers.sort()\n",
    "print(trailers[:10])\n",
    "# trailers = trailers[1:]\n",
    "print(len(trailers), trailers[:10])"
   ]
  },
  {
   "cell_type": "markdown",
   "metadata": {},
   "source": [
    "# B_ColorVariance\n",
    "* https://docs.opencv.org/3.4/de/d25/imgproc_color_conversions.html#color_convert_rgb_luv\n",
    "* https://docs.scipy.org/doc/numpy/reference/generated/numpy.linalg.det.html\n",
    "* https://www.pyimagesearch.com/2017/06/05/computing-image-colorfulness-with-opencv-and-python/"
   ]
  },
  {
   "cell_type": "code",
   "execution_count": 4,
   "metadata": {},
   "outputs": [],
   "source": [
    "SAVE_PATH = './ColorVariance/'\n",
    "newPath(SAVE_PATH)"
   ]
  },
  {
   "cell_type": "code",
   "execution_count": null,
   "metadata": {
    "scrolled": false
   },
   "outputs": [
    {
     "name": "stdout",
     "output_type": "stream",
     "text": [
      "Running: 21bridgesmovie\n"
     ]
    },
    {
     "name": "stderr",
     "output_type": "stream",
     "text": [
      "/home/tonylab/miniconda3/envs/tf/lib/python3.6/site-packages/ipykernel_launcher.py:20: RuntimeWarning: divide by zero encountered in log\n"
     ]
    },
    {
     "name": "stdout",
     "output_type": "stream",
     "text": [
      "Running: 47metersdown\n",
      "Running: abeautifuldaymovie\n",
      "Running: abominablemovie\n",
      "Running: adastramovie\n",
      "Running: adogsjourneymovie\n",
      "Running: aftermathmovie\n",
      "Running: aftermovie\n",
      "Running: ahiddenlifefilm\n",
      "Running: alitamovie\n",
      "Running: angelhasfallen\n",
      "Running: angrybirdsmovie\n",
      "Running: annabellemovie\n",
      "Running: annamovie\n",
      "Running: apollo11movie\n",
      "Running: arcticdogsmovie\n",
      "Running: arcticmovie\n",
      "Running: artofracingmovie\n",
      "Running: avengers\n",
      "Running: beachbummovie\n",
      "Running: bernadettefilm\n",
      "Running: blackandbluemovie\n",
      "Running: blackchristmas\n",
      "Running: blindedbythelightmovie\n",
      "Running: bombshellmovie\n",
      "Running: booksmart\n",
      "Running: breakthroughmovie\n",
      "Running: brianbanksmovie\n",
      "Running: brightburnmovie\n",
      "Running: brittanyrunsmov\n",
      "Running: captainmarvelofficial\n",
      "Running: captivestatemovie\n",
      "Running: catsmovie\n",
      "Running: charliesangels\n",
      "Running: childsplaymovie\n",
      "Running: clarathefilm\n",
      "Running: coldpursuitmovie\n",
      "Running: countdown\n",
      "Running: currentwarmovie\n",
      "Running: darkwatersmovie\n",
      "Running: detectivepikachumovie\n",
      "Running: disneyaladdin\n",
      "Running: disneyfrozen\n"
     ]
    },
    {
     "name": "stderr",
     "output_type": "stream",
     "text": [
      "/home/tonylab/miniconda3/envs/tf/lib/python3.6/site-packages/ipykernel_launcher.py:20: RuntimeWarning: invalid value encountered in log\n"
     ]
    },
    {
     "name": "stdout",
     "output_type": "stream",
     "text": [
      "Running: disneymaleficent\n",
      "Running: doctorsleepmovie\n",
      "Running: dolemiteismyname\n",
      "Running: dontletgomovie\n",
      "Running: doramovie\n",
      "Running: downtonabbey_official\n",
      "Running: dumbo\n",
      "Running: escaperoom\n",
      "Running: everybodyknowsmovie\n",
      "Running: fastandfuriousmovie\n",
      "Running: fightingwmyfam\n",
      "Running: fivefeetapartfilm\n",
      "Running: fordvferrari\n",
      "Running: freaksthefilm\n",
      "Running: geminimanmovie\n",
      "Running: glassmovie\n",
      "Running: gloriabellmovie\n",
      "Running: godzillamovie\n",
      "Running: goldfinchmovie\n",
      "Running: goodboysmovie\n",
      "Running: goodliarmovie\n",
      "Running: gretafilm\n",
      "Running: halathemovie\n",
      "Running: happydeathdaymovie\n",
      "Running: harrietfilm\n",
      "Running: hellboymovie\n",
      "Running: hersmellmovie\n",
      "Running: highlifemovie\n",
      "Running: highstrungmovie\n",
      "Running: honeyboymovie\n",
      "Running: hotelmumbaifilm\n",
      "Running: httydragon\n",
      "Running: hustlemovie\n",
      "Running: hustlersmovie\n",
      "Running: isntitromantic\n",
      "Running: itmovieofficial\n",
      "Running: jayandsilentbob\n",
      "Running: johnwickmovie\n"
     ]
    }
   ],
   "source": [
    "B_li = []\n",
    "for movie in trailers: #order:\n",
    "    rho = []\n",
    "    print('Running:', movie)\n",
    "    newPath(SAVE_PATH + movie + '/')\n",
    "    \n",
    "    for scene in os.listdir(PATH + movie):\n",
    "        framePath = PATH + movie + '/' + scene + '/frames/'\n",
    "        frameList = [int(name.split('.')[0]) for name in os.listdir(framePath) if not name.startswith('.')]\n",
    "        frameList.sort()\n",
    "        keyframe = framePath + '/' + str(frameList[len(frameList)//2]) + '.jpg'\n",
    "        img = cv2.imread(keyframe)\n",
    "        luv = cv2.cvtColor(img, cv2.COLOR_BGR2Luv)\n",
    "        l = luv[:,:,0].ravel()\n",
    "        u = luv[:,:,1].ravel()\n",
    "        v = luv[:,:,2].ravel()\n",
    "        x = np.asarray((l, u, v))\n",
    "        cov = np.cov(x)\n",
    "        det = np.linalg.det(cov)\n",
    "        log = np.log(det)\n",
    "\n",
    "        cv2.putText(img, \"{:.2f}\".format(log), (40, 40), \n",
    "                    cv2.FONT_HERSHEY_SIMPLEX, 1.4, (0, 255, 0), 3)\n",
    "        img_rgb = img[:,:,::-1]\n",
    "        plt.imshow(img_rgb)\n",
    "        plt.savefig(SAVE_PATH + movie + '/' + scene + '.png', dpi=150)"
   ]
  },
  {
   "cell_type": "code",
   "execution_count": null,
   "metadata": {},
   "outputs": [],
   "source": []
  }
 ],
 "metadata": {
  "kernelspec": {
   "display_name": "Python 3",
   "language": "python",
   "name": "python3"
  },
  "language_info": {
   "codemirror_mode": {
    "name": "ipython",
    "version": 3
   },
   "file_extension": ".py",
   "mimetype": "text/x-python",
   "name": "python",
   "nbconvert_exporter": "python",
   "pygments_lexer": "ipython3",
   "version": "3.6.10"
  }
 },
 "nbformat": 4,
 "nbformat_minor": 4
}
