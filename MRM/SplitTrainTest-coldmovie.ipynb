{
 "cells": [
  {
   "cell_type": "code",
   "execution_count": 1,
   "metadata": {
    "scrolled": true
   },
   "outputs": [],
   "source": [
    "# Basic import\n",
    "import os\n",
    "import sys\n",
    "import json\n",
    "import math\n",
    "import shutil\n",
    "import random\n",
    "import pandas as pd\n",
    "import numpy as np"
   ]
  },
  {
   "cell_type": "code",
   "execution_count": 2,
   "metadata": {
    "scrolled": true
   },
   "outputs": [],
   "source": [
    "# Helper function\n",
    "def writeProgress(msg, count, total):\n",
    "    sys.stdout.write(msg + \"{:.2%}\\r\".format(count/total))\n",
    "    sys.stdout.flush()\n",
    "    \n",
    "def newPath(path):\n",
    "    if not os.path.isdir(path):\n",
    "        os.mkdir(path)\n",
    "\n",
    "def read_json(src_path):\n",
    "    with open(src_path, 'r') as json_file:\n",
    "        data = json.load(json_file)\n",
    "    return data\n",
    "\n",
    "def write_json(data,dst_path):\n",
    "    with open(dst_path, 'w') as outfile:\n",
    "        json.dump(data, outfile)\n",
    "\n",
    "def writeLog(row):\n",
    "    with open('log.txt', 'a') as outfile:\n",
    "        outfile.write(row + '\\n')\n",
    "\n",
    "def getErrMsg(e):\n",
    "    error_class = e.__class__.__name__ #取得錯誤類型\n",
    "    detail = e.args[0] #取得詳細內容\n",
    "    errMsg = \"[{}] {}\".format(error_class, detail)\n",
    "    return errMsg"
   ]
  },
  {
   "cell_type": "code",
   "execution_count": 3,
   "metadata": {},
   "outputs": [],
   "source": [
    "DATA_DIR = './'\n",
    "pro_dir = os.path.join(DATA_DIR, 'pro_sg_coldmovie')\n",
    "dmf_dir = os.path.join(DATA_DIR, 'DMF_data_coldmovie')\n",
    "if not os.path.exists(pro_dir):\n",
    "    os.makedirs(pro_dir)\n",
    "if not os.path.exists(dmf_dir):\n",
    "    os.makedirs(dmf_dir)"
   ]
  },
  {
   "cell_type": "markdown",
   "metadata": {},
   "source": [
    "# Load numpy array"
   ]
  },
  {
   "cell_type": "code",
   "execution_count": 4,
   "metadata": {
    "scrolled": true
   },
   "outputs": [
    {
     "name": "stdout",
     "output_type": "stream",
     "text": [
      "All features: (165, 2372)\n",
      "Movie genre: (165, 20)\n",
      "User following: (1582, 165)\n",
      "User genre: (1582, 20)\n"
     ]
    }
   ],
   "source": [
    "all_npy = np.load('./npy/all_2372.npy')\n",
    "movie_genre = np.load('./npy/movie_genre.npy')\n",
    "usr_following = np.load('./npy/user_followings.npy')\n",
    "usr_genre = np.load('./npy/user_genre.npy')\n",
    "\n",
    "print('All features:', all_npy.shape)\n",
    "print('Movie genre:', movie_genre.shape)\n",
    "print('User following:', usr_following.shape)\n",
    "print('User genre:', usr_genre.shape)"
   ]
  },
  {
   "cell_type": "code",
   "execution_count": 5,
   "metadata": {
    "scrolled": true
   },
   "outputs": [
    {
     "name": "stdout",
     "output_type": "stream",
     "text": [
      "1582 165\n",
      "64 2372 240\n"
     ]
    }
   ],
   "source": [
    "usr_nb = len(usr_following) # the number of users\n",
    "movie_nb = len(movie_genre)  # the number of movies\n",
    "print(usr_nb, movie_nb)\n",
    "\n",
    "# usr_test_amount = 150\n",
    "# movie_test_amount = 32\n",
    "# print(usr_test_amount, movie_test_amount)\n",
    "\n",
    "latent_dim = 64 # latent dims\n",
    "ft_dim = all_npy.shape[1] # feature dims\n",
    "embedding_dims = 240\n",
    "print(latent_dim, ft_dim, embedding_dims)"
   ]
  },
  {
   "cell_type": "markdown",
   "metadata": {},
   "source": [
    "# Training & testing split"
   ]
  },
  {
   "cell_type": "markdown",
   "metadata": {},
   "source": [
    "## Prepare"
   ]
  },
  {
   "cell_type": "code",
   "execution_count": 6,
   "metadata": {},
   "outputs": [
    {
     "name": "stdout",
     "output_type": "stream",
     "text": [
      "Min number of followers: 1\n",
      "Max number of followers: 520\n",
      "Avg of followers: 142.0969696969697\n",
      "The num of followers over 5: 163\n"
     ]
    }
   ],
   "source": [
    "#The number of followers for each movie\n",
    "moive_followers = np.sum(usr_following, axis=0)\n",
    "# print(moive_followers)\n",
    "\n",
    "print('Min number of followers:', np.min(moive_followers))\n",
    "print('Max number of followers:', np.max(moive_followers))\n",
    "print('Avg of followers:', np.mean(moive_followers))\n",
    "\n",
    "asc = np.sort(moive_followers)\n",
    "# print(asc)\n",
    "desc = np.flip(asc)\n",
    "# print(desc)\n",
    "\n",
    "over5 = 0\n",
    "for num in moive_followers:\n",
    "    if num >= 5:\n",
    "        over5 += 1\n",
    "print('The num of followers over 5:', over5)"
   ]
  },
  {
   "cell_type": "code",
   "execution_count": 7,
   "metadata": {},
   "outputs": [
    {
     "name": "stdout",
     "output_type": "stream",
     "text": [
      "<= 10: 3\n",
      "<= 20: 13\n",
      "<= 30: 21\n",
      "<= 40: 32\n",
      "<= 50: 40\n",
      "<= 100: 76\n",
      "(76,) [  6   7   8  11  13  14  15  16  17  19  20  23  26  27  29  31  32  33\n",
      "  35  36  38  39  41  43  45  46  47  48  51  54  56  59  61  63  65  67\n",
      "  69  70  71  73  76  82  83  88  90  92  94  95  97  98 105 107 109 110\n",
      " 113 115 116 117 124 130 132 133 135 136 138 139 140 145 146 148 150 155\n",
      " 157 158 160 162]\n"
     ]
    }
   ],
   "source": [
    "print('<= 10:', np.sum(moive_followers <= 10))\n",
    "print('<= 20:', np.sum(moive_followers <= 20))\n",
    "print('<= 30:', np.sum(moive_followers <= 30))\n",
    "print('<= 40:', np.sum(moive_followers <= 40))\n",
    "print('<= 50:', np.sum(moive_followers <= 50))\n",
    "print('<= 100:', np.sum(moive_followers <= 100))\n",
    "less_idx = np.nonzero(moive_followers <= 100)[0]\n",
    "print(less_idx.shape, less_idx)"
   ]
  },
  {
   "cell_type": "code",
   "execution_count": 8,
   "metadata": {},
   "outputs": [
    {
     "name": "stdout",
     "output_type": "stream",
     "text": [
      "(1582, 165)\n",
      "(165, 1582)\n"
     ]
    }
   ],
   "source": [
    "print(usr_following.shape)\n",
    "usr_following = usr_following.T\n",
    "print(usr_following.shape)"
   ]
  },
  {
   "cell_type": "code",
   "execution_count": 9,
   "metadata": {},
   "outputs": [
    {
     "name": "stdout",
     "output_type": "stream",
     "text": [
      "Index: 6\n",
      "Sum: 37\n",
      "37\n",
      "==================================================\n",
      "Index: 7\n",
      "Sum: 1\n",
      "38\n",
      "==================================================\n",
      "Index: 8\n",
      "Sum: 37\n",
      "69\n",
      "==================================================\n",
      "Index: 11\n",
      "Sum: 75\n",
      "141\n",
      "==================================================\n",
      "Index: 13\n",
      "Sum: 97\n",
      "221\n",
      "==================================================\n",
      "Index: 14\n",
      "Sum: 23\n",
      "235\n",
      "==================================================\n",
      "Index: 15\n",
      "Sum: 18\n",
      "248\n",
      "==================================================\n",
      "Index: 16\n",
      "Sum: 31\n",
      "269\n",
      "==================================================\n",
      "Index: 17\n",
      "Sum: 61\n",
      "314\n",
      "==================================================\n",
      "Index: 19\n",
      "Sum: 78\n",
      "357\n",
      "==================================================\n",
      "Index: 20\n",
      "Sum: 61\n",
      "394\n",
      "==================================================\n",
      "Index: 23\n",
      "Sum: 72\n",
      "433\n",
      "==================================================\n",
      "Index: 26\n",
      "Sum: 90\n",
      "484\n",
      "==================================================\n",
      "Index: 27\n",
      "Sum: 23\n",
      "497\n",
      "==================================================\n",
      "Index: 29\n",
      "Sum: 32\n",
      "510\n",
      "==================================================\n",
      "Index: 31\n",
      "Sum: 58\n",
      "532\n",
      "==================================================\n",
      "Index: 32\n",
      "Sum: 61\n",
      "572\n",
      "==================================================\n",
      "Index: 33\n",
      "Sum: 80\n",
      "624\n",
      "==================================================\n",
      "Index: 35\n",
      "Sum: 11\n",
      "628\n",
      "==================================================\n",
      "Index: 36\n",
      "Sum: 78\n",
      "652\n",
      "==================================================\n",
      "Index: 38\n",
      "Sum: 28\n",
      "659\n",
      "==================================================\n",
      "Index: 39\n",
      "Sum: 49\n",
      "677\n",
      "==================================================\n",
      "Index: 41\n",
      "Sum: 82\n",
      "717\n",
      "==================================================\n",
      "Index: 43\n",
      "Sum: 70\n",
      "743\n",
      "==================================================\n",
      "Index: 45\n",
      "Sum: 81\n",
      "778\n",
      "==================================================\n",
      "Index: 46\n",
      "Sum: 77\n",
      "810\n",
      "==================================================\n",
      "Index: 47\n",
      "Sum: 89\n",
      "838\n",
      "==================================================\n",
      "Index: 48\n",
      "Sum: 49\n",
      "849\n",
      "==================================================\n",
      "Index: 51\n",
      "Sum: 19\n",
      "851\n",
      "==================================================\n",
      "Index: 54\n",
      "Sum: 18\n",
      "854\n",
      "==================================================\n",
      "Index: 56\n",
      "Sum: 22\n",
      "861\n",
      "==================================================\n",
      "Index: 59\n",
      "Sum: 24\n",
      "864\n",
      "==================================================\n",
      "Index: 61\n",
      "Sum: 41\n",
      "879\n",
      "==================================================\n",
      "Index: 63\n",
      "Sum: 58\n",
      "893\n",
      "==================================================\n",
      "Index: 65\n",
      "Sum: 4\n",
      "894\n",
      "==================================================\n",
      "Index: 67\n",
      "Sum: 76\n",
      "903\n",
      "==================================================\n",
      "Index: 69\n",
      "Sum: 40\n",
      "909\n",
      "==================================================\n",
      "Index: 70\n",
      "Sum: 41\n",
      "922\n",
      "==================================================\n",
      "Index: 71\n",
      "Sum: 20\n",
      "926\n",
      "==================================================\n",
      "Index: 73\n",
      "Sum: 43\n",
      "931\n",
      "==================================================\n",
      "Index: 76\n",
      "Sum: 93\n",
      "956\n",
      "==================================================\n",
      "Index: 82\n",
      "Sum: 78\n",
      "987\n",
      "==================================================\n",
      "Index: 83\n",
      "Sum: 82\n",
      "1003\n",
      "==================================================\n",
      "Index: 88\n",
      "Sum: 44\n",
      "1007\n",
      "==================================================\n",
      "Index: 90\n",
      "Sum: 68\n",
      "1015\n",
      "==================================================\n",
      "Index: 92\n",
      "Sum: 73\n",
      "1029\n",
      "==================================================\n",
      "Index: 94\n",
      "Sum: 73\n",
      "1036\n",
      "==================================================\n",
      "Index: 95\n",
      "Sum: 31\n",
      "1039\n",
      "==================================================\n",
      "Index: 97\n",
      "Sum: 9\n",
      "1042\n",
      "==================================================\n",
      "Index: 98\n",
      "Sum: 72\n",
      "1051\n",
      "==================================================\n",
      "Index: 105\n",
      "Sum: 71\n",
      "1063\n",
      "==================================================\n",
      "Index: 107\n",
      "Sum: 97\n",
      "1079\n",
      "==================================================\n",
      "Index: 109\n",
      "Sum: 59\n",
      "1083\n",
      "==================================================\n",
      "Index: 110\n",
      "Sum: 33\n",
      "1086\n",
      "==================================================\n",
      "Index: 113\n",
      "Sum: 12\n",
      "1087\n",
      "==================================================\n",
      "Index: 115\n",
      "Sum: 35\n",
      "1093\n",
      "==================================================\n",
      "Index: 116\n",
      "Sum: 39\n",
      "1098\n",
      "==================================================\n",
      "Index: 117\n",
      "Sum: 63\n",
      "1104\n",
      "==================================================\n",
      "Index: 124\n",
      "Sum: 52\n",
      "1109\n",
      "==================================================\n",
      "Index: 130\n",
      "Sum: 19\n",
      "1111\n",
      "==================================================\n",
      "Index: 132\n",
      "Sum: 37\n",
      "1117\n",
      "==================================================\n",
      "Index: 133\n",
      "Sum: 48\n",
      "1123\n",
      "==================================================\n",
      "Index: 135\n",
      "Sum: 64\n",
      "1125\n",
      "==================================================\n",
      "Index: 136\n",
      "Sum: 46\n",
      "1126\n",
      "==================================================\n",
      "Index: 138\n",
      "Sum: 83\n",
      "1133\n",
      "==================================================\n",
      "Index: 139\n",
      "Sum: 14\n",
      "1136\n",
      "==================================================\n",
      "Index: 140\n",
      "Sum: 20\n",
      "1136\n",
      "==================================================\n",
      "Index: 145\n",
      "Sum: 25\n",
      "1136\n",
      "==================================================\n",
      "Index: 146\n",
      "Sum: 26\n",
      "1137\n",
      "==================================================\n",
      "Index: 148\n",
      "Sum: 64\n",
      "1144\n",
      "==================================================\n",
      "Index: 150\n",
      "Sum: 96\n",
      "1159\n",
      "==================================================\n",
      "Index: 155\n",
      "Sum: 40\n",
      "1166\n",
      "==================================================\n",
      "Index: 157\n",
      "Sum: 66\n",
      "1170\n",
      "==================================================\n",
      "Index: 158\n",
      "Sum: 89\n",
      "1178\n",
      "==================================================\n",
      "Index: 160\n",
      "Sum: 29\n",
      "1185\n",
      "==================================================\n",
      "Index: 162\n",
      "Sum: 11\n",
      "1185\n",
      "==================================================\n"
     ]
    }
   ],
   "source": [
    "st = set()\n",
    "for idx in less_idx:\n",
    "    print('Index:', idx)\n",
    "    print('Sum:', usr_following[idx].sum())\n",
    "#     print(usr_following[idx])\n",
    "    li = list(np.where(usr_following[idx] == 1)[0])\n",
    "#     print(li)\n",
    "    st = st | set(li)\n",
    "    print(len(st))\n",
    "    print('==================================================')"
   ]
  },
  {
   "cell_type": "code",
   "execution_count": 10,
   "metadata": {},
   "outputs": [
    {
     "name": "stdout",
     "output_type": "stream",
     "text": [
      "1185 [0, 1, 2, 3, 4, 5, 6, 7, 8, 9]\n"
     ]
    }
   ],
   "source": [
    "test_idx = list(st)\n",
    "test_idx.sort()\n",
    "print(len(test_idx), test_idx[:10])"
   ]
  },
  {
   "cell_type": "code",
   "execution_count": 11,
   "metadata": {},
   "outputs": [
    {
     "name": "stdout",
     "output_type": "stream",
     "text": [
      "1185 76\n"
     ]
    }
   ],
   "source": [
    "usr_test_amount = len(test_idx)\n",
    "movie_test_amount = len(less_idx)\n",
    "print(usr_test_amount, movie_test_amount)"
   ]
  },
  {
   "cell_type": "code",
   "execution_count": 12,
   "metadata": {},
   "outputs": [
    {
     "name": "stdout",
     "output_type": "stream",
     "text": [
      "(1582, 165)\n"
     ]
    }
   ],
   "source": [
    "usr_following = usr_following.T\n",
    "print(usr_following.shape)"
   ]
  },
  {
   "cell_type": "markdown",
   "metadata": {},
   "source": [
    "## Stat of user"
   ]
  },
  {
   "cell_type": "code",
   "execution_count": 13,
   "metadata": {},
   "outputs": [
    {
     "data": {
      "text/plain": [
       "(1185, 76)"
      ]
     },
     "execution_count": 13,
     "metadata": {},
     "output_type": "execute_result"
    }
   ],
   "source": [
    "coldarea = usr_following[test_idx, :][:, less_idx]\n",
    "coldarea.shape"
   ]
  },
  {
   "cell_type": "code",
   "execution_count": 14,
   "metadata": {},
   "outputs": [
    {
     "name": "stdout",
     "output_type": "stream",
     "text": [
      "Min number of followings: 1\n",
      "Max number of followings: 52\n",
      "Avg of followers: 3.220253164556962\n"
     ]
    }
   ],
   "source": [
    "#The number of following movie for each user\n",
    "each_user = np.sum(coldarea, axis=1)\n",
    "# print(each_user)\n",
    "\n",
    "print('Min number of followings:', np.min(each_user))\n",
    "print('Max number of followings:', np.max(each_user))\n",
    "print('Avg of followers:', np.mean(each_user))\n",
    "\n",
    "asc = np.sort(each_user)\n",
    "# print(each_user)\n",
    "# print(asc)\n",
    "desc = np.flip(asc)\n",
    "# print(desc)"
   ]
  },
  {
   "cell_type": "code",
   "execution_count": 15,
   "metadata": {},
   "outputs": [
    {
     "name": "stdout",
     "output_type": "stream",
     "text": [
      ">= 1 : 1185\n",
      ">= 2 : 831\n",
      ">= 3 : 554\n",
      ">= 4 : 377\n",
      ">= 5 : 228\n",
      ">= 6 : 161\n",
      ">= 7 : 108\n",
      ">= 8 : 76\n",
      ">= 9 : 53\n",
      ">= 10 : 39\n"
     ]
    }
   ],
   "source": [
    "for i in range(1, 11):\n",
    "    print('>=', i, ':', np.sum(each_user >= i))\n",
    "# print('>', i, ':', np.sum(each_user > 10))"
   ]
  },
  {
   "cell_type": "code",
   "execution_count": 16,
   "metadata": {},
   "outputs": [],
   "source": [
    "new_test_idx = []\n",
    "for i in test_idx:\n",
    "    add = 0\n",
    "    for j in less_idx:\n",
    "        if usr_following[i][j] == 1:\n",
    "            add += 1\n",
    "            \n",
    "    if add >= 7:\n",
    "        new_test_idx.append(i)"
   ]
  },
  {
   "cell_type": "code",
   "execution_count": 17,
   "metadata": {},
   "outputs": [
    {
     "data": {
      "text/plain": [
       "108"
      ]
     },
     "execution_count": 17,
     "metadata": {},
     "output_type": "execute_result"
    }
   ],
   "source": [
    "len(new_test_idx)"
   ]
  },
  {
   "cell_type": "code",
   "execution_count": 18,
   "metadata": {},
   "outputs": [
    {
     "name": "stdout",
     "output_type": "stream",
     "text": [
      "100 [11, 21, 24, 30, 31, 43, 53, 57, 76, 80]\n"
     ]
    }
   ],
   "source": [
    "random.seed(42)\n",
    "test_idx = random.sample(new_test_idx, 100)\n",
    "test_idx.sort()\n",
    "print(len(test_idx), test_idx[:10])"
   ]
  },
  {
   "cell_type": "code",
   "execution_count": 19,
   "metadata": {},
   "outputs": [
    {
     "name": "stdout",
     "output_type": "stream",
     "text": [
      "100 32\n"
     ]
    }
   ],
   "source": [
    "usr_test_amount = len(test_idx)\n",
    "movie_test_amount = 32 #math.floor(len(less_idx)*0.5)\n",
    "print(usr_test_amount, movie_test_amount)"
   ]
  },
  {
   "cell_type": "markdown",
   "metadata": {},
   "source": [
    "## Setup "
   ]
  },
  {
   "cell_type": "code",
   "execution_count": null,
   "metadata": {},
   "outputs": [],
   "source": [
    "# init\n",
    "random.seed(42)\n",
    "train_t = []\n",
    "train_f = []\n",
    "test_t = []\n",
    "test_f = []\n",
    "\n",
    "for i in test_idx:\n",
    "    # init\n",
    "    t_for_train = []\n",
    "    f_for_train = []\n",
    "    t_for_test = []\n",
    "    f_for_test = []\n",
    "    \n",
    "    temp_t = []\n",
    "    temp_f = []\n",
    "    for j in less_idx:\n",
    "        if usr_following[i][j] == 1:\n",
    "            temp_t.append(j)\n",
    "        else:\n",
    "            temp_f.append(j)\n",
    "            \n",
    "    t_for_test = random.sample(temp_t, math.ceil(0.5*len(temp_t)))\n",
    "    f_for_test = random.sample(temp_f, movie_test_amount-len(t_for_test))\n",
    "    \n",
    "    test_t.append(t_for_test)\n",
    "    test_f.append(f_for_test)\n",
    "    \n",
    "    t_for_train = [item for item in temp_t if not item in t_for_test]\n",
    "    f_for_train = [item for item in temp_f if not item in f_for_test]\n",
    "    train_t.append(t_for_train)\n",
    "    train_f.append(f_for_train)\n",
    "    \n",
    "    if not (len(t_for_train) + len(f_for_train) + len(t_for_test) + len(f_for_test)) == len(less_idx):\n",
    "        print('Error!!!')\n",
    "        break"
   ]
  },
  {
   "cell_type": "code",
   "execution_count": null,
   "metadata": {},
   "outputs": [],
   "source": [
    "print('The length of train_t:',len(train_t))\n",
    "print('The length of train_f:',len(train_f))\n",
    "print('The length of test_t:',len(test_t))\n",
    "print('The length of test_f:',len(test_f))"
   ]
  },
  {
   "cell_type": "markdown",
   "metadata": {},
   "source": [
    "# Build 1 on 1 dataframe"
   ]
  },
  {
   "cell_type": "code",
   "execution_count": null,
   "metadata": {},
   "outputs": [],
   "source": [
    "# init\n",
    "train_uid = []\n",
    "train_sid = []\n",
    "for i in range(len(train_t)):\n",
    "    for j in train_t[i]:\n",
    "        train_uid.append(i)\n",
    "        train_sid.append(j)\n",
    "    \n",
    "test_uid = []\n",
    "test_sid = []\n",
    "for i in range(len(test_t)):\n",
    "    for j in test_t[i]:\n",
    "        test_uid.append(i)\n",
    "        test_sid.append(j)"
   ]
  },
  {
   "cell_type": "code",
   "execution_count": null,
   "metadata": {},
   "outputs": [],
   "source": [
    "print(len(train_uid), len(train_sid))\n",
    "print(len(test_uid), len(test_sid))"
   ]
  },
  {
   "cell_type": "code",
   "execution_count": null,
   "metadata": {
    "scrolled": true
   },
   "outputs": [],
   "source": [
    "train = pd.DataFrame(data={'uid': train_uid, 'sid': train_sid}, columns=['uid', 'sid'])\n",
    "train"
   ]
  },
  {
   "cell_type": "code",
   "execution_count": null,
   "metadata": {},
   "outputs": [],
   "source": [
    "vad = train.sample(frac=0.2, random_state=42)\n",
    "vad"
   ]
  },
  {
   "cell_type": "code",
   "execution_count": null,
   "metadata": {},
   "outputs": [],
   "source": [
    "train = train.drop(vad.index)\n",
    "train"
   ]
  },
  {
   "cell_type": "code",
   "execution_count": null,
   "metadata": {},
   "outputs": [],
   "source": [
    "test = pd.DataFrame(data={'uid': test_uid, 'sid': test_sid}, columns=['uid', 'sid'])\n",
    "test"
   ]
  },
  {
   "cell_type": "code",
   "execution_count": null,
   "metadata": {
    "scrolled": true
   },
   "outputs": [],
   "source": [
    "unique_uid = np.unique(np.concatenate((pd.unique(train['uid']), pd.unique(vad['uid']), pd.unique(test['uid'])), axis=0))\n",
    "print(unique_uid.shape)\n",
    "unique_uid"
   ]
  },
  {
   "cell_type": "code",
   "execution_count": null,
   "metadata": {},
   "outputs": [],
   "source": [
    "unique_sid = less_idx\n",
    "with open(os.path.join(pro_dir, 'unique_sid.txt'), 'w') as f:\n",
    "    for sid in unique_sid:\n",
    "        f.write('%s\\n' % sid)\n",
    "print(unique_sid.shape)\n",
    "unique_sid"
   ]
  },
  {
   "cell_type": "code",
   "execution_count": null,
   "metadata": {},
   "outputs": [],
   "source": [
    "show2id = dict((sid, i) for (i, sid) in enumerate(unique_sid))\n",
    "profile2id = dict((pid, i) for (i, pid) in enumerate(unique_uid))"
   ]
  },
  {
   "cell_type": "code",
   "execution_count": null,
   "metadata": {},
   "outputs": [],
   "source": [
    "print(len(unique_sid), len(unique_uid))\n",
    "print(len(show2id), len(profile2id))"
   ]
  },
  {
   "cell_type": "code",
   "execution_count": null,
   "metadata": {},
   "outputs": [],
   "source": [
    "def split_train_test_proportion(data, test_prop=0.2, lower_bound=5):\n",
    "    data_grouped_by_user = data.groupby('uid')\n",
    "    tr_list, te_list = list(), list()\n",
    "\n",
    "    np.random.seed(98765)\n",
    "\n",
    "    for i, (_, group) in enumerate(data_grouped_by_user):\n",
    "        n_items_u = len(group)\n",
    "        \n",
    "        if n_items_u >= lower_bound:\n",
    "            idx = np.zeros(n_items_u, dtype='bool')\n",
    "            idx[np.random.choice(n_items_u, size=int(test_prop * n_items_u), replace=False).astype('int64')] = True\n",
    "\n",
    "            tr_list.append(group[np.logical_not(idx)])\n",
    "            te_list.append(group[idx])\n",
    "        else:\n",
    "            tr_list.append(group)\n",
    "\n",
    "        if i % 100 == 0:\n",
    "            print(\"%d users sampled\" % i)\n",
    "            sys.stdout.flush()\n",
    "    \n",
    "    data_tr = pd.concat(tr_list)\n",
    "    data_te = pd.concat(te_list)\n",
    "\n",
    "    return data_tr, data_te"
   ]
  },
  {
   "cell_type": "code",
   "execution_count": null,
   "metadata": {
    "scrolled": true
   },
   "outputs": [],
   "source": [
    "vad_plays_tr, vad_plays_te = split_train_test_proportion(vad, test_prop=0.5, lower_bound=2)\n",
    "print(vad_plays_tr.shape, vad_plays_te.shape)"
   ]
  },
  {
   "cell_type": "code",
   "execution_count": null,
   "metadata": {},
   "outputs": [],
   "source": [
    "test_plays_tr, test_plays_te = split_train_test_proportion(test)\n",
    "print(test_plays_tr.shape, test_plays_te.shape)"
   ]
  },
  {
   "cell_type": "code",
   "execution_count": null,
   "metadata": {},
   "outputs": [],
   "source": [
    "def numerize(tp):\n",
    "    uid = list(map(lambda x: profile2id[x], tp['uid']))\n",
    "    sid = list(map(lambda x: show2id[x], tp['sid']))\n",
    "    return pd.DataFrame(data={'uid': uid, 'sid': sid}, columns=['uid', 'sid'])"
   ]
  },
  {
   "cell_type": "code",
   "execution_count": null,
   "metadata": {},
   "outputs": [],
   "source": [
    "train_data = numerize(train)\n",
    "train_data.to_csv(os.path.join(pro_dir, 'train.csv'), index=False)\n",
    "vad_data_tr = numerize(vad_plays_tr)\n",
    "vad_data_tr.to_csv(os.path.join(pro_dir, 'validation_tr.csv'), index=False)\n",
    "vad_data_te = numerize(vad_plays_te)\n",
    "vad_data_te.to_csv(os.path.join(pro_dir, 'validation_te.csv'), index=False)\n",
    "test_data_tr = numerize(test_plays_tr)\n",
    "test_data_tr.to_csv(os.path.join(pro_dir, 'test_tr.csv'), index=False)\n",
    "test_data_te = numerize(test_plays_te)\n",
    "test_data_te.to_csv(os.path.join(pro_dir, 'test_te.csv'), index=False)"
   ]
  },
  {
   "cell_type": "markdown",
   "metadata": {},
   "source": [
    "# For DMF"
   ]
  },
  {
   "cell_type": "markdown",
   "metadata": {},
   "source": [
    "## Chilli"
   ]
  },
  {
   "cell_type": "code",
   "execution_count": 20,
   "metadata": {},
   "outputs": [],
   "source": [
    "user = []\n",
    "movie = []\n",
    "score = []\n",
    "time = []\n",
    "less_idx = list(less_idx)\n",
    "\n",
    "for i in test_idx:\n",
    "    for j in less_idx:\n",
    "        if usr_following[i][j] == 1:\n",
    "            # build df\n",
    "            user.append(test_idx.index(i))\n",
    "            movie.append(less_idx.index(j))\n",
    "            score.append(1)"
   ]
  },
  {
   "cell_type": "code",
   "execution_count": 21,
   "metadata": {},
   "outputs": [
    {
     "data": {
      "text/html": [
       "<div>\n",
       "<style scoped>\n",
       "    .dataframe tbody tr th:only-of-type {\n",
       "        vertical-align: middle;\n",
       "    }\n",
       "\n",
       "    .dataframe tbody tr th {\n",
       "        vertical-align: top;\n",
       "    }\n",
       "\n",
       "    .dataframe thead th {\n",
       "        text-align: right;\n",
       "    }\n",
       "</style>\n",
       "<table border=\"1\" class=\"dataframe\">\n",
       "  <thead>\n",
       "    <tr style=\"text-align: right;\">\n",
       "      <th></th>\n",
       "      <th>user</th>\n",
       "      <th>items</th>\n",
       "      <th>ratings</th>\n",
       "    </tr>\n",
       "  </thead>\n",
       "  <tbody>\n",
       "    <tr>\n",
       "      <th>0</th>\n",
       "      <td>0</td>\n",
       "      <td>27</td>\n",
       "      <td>1</td>\n",
       "    </tr>\n",
       "    <tr>\n",
       "      <th>1</th>\n",
       "      <td>0</td>\n",
       "      <td>39</td>\n",
       "      <td>1</td>\n",
       "    </tr>\n",
       "    <tr>\n",
       "      <th>2</th>\n",
       "      <td>0</td>\n",
       "      <td>42</td>\n",
       "      <td>1</td>\n",
       "    </tr>\n",
       "    <tr>\n",
       "      <th>3</th>\n",
       "      <td>0</td>\n",
       "      <td>49</td>\n",
       "      <td>1</td>\n",
       "    </tr>\n",
       "    <tr>\n",
       "      <th>4</th>\n",
       "      <td>0</td>\n",
       "      <td>51</td>\n",
       "      <td>1</td>\n",
       "    </tr>\n",
       "    <tr>\n",
       "      <th>...</th>\n",
       "      <td>...</td>\n",
       "      <td>...</td>\n",
       "      <td>...</td>\n",
       "    </tr>\n",
       "    <tr>\n",
       "      <th>1062</th>\n",
       "      <td>99</td>\n",
       "      <td>40</td>\n",
       "      <td>1</td>\n",
       "    </tr>\n",
       "    <tr>\n",
       "      <th>1063</th>\n",
       "      <td>99</td>\n",
       "      <td>42</td>\n",
       "      <td>1</td>\n",
       "    </tr>\n",
       "    <tr>\n",
       "      <th>1064</th>\n",
       "      <td>99</td>\n",
       "      <td>46</td>\n",
       "      <td>1</td>\n",
       "    </tr>\n",
       "    <tr>\n",
       "      <th>1065</th>\n",
       "      <td>99</td>\n",
       "      <td>49</td>\n",
       "      <td>1</td>\n",
       "    </tr>\n",
       "    <tr>\n",
       "      <th>1066</th>\n",
       "      <td>99</td>\n",
       "      <td>51</td>\n",
       "      <td>1</td>\n",
       "    </tr>\n",
       "  </tbody>\n",
       "</table>\n",
       "<p>1067 rows × 3 columns</p>\n",
       "</div>"
      ],
      "text/plain": [
       "      user  items  ratings\n",
       "0        0     27        1\n",
       "1        0     39        1\n",
       "2        0     42        1\n",
       "3        0     49        1\n",
       "4        0     51        1\n",
       "...    ...    ...      ...\n",
       "1062    99     40        1\n",
       "1063    99     42        1\n",
       "1064    99     46        1\n",
       "1065    99     49        1\n",
       "1066    99     51        1\n",
       "\n",
       "[1067 rows x 3 columns]"
      ]
     },
     "execution_count": 21,
     "metadata": {},
     "output_type": "execute_result"
    }
   ],
   "source": [
    "df = pd.DataFrame(data={'user': user, 'items': movie, 'ratings': score})\n",
    "#                   columns=['user', 'movie', 'score', 'time'])\n",
    "df"
   ]
  },
  {
   "cell_type": "code",
   "execution_count": 22,
   "metadata": {},
   "outputs": [],
   "source": [
    "df.to_csv(os.path.join(dmf_dir, 'myratings_cmovie.dat')) #, header=None, index=None, sep=':')"
   ]
  },
  {
   "cell_type": "markdown",
   "metadata": {},
   "source": [
    "## all"
   ]
  },
  {
   "cell_type": "code",
   "execution_count": null,
   "metadata": {},
   "outputs": [],
   "source": [
    "user = []\n",
    "movie = []\n",
    "score = []\n",
    "time = []\n",
    "train = []\n",
    "test = []\n",
    "\n",
    "for i in range(usr_nb):\n",
    "    for j in range(movie_nb):\n",
    "        if usr_following[i][j] == 1:\n",
    "            if i in test_idx:\n",
    "                test.append((i, j, 1))\n",
    "            else:\n",
    "                train.append((i, j, 1))\n",
    "            \n",
    "            # build df\n",
    "            timestamp = ''.join(str(n) for n in random.sample(range(0,9),9))\n",
    "            user.append(i+1)\n",
    "            movie.append(j+1)\n",
    "            score.append(1)\n",
    "            time.append(timestamp)\n",
    "#         else:\n",
    "#             user.append(i+1)\n",
    "#             movie.append(j+1)\n",
    "#             score.append(0)\n",
    "#             time.append(timestamp)"
   ]
  },
  {
   "cell_type": "code",
   "execution_count": null,
   "metadata": {},
   "outputs": [],
   "source": [
    "write_json(test, os.path.join(dmf_dir, 'test.json'))\n",
    "write_json(train, os.path.join(dmf_dir, 'train.json'))\n",
    "print(len(test), len(train))"
   ]
  },
  {
   "cell_type": "code",
   "execution_count": null,
   "metadata": {},
   "outputs": [],
   "source": [
    "df = pd.DataFrame(data={'user': user, 'movie': movie, 'score': score, 'time': time})\n",
    "#                   columns=['user', 'movie', 'score', 'time'])\n",
    "df"
   ]
  },
  {
   "cell_type": "code",
   "execution_count": null,
   "metadata": {},
   "outputs": [],
   "source": [
    "df.to_csv(os.path.join(dmf_dir, 'DMF_data.dat'), header=None, index=None, sep=':')"
   ]
  },
  {
   "cell_type": "markdown",
   "metadata": {},
   "source": [
    "# Original split"
   ]
  },
  {
   "cell_type": "code",
   "execution_count": null,
   "metadata": {},
   "outputs": [],
   "source": [
    "# init\n",
    "train_t = []\n",
    "train_f = []\n",
    "test_t = []\n",
    "test_f = []\n",
    "\n",
    "for i in range(usr_nb):\n",
    "    # init\n",
    "    t_for_train = []\n",
    "    f_for_train = []\n",
    "    t_for_test = []\n",
    "    f_for_test = []\n",
    "    \n",
    "    if i not in test_idx: #if not in test id, just append it to true or false list\n",
    "        for j in range(movie_nb):\n",
    "            if usr_following[i][j] == 1:\n",
    "                t_for_train.append((i, j, 1))\n",
    "            else:\n",
    "                f_for_train.append((i, j, 0))\n",
    "                \n",
    "        train_t.extend(t_for_train)\n",
    "        train_f.extend(f_for_train)\n",
    "#         print(len(t_for_train) + len(f_for_train))\n",
    "        \n",
    "    else: #if in test id, choose half of true and other \n",
    "        temp_t = []\n",
    "        temp_f = []\n",
    "        \n",
    "        for j in range(movie_nb):\n",
    "            if usr_following[i][j] == 1:\n",
    "                temp_t.append((i, j, 1))\n",
    "            else:\n",
    "                temp_f.append((i, j, 0))\n",
    "        \n",
    "        # random choose half true and half false for test \n",
    "        t_for_test = random.sample(temp_t, math.ceil(0.5*len(temp_t)))\n",
    "        f_for_test  = random.sample(temp_f, movie_test_amount-len(t_for_test))\n",
    "        \n",
    "        test_t.extend(t_for_test)\n",
    "        test_f.extend(f_for_test)\n",
    "        \n",
    "        #the others for training\n",
    "        t_for_train = [item for item in temp_t if not item in t_for_test]\n",
    "        f_for_train = [item for item in temp_f if not item in f_for_test]\n",
    "        train_t.extend(t_for_train)\n",
    "        train_f.extend(f_for_train)\n",
    "        \n",
    "    if not (len(t_for_train) + len(f_for_train) + len(t_for_test) + len(f_for_test)) == movie_nb:\n",
    "        print('Error!!!')\n",
    "        break"
   ]
  },
  {
   "cell_type": "code",
   "execution_count": null,
   "metadata": {},
   "outputs": [],
   "source": [
    "print('The length of train_t:',len(train_t))\n",
    "print('The length of train_f:',len(train_f))\n",
    "print('The length of test_t:',len(test_t))\n",
    "print('The length of test_f:',len(test_f))"
   ]
  },
  {
   "cell_type": "code",
   "execution_count": null,
   "metadata": {},
   "outputs": [],
   "source": [
    "train = train_t\n",
    "test = test_t\n",
    "write_json(test, './DMF_data/test.json')\n",
    "write_json(train, './DMF_data/train.json')\n",
    "print(len(test), len(train))"
   ]
  },
  {
   "cell_type": "code",
   "execution_count": null,
   "metadata": {},
   "outputs": [],
   "source": []
  }
 ],
 "metadata": {
  "kernelspec": {
   "display_name": "Python 3",
   "language": "python",
   "name": "python3"
  },
  "language_info": {
   "codemirror_mode": {
    "name": "ipython",
    "version": 3
   },
   "file_extension": ".py",
   "mimetype": "text/x-python",
   "name": "python",
   "nbconvert_exporter": "python",
   "pygments_lexer": "ipython3",
   "version": "3.6.9"
  }
 },
 "nbformat": 4,
 "nbformat_minor": 4
}
