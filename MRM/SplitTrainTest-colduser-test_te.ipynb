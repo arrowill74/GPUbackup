{
 "cells": [
  {
   "cell_type": "code",
   "execution_count": 1,
   "metadata": {
    "scrolled": true
   },
   "outputs": [],
   "source": [
    "# Basic import\n",
    "import os\n",
    "import sys\n",
    "import json\n",
    "import math\n",
    "import shutil\n",
    "import random\n",
    "import pandas as pd\n",
    "import numpy as np"
   ]
  },
  {
   "cell_type": "code",
   "execution_count": 2,
   "metadata": {
    "scrolled": true
   },
   "outputs": [],
   "source": [
    "# Helper function\n",
    "def writeProgress(msg, count, total):\n",
    "    sys.stdout.write(msg + \"{:.2%}\\r\".format(count/total))\n",
    "    sys.stdout.flush()\n",
    "    \n",
    "def newPath(path):\n",
    "    if not os.path.isdir(path):\n",
    "        os.mkdir(path)\n",
    "\n",
    "def read_json(src_path):\n",
    "    with open(src_path, 'r') as json_file:\n",
    "        data = json.load(json_file)\n",
    "    return data\n",
    "\n",
    "def write_json(data,dst_path):\n",
    "    with open(dst_path, 'w') as outfile:\n",
    "        json.dump(data, outfile)\n",
    "\n",
    "def writeLog(row):\n",
    "    with open('log.txt', 'a') as outfile:\n",
    "        outfile.write(row + '\\n')\n",
    "\n",
    "def getErrMsg(e):\n",
    "    error_class = e.__class__.__name__ #取得錯誤類型\n",
    "    detail = e.args[0] #取得詳細內容\n",
    "    errMsg = \"[{}] {}\".format(error_class, detail)\n",
    "    return errMsg"
   ]
  },
  {
   "cell_type": "code",
   "execution_count": 3,
   "metadata": {},
   "outputs": [],
   "source": [
    "DATA_DIR = '../Baseline/'\n",
    "pro_dir = os.path.join(DATA_DIR, '_pro_sg_colduser')\n",
    "dmf_dir = os.path.join(DATA_DIR, '_DMF_data_colduser')\n",
    "if not os.path.exists(pro_dir):\n",
    "    os.makedirs(pro_dir)\n",
    "if not os.path.exists(dmf_dir):\n",
    "    os.makedirs(dmf_dir)"
   ]
  },
  {
   "cell_type": "markdown",
   "metadata": {},
   "source": [
    "# Load numpy array"
   ]
  },
  {
   "cell_type": "code",
   "execution_count": 4,
   "metadata": {
    "scrolled": true
   },
   "outputs": [
    {
     "name": "stdout",
     "output_type": "stream",
     "text": [
      "All features: (165, 2372)\n",
      "Movie genre: (165, 20)\n",
      "User following: (1582, 165)\n",
      "User genre: (1582, 20)\n"
     ]
    }
   ],
   "source": [
    "all_npy = np.load('./npy/all_2372.npy')\n",
    "movie_genre = np.load('./npy/movie_genre.npy')\n",
    "usr_following = np.load('./npy/user_followings.npy')\n",
    "usr_genre = np.load('./npy/user_genre.npy')\n",
    "\n",
    "print('All features:', all_npy.shape)\n",
    "print('Movie genre:', movie_genre.shape)\n",
    "print('User following:', usr_following.shape)\n",
    "print('User genre:', usr_genre.shape)"
   ]
  },
  {
   "cell_type": "code",
   "execution_count": 5,
   "metadata": {
    "scrolled": true
   },
   "outputs": [
    {
     "name": "stdout",
     "output_type": "stream",
     "text": [
      "1582 165\n",
      "64 2372 240\n"
     ]
    }
   ],
   "source": [
    "usr_nb = len(usr_following) # the number of users\n",
    "movie_nb = len(movie_genre)  # the number of movies\n",
    "print(usr_nb, movie_nb)\n",
    "\n",
    "# usr_test_amount = 150\n",
    "# movie_test_amount = 32\n",
    "# print(usr_test_amount, movie_test_amount)\n",
    "\n",
    "latent_dim = 64 # latent dims\n",
    "ft_dim = all_npy.shape[1] # feature dims\n",
    "embedding_dims = 240\n",
    "print(latent_dim, ft_dim, embedding_dims)"
   ]
  },
  {
   "cell_type": "markdown",
   "metadata": {},
   "source": [
    "# Training & testing split"
   ]
  },
  {
   "cell_type": "markdown",
   "metadata": {},
   "source": [
    "## Prepare"
   ]
  },
  {
   "cell_type": "code",
   "execution_count": 6,
   "metadata": {},
   "outputs": [
    {
     "name": "stdout",
     "output_type": "stream",
     "text": [
      "Min number of followings: 10\n",
      "Max number of followings: 133\n",
      "Avg of followers: 14.820480404551201\n"
     ]
    }
   ],
   "source": [
    "#The number of following movie for each user\n",
    "each_user = np.sum(usr_following, axis=1)\n",
    "# print(each_user)\n",
    "\n",
    "print('Min number of followings:', np.min(each_user))\n",
    "print('Max number of followings:', np.max(each_user))\n",
    "print('Avg of followers:', np.mean(each_user))"
   ]
  },
  {
   "cell_type": "code",
   "execution_count": 7,
   "metadata": {},
   "outputs": [
    {
     "name": "stdout",
     "output_type": "stream",
     "text": [
      "<= 15: 1142\n",
      "(1142,) [   0    1    2 ... 1578 1580 1581]\n"
     ]
    }
   ],
   "source": [
    "print('<= 15:', np.sum(each_user <= 15))\n",
    "less_idx = np.nonzero(each_user <= 15)[0]\n",
    "print(less_idx.shape, less_idx)"
   ]
  },
  {
   "cell_type": "code",
   "execution_count": 8,
   "metadata": {},
   "outputs": [],
   "source": [
    "for i in range(usr_nb):\n",
    "    if not i in less_idx:\n",
    "        each_user[i] = 0"
   ]
  },
  {
   "cell_type": "code",
   "execution_count": 9,
   "metadata": {},
   "outputs": [
    {
     "name": "stdout",
     "output_type": "stream",
     "text": [
      "Min number of followings: 0\n",
      "Max number of followings: 15\n",
      "Avg of followers: 8.36283185840708\n"
     ]
    }
   ],
   "source": [
    "print('Min number of followings:', np.min(each_user))\n",
    "print('Max number of followings:', np.max(each_user))\n",
    "print('Avg of followers:', np.mean(each_user))"
   ]
  },
  {
   "cell_type": "code",
   "execution_count": 10,
   "metadata": {},
   "outputs": [
    {
     "data": {
      "text/plain": [
       "array([ 326, 1448,  927,  926,  139,  895,  529,  117, 1403,  848,  545,\n",
       "         99,  825,  824, 1436,  804,  953,  800,  570, 1472, 1473, 1478,\n",
       "        606, 1486,   53, 1495, 1498, 1503,   43,   39, 1345, 1326, 1514,\n",
       "       1043, 1155,  307, 1145,  314,  268, 1125, 1105,  357, 1223,  231,\n",
       "       1235,  400, 1240, 1034,  464,  211,  408,  195,  428,  431, 1291,\n",
       "        439,  981, 1303, 1311,  967,  460,  959,  730, 1156,  688,  676,\n",
       "         13,  645,  679,  654,  633, 1571,  524,  675,   92,  822, 1225,\n",
       "        873, 1290,  235, 1327,  561,  815, 1537,  188,  312,   81,  156,\n",
       "         74, 1333,  423, 1451,  708, 1174, 1005,   93, 1382,  183, 1181,\n",
       "       1553])"
      ]
     },
     "execution_count": 10,
     "metadata": {},
     "output_type": "execute_result"
    }
   ],
   "source": [
    "(each_user.argsort()[::-1][:100])"
   ]
  },
  {
   "cell_type": "code",
   "execution_count": 11,
   "metadata": {},
   "outputs": [
    {
     "name": "stdout",
     "output_type": "stream",
     "text": [
      "[326, 1448, 927, 926, 139, 895, 529, 117, 1403, 848, 545, 99, 825, 824, 1436, 804, 953, 800, 570, 1472, 1473, 1478, 606, 1486, 53, 1495, 1498, 1503, 43, 39, 1345, 1326, 1514, 1043, 1155, 307, 1145, 314, 268, 1125, 1105, 357, 1223, 231, 1235, 400, 1240, 1034, 464, 211, 408, 195, 428, 431, 1291, 439, 981, 1303, 1311, 967, 460, 959, 730, 1156, 688, 676, 13, 645, 679, 654, 633, 1571, 524, 675, 92, 822, 1225, 873, 1290, 235, 1327, 561, 815, 1537, 188, 312, 81, 156, 74, 1333, 423, 1451, 708, 1174, 1005, 93, 1382, 183, 1181, 1553]\n"
     ]
    }
   ],
   "source": [
    "usr_idx = list(each_user.argsort()[::-1][:100])\n",
    "print(usr_idx)"
   ]
  },
  {
   "cell_type": "code",
   "execution_count": 12,
   "metadata": {},
   "outputs": [
    {
     "name": "stdout",
     "output_type": "stream",
     "text": [
      "80 [13, 39, 43, 53, 92, 99, 117, 139, 195, 211, 231, 235, 268, 307, 314, 326, 357, 400, 408, 428, 431, 439, 460, 464, 524, 529, 545, 570, 606, 633, 645, 654, 675, 676, 679, 688, 730, 800, 804, 822, 824, 825, 848, 873, 895, 926, 927, 953, 959, 967, 981, 1034, 1043, 1105, 1125, 1145, 1155, 1156, 1223, 1225, 1235, 1240, 1290, 1291, 1303, 1311, 1326, 1345, 1403, 1436, 1448, 1472, 1473, 1478, 1486, 1495, 1498, 1503, 1514, 1571]\n",
      "20 [74, 81, 93, 156, 183, 188, 312, 423, 561, 708, 815, 1005, 1174, 1181, 1327, 1333, 1382, 1451, 1537, 1553]\n"
     ]
    }
   ],
   "source": [
    "train_idx = sorted(usr_idx[:80])\n",
    "vad_idx = sorted(usr_idx[80:])\n",
    "\n",
    "print(len(train_idx), train_idx)\n",
    "print(len(vad_idx), vad_idx)"
   ]
  },
  {
   "cell_type": "code",
   "execution_count": 13,
   "metadata": {},
   "outputs": [
    {
     "name": "stdout",
     "output_type": "stream",
     "text": [
      "100 [13, 39, 43, 53, 74, 81, 92, 93, 99, 117, 139, 156, 183, 188, 195, 211, 231, 235, 268, 307, 312, 314, 326, 357, 400, 408, 423, 428, 431, 439, 460, 464, 524, 529, 545, 561, 570, 606, 633, 645, 654, 675, 676, 679, 688, 708, 730, 800, 804, 815, 822, 824, 825, 848, 873, 895, 926, 927, 953, 959, 967, 981, 1005, 1034, 1043, 1105, 1125, 1145, 1155, 1156, 1174, 1181, 1223, 1225, 1235, 1240, 1290, 1291, 1303, 1311, 1326, 1327, 1333, 1345, 1382, 1403, 1436, 1448, 1451, 1472, 1473, 1478, 1486, 1495, 1498, 1503, 1514, 1537, 1553, 1571]\n"
     ]
    }
   ],
   "source": [
    "test_idx = sorted(usr_idx)\n",
    "print(len(test_idx), test_idx)"
   ]
  },
  {
   "cell_type": "code",
   "execution_count": 14,
   "metadata": {},
   "outputs": [
    {
     "name": "stdout",
     "output_type": "stream",
     "text": [
      "100 100\n",
      "165 32\n"
     ]
    }
   ],
   "source": [
    "usr_nb = len(test_idx)\n",
    "usr_test_amount = len(test_idx)\n",
    "movie_test_amount = 32 #math.floor(len(less_idx)*0.5)\n",
    "print(usr_nb, usr_test_amount)\n",
    "print(movie_nb, movie_test_amount)"
   ]
  },
  {
   "cell_type": "markdown",
   "metadata": {},
   "source": [
    "# For VAE & RaCT\n",
    "## Build UserFollowingRecord.csv"
   ]
  },
  {
   "cell_type": "code",
   "execution_count": null,
   "metadata": {},
   "outputs": [],
   "source": [
    "user = []\n",
    "movie = []\n",
    "\n",
    "for i in test_idx:\n",
    "    for j in range(movie_nb):\n",
    "        if usr_following[i][j] == 1:\n",
    "            # build df\n",
    "            user.append(test_idx.index(i))\n",
    "            movie.append(j)"
   ]
  },
  {
   "cell_type": "code",
   "execution_count": null,
   "metadata": {},
   "outputs": [],
   "source": [
    "df = pd.DataFrame(data={'userId': user, 'movieId': movie})\n",
    "df"
   ]
  },
  {
   "cell_type": "code",
   "execution_count": null,
   "metadata": {},
   "outputs": [],
   "source": [
    "df.to_csv(os.path.join(pro_dir, 'UserFollowingRecord.csv'), index = 0)"
   ]
  },
  {
   "cell_type": "code",
   "execution_count": null,
   "metadata": {},
   "outputs": [],
   "source": [
    "unique_uid = pd.unique(df['userId'])\n",
    "unique_uid.shape"
   ]
  },
  {
   "cell_type": "code",
   "execution_count": null,
   "metadata": {},
   "outputs": [],
   "source": [
    "unique_sid = pd.unique(df['movieId'])\n",
    "unique_sid.shape"
   ]
  },
  {
   "cell_type": "markdown",
   "metadata": {},
   "source": [
    "## Setup "
   ]
  },
  {
   "cell_type": "code",
   "execution_count": null,
   "metadata": {},
   "outputs": [],
   "source": [
    "# init\n",
    "random.seed(42)\n",
    "test_te_uid = []\n",
    "test_te_sid= []\n",
    "\n",
    "train_uid = []\n",
    "train_sid = []\n",
    "vad_uid = []\n",
    "vad_sid = []\n",
    "\n",
    "for i in test_idx:\n",
    "    # init\n",
    "    t_for_train = []\n",
    "    t_for_test = []\n",
    "    \n",
    "    temp_t = []\n",
    "    for j in range(movie_nb):\n",
    "        if usr_following[i][j] == 1:\n",
    "            temp_t.append(j)\n",
    "            \n",
    "    t_for_test = random.sample(temp_t, math.ceil(0.5*len(temp_t)))\n",
    "    for k in t_for_test:\n",
    "        test_te_uid.append(i)\n",
    "        test_te_sid.append(k)\n",
    "    \n",
    "    t_for_train = [item for item in temp_t if not item in t_for_test]\n",
    "    for k in t_for_train:\n",
    "        if i in train_idx:\n",
    "            train_uid.append(i)\n",
    "            train_sid.append(k)\n",
    "        elif i in vad_idx:\n",
    "            vad_uid.append(i)\n",
    "            vad_sid.append(k)\n",
    "        else:\n",
    "            print('Error!!!')"
   ]
  },
  {
   "cell_type": "code",
   "execution_count": null,
   "metadata": {},
   "outputs": [],
   "source": [
    "print('The length of test_te:',len(test_te_uid), len(test_te_sid))\n",
    "print('The length of train:',len(train_uid), len(train_sid))\n",
    "print('The length of vad:',len(vad_uid), len(vad_sid))"
   ]
  },
  {
   "cell_type": "markdown",
   "metadata": {},
   "source": [
    "# Build 1 on 1 dataframe"
   ]
  },
  {
   "cell_type": "code",
   "execution_count": null,
   "metadata": {
    "scrolled": true
   },
   "outputs": [],
   "source": [
    "train = pd.DataFrame(data={'uid': train_uid, 'sid': train_sid}, columns=['uid', 'sid'])\n",
    "train"
   ]
  },
  {
   "cell_type": "code",
   "execution_count": null,
   "metadata": {},
   "outputs": [],
   "source": [
    "vad = pd.DataFrame(data={'uid': vad_uid, 'sid': vad_sid}, columns=['uid', 'sid'])\n",
    "vad"
   ]
  },
  {
   "cell_type": "code",
   "execution_count": null,
   "metadata": {},
   "outputs": [],
   "source": [
    "test_plays_tr = train.sample(frac=0.2, random_state=42)\n",
    "test_plays_tr"
   ]
  },
  {
   "cell_type": "code",
   "execution_count": null,
   "metadata": {},
   "outputs": [],
   "source": [
    "train = train.drop(test_plays_tr.index)\n",
    "train"
   ]
  },
  {
   "cell_type": "code",
   "execution_count": null,
   "metadata": {},
   "outputs": [],
   "source": [
    "test = pd.DataFrame(data={'uid': test_te_uid, 'sid': test_te_sid}, columns=['uid', 'sid'])\n",
    "test_plays_te = test\n",
    "test_plays_te"
   ]
  },
  {
   "cell_type": "code",
   "execution_count": null,
   "metadata": {
    "scrolled": true
   },
   "outputs": [],
   "source": [
    "unique_uid = np.concatenate((pd.unique(train['uid']), pd.unique(vad['uid'])), axis=0)\n",
    "print(unique_uid.shape)\n",
    "unique_uid"
   ]
  },
  {
   "cell_type": "code",
   "execution_count": null,
   "metadata": {},
   "outputs": [],
   "source": [
    "# unique_sid = unique_sid\n",
    "with open(os.path.join(pro_dir, 'unique_sid.txt'), 'w') as f:\n",
    "    for sid in unique_sid:\n",
    "        f.write('%s\\n' % sid)\n",
    "print(unique_sid.shape)\n",
    "unique_sid"
   ]
  },
  {
   "cell_type": "code",
   "execution_count": null,
   "metadata": {},
   "outputs": [],
   "source": [
    "show2id = dict((sid, i) for (i, sid) in enumerate(unique_sid))\n",
    "profile2id = dict((pid, i) for (i, pid) in enumerate(unique_uid))"
   ]
  },
  {
   "cell_type": "code",
   "execution_count": null,
   "metadata": {},
   "outputs": [],
   "source": [
    "print(len(unique_sid), len(unique_uid))\n",
    "print(len(show2id), len(profile2id))"
   ]
  },
  {
   "cell_type": "code",
   "execution_count": null,
   "metadata": {},
   "outputs": [],
   "source": [
    "def split_train_test_proportion(data, test_prop=0.2, lower_bound=5):\n",
    "    data_grouped_by_user = data.groupby('uid')\n",
    "    tr_list, te_list = list(), list()\n",
    "\n",
    "    np.random.seed(98765)\n",
    "\n",
    "    for i, (_, group) in enumerate(data_grouped_by_user):\n",
    "        n_items_u = len(group)\n",
    "        \n",
    "        if n_items_u >= lower_bound:\n",
    "            idx = np.zeros(n_items_u, dtype='bool')\n",
    "            idx[np.random.choice(n_items_u, size=int(test_prop * n_items_u), replace=False).astype('int64')] = True\n",
    "\n",
    "            tr_list.append(group[np.logical_not(idx)])\n",
    "            te_list.append(group[idx])\n",
    "        else:\n",
    "            tr_list.append(group)\n",
    "\n",
    "        if i % 100 == 0:\n",
    "            print(\"%d users sampled\" % i)\n",
    "            sys.stdout.flush()\n",
    "    \n",
    "    data_tr = pd.concat(tr_list)\n",
    "    data_te = pd.concat(te_list)\n",
    "\n",
    "    return data_tr, data_te"
   ]
  },
  {
   "cell_type": "code",
   "execution_count": null,
   "metadata": {
    "scrolled": true
   },
   "outputs": [],
   "source": [
    "vad_plays_tr, vad_plays_te = split_train_test_proportion(vad, test_prop=0.5, lower_bound=2)\n",
    "print(vad_plays_tr.shape, vad_plays_te.shape)"
   ]
  },
  {
   "cell_type": "code",
   "execution_count": null,
   "metadata": {},
   "outputs": [],
   "source": [
    "# test_plays_tr, test_plays_te = split_train_test_proportion(test)\n",
    "# print(test_plays_tr.shape, test_plays_te.shape)"
   ]
  },
  {
   "cell_type": "code",
   "execution_count": null,
   "metadata": {},
   "outputs": [],
   "source": [
    "def numerize(tp):\n",
    "    uid = list(map(lambda x: profile2id[x], tp['uid']))\n",
    "    sid = list(map(lambda x: show2id[x], tp['sid']))\n",
    "    return pd.DataFrame(data={'uid': uid, 'sid': sid}, columns=['uid', 'sid'])"
   ]
  },
  {
   "cell_type": "code",
   "execution_count": null,
   "metadata": {},
   "outputs": [],
   "source": [
    "train_data = numerize(train)\n",
    "train_data.to_csv(os.path.join(pro_dir, 'train.csv'), index=False)\n",
    "vad_data_tr = numerize(vad_plays_tr)\n",
    "vad_data_tr.to_csv(os.path.join(pro_dir, 'validation_tr.csv'), index=False)\n",
    "vad_data_te = numerize(vad_plays_te)\n",
    "vad_data_te.to_csv(os.path.join(pro_dir, 'validation_te.csv'), index=False)\n",
    "test_data_tr = numerize(test_plays_tr)\n",
    "test_data_tr.to_csv(os.path.join(pro_dir, 'test_tr.csv'), index=False)\n",
    "test_data_te = numerize(test_plays_te)\n",
    "test_data_te.to_csv(os.path.join(pro_dir, 'test_te.csv'), index=False)"
   ]
  },
  {
   "cell_type": "markdown",
   "metadata": {},
   "source": [
    "# For DMF\n",
    "## Chilli for all data"
   ]
  },
  {
   "cell_type": "code",
   "execution_count": 15,
   "metadata": {},
   "outputs": [
    {
     "name": "stdout",
     "output_type": "stream",
     "text": [
      "(100, 165)\n",
      "100 100\n",
      "165 32\n"
     ]
    }
   ],
   "source": [
    "usr_following = usr_following[test_idx, :]\n",
    "print(usr_following.shape)\n",
    "print(usr_nb, usr_test_amount)\n",
    "print(movie_nb, movie_test_amount)"
   ]
  },
  {
   "cell_type": "code",
   "execution_count": 16,
   "metadata": {},
   "outputs": [],
   "source": [
    "user = []\n",
    "movie = []\n",
    "score = []\n",
    "time = []\n",
    "# less_idx = list(less_idx)\n",
    "\n",
    "for i in range(usr_nb):\n",
    "    for j in range(movie_nb):\n",
    "        if usr_following[i][j] == 1:\n",
    "            # build df\n",
    "            user.append(i+1)\n",
    "            movie.append(j+1)\n",
    "            score.append(1)"
   ]
  },
  {
   "cell_type": "code",
   "execution_count": 17,
   "metadata": {},
   "outputs": [
    {
     "data": {
      "text/html": [
       "<div>\n",
       "<style scoped>\n",
       "    .dataframe tbody tr th:only-of-type {\n",
       "        vertical-align: middle;\n",
       "    }\n",
       "\n",
       "    .dataframe tbody tr th {\n",
       "        vertical-align: top;\n",
       "    }\n",
       "\n",
       "    .dataframe thead th {\n",
       "        text-align: right;\n",
       "    }\n",
       "</style>\n",
       "<table border=\"1\" class=\"dataframe\">\n",
       "  <thead>\n",
       "    <tr style=\"text-align: right;\">\n",
       "      <th></th>\n",
       "      <th>user</th>\n",
       "      <th>items</th>\n",
       "      <th>ratings</th>\n",
       "    </tr>\n",
       "  </thead>\n",
       "  <tbody>\n",
       "    <tr>\n",
       "      <th>0</th>\n",
       "      <td>1</td>\n",
       "      <td>2</td>\n",
       "      <td>1</td>\n",
       "    </tr>\n",
       "    <tr>\n",
       "      <th>1</th>\n",
       "      <td>1</td>\n",
       "      <td>13</td>\n",
       "      <td>1</td>\n",
       "    </tr>\n",
       "    <tr>\n",
       "      <th>2</th>\n",
       "      <td>1</td>\n",
       "      <td>14</td>\n",
       "      <td>1</td>\n",
       "    </tr>\n",
       "    <tr>\n",
       "      <th>3</th>\n",
       "      <td>1</td>\n",
       "      <td>22</td>\n",
       "      <td>1</td>\n",
       "    </tr>\n",
       "    <tr>\n",
       "      <th>4</th>\n",
       "      <td>1</td>\n",
       "      <td>23</td>\n",
       "      <td>1</td>\n",
       "    </tr>\n",
       "    <tr>\n",
       "      <th>...</th>\n",
       "      <td>...</td>\n",
       "      <td>...</td>\n",
       "      <td>...</td>\n",
       "    </tr>\n",
       "    <tr>\n",
       "      <th>1467</th>\n",
       "      <td>100</td>\n",
       "      <td>105</td>\n",
       "      <td>1</td>\n",
       "    </tr>\n",
       "    <tr>\n",
       "      <th>1468</th>\n",
       "      <td>100</td>\n",
       "      <td>122</td>\n",
       "      <td>1</td>\n",
       "    </tr>\n",
       "    <tr>\n",
       "      <th>1469</th>\n",
       "      <td>100</td>\n",
       "      <td>129</td>\n",
       "      <td>1</td>\n",
       "    </tr>\n",
       "    <tr>\n",
       "      <th>1470</th>\n",
       "      <td>100</td>\n",
       "      <td>155</td>\n",
       "      <td>1</td>\n",
       "    </tr>\n",
       "    <tr>\n",
       "      <th>1471</th>\n",
       "      <td>100</td>\n",
       "      <td>165</td>\n",
       "      <td>1</td>\n",
       "    </tr>\n",
       "  </tbody>\n",
       "</table>\n",
       "<p>1472 rows × 3 columns</p>\n",
       "</div>"
      ],
      "text/plain": [
       "      user  items  ratings\n",
       "0        1      2        1\n",
       "1        1     13        1\n",
       "2        1     14        1\n",
       "3        1     22        1\n",
       "4        1     23        1\n",
       "...    ...    ...      ...\n",
       "1467   100    105        1\n",
       "1468   100    122        1\n",
       "1469   100    129        1\n",
       "1470   100    155        1\n",
       "1471   100    165        1\n",
       "\n",
       "[1472 rows x 3 columns]"
      ]
     },
     "execution_count": 17,
     "metadata": {},
     "output_type": "execute_result"
    }
   ],
   "source": [
    "df = pd.DataFrame(data={'user': user, 'items': movie, 'ratings': score})\n",
    "#                   columns=['user', 'movie', 'score', 'time'])\n",
    "df"
   ]
  },
  {
   "cell_type": "code",
   "execution_count": 18,
   "metadata": {},
   "outputs": [
    {
     "name": "stdout",
     "output_type": "stream",
     "text": [
      "(100,) (159,)\n"
     ]
    }
   ],
   "source": [
    "print(pd.unique(df['user']).shape, pd.unique(df['items']).shape)"
   ]
  },
  {
   "cell_type": "code",
   "execution_count": 19,
   "metadata": {},
   "outputs": [],
   "source": [
    "df.to_csv(os.path.join(dmf_dir, 'myratings.dat'), header=None, index=None)"
   ]
  },
  {
   "cell_type": "markdown",
   "metadata": {},
   "source": [
    "# Original split\n",
    "* train: <class 'list'> 21864 [(0, 2, 1.0), (0, 31, 1.0), (0, 36, 1.0), (0, 38, 1.0), (0, 55, 1.0), (0, 63, 1.0), (0, 96, 1.0), (0, 111, 1.0), (0, 120, 1.0), (1, 3, 1.0)]\n",
    "* test: <class 'list'> 1582 [(0, 136, 1.0), (1, 163, 1.0), (2, 153, 1.0), (3, 161, 1.0), (4, 141, 1.0), (5, 161, 1.0), (6, 164, 1.0), (7, 164, 1.0), (8, 161, 1.0), (9, 156, 1.0)]"
   ]
  },
  {
   "cell_type": "code",
   "execution_count": 27,
   "metadata": {},
   "outputs": [
    {
     "name": "stdout",
     "output_type": "stream",
     "text": [
      "[1, 12, 13, 21, 22, 37, 50, 64, 66, 87, 93, 99, 141, 147, 158, 0, 11, 30, 40, 42, 49, 57, 101, 102, 106, 123, 126, 128, 138, 144, 19, 23, 45, 59, 69, 72, 81, 88, 111, 120, 133, 137, 146, 8, 25, 39, 70, 80, 95, 98, 156, 53, 55, 76, 103, 105, 124, 125, 154, 161, 28, 97, 112, 140, 34, 44, 58, 129, 150, 79, 90, 132, 152, 163, 4, 9, 31, 60, 62, 148, 10, 77, 96, 131, 149, 68, 122, 134, 164, 20, 24, 116, 119, 41, 52, 78, 92, 127, 2, 14, 91, 135, 29, 67, 86, 145, 84, 75, 159, 63, 136, 89, 3, 26, 139, 32, 33, 35, 71, 153, 108, 118, 142, 47, 117, 36, 114, 46, 61, 82, 104, 107, 83, 100, 18, 143, 74, 5, 17, 109, 155, 48, 85, 157, 15, 43, 151, 121, 51, 94, 16, 6, 38, 73, 110, 130, 115, 54, 56]\n",
      "159\n"
     ]
    }
   ],
   "source": [
    "less_idx = [i-1 for i in pd.unique(df['items'])]\n",
    "print(less_idx)\n",
    "movie_nb = len(less_idx)\n",
    "print(movie_nb)"
   ]
  },
  {
   "cell_type": "code",
   "execution_count": 25,
   "metadata": {},
   "outputs": [
    {
     "name": "stdout",
     "output_type": "stream",
     "text": [
      "(100, 165)\n",
      "(100, 159)\n"
     ]
    }
   ],
   "source": [
    "print(usr_following.shape)\n",
    "usr_following = usr_following[:, less_idx]\n",
    "print(usr_following.shape)"
   ]
  },
  {
   "cell_type": "code",
   "execution_count": 28,
   "metadata": {},
   "outputs": [],
   "source": [
    "# init\n",
    "random.seed(42)\n",
    "train_t = []\n",
    "train_f = []\n",
    "test_t = []\n",
    "test_f = []\n",
    "\n",
    "for i in range(usr_nb):\n",
    "    # init\n",
    "    t_for_train = []\n",
    "    f_for_train = []\n",
    "    t_for_test = []\n",
    "    f_for_test = []\n",
    "    \n",
    "    temp_t = []\n",
    "    temp_f = []\n",
    "    for j in range(movie_nb):\n",
    "        if usr_following[i][j] == 1:\n",
    "            temp_t.append((i, j, 1))\n",
    "        else:\n",
    "            temp_f.append((i, j, 0))\n",
    "            \n",
    "    t_for_test = random.sample(temp_t, math.ceil(0.5*len(temp_t)))\n",
    "    f_for_test = random.sample(temp_f, movie_test_amount-len(t_for_test))\n",
    "    \n",
    "    test_t.extend(t_for_test)\n",
    "    test_f.extend(f_for_test)\n",
    "    \n",
    "    t_for_train = [item for item in temp_t if not item in t_for_test]\n",
    "    f_for_train = [item for item in temp_f if not item in f_for_test]\n",
    "    train_t.extend(t_for_train)\n",
    "    train_f.extend(f_for_train)\n",
    "    \n",
    "    if not (len(t_for_train) + len(f_for_train) + len(t_for_test) + len(f_for_test)) == len(less_idx):\n",
    "        print('Error!!!')\n",
    "        break"
   ]
  },
  {
   "cell_type": "code",
   "execution_count": 29,
   "metadata": {},
   "outputs": [
    {
     "name": "stdout",
     "output_type": "stream",
     "text": [
      "The length of train_t: 700\n",
      "The length of train_f: 12000\n",
      "The length of test_t: 772\n",
      "The length of test_f: 2428\n"
     ]
    }
   ],
   "source": [
    "print('The length of train_t:',len(train_t))\n",
    "print('The length of train_f:',len(train_f))\n",
    "print('The length of test_t:',len(test_t))\n",
    "print('The length of test_f:',len(test_f))"
   ]
  },
  {
   "cell_type": "code",
   "execution_count": 30,
   "metadata": {},
   "outputs": [],
   "source": [
    "write_json(train_t, os.path.join(dmf_dir, 'train_t.json'))\n",
    "write_json(train_f, os.path.join(dmf_dir, 'train_f.json'))\n",
    "write_json(test_t, os.path.join(dmf_dir, 'test_t.json'))\n",
    "write_json(test_f, os.path.join(dmf_dir, 'test_f.json'))"
   ]
  },
  {
   "cell_type": "code",
   "execution_count": null,
   "metadata": {},
   "outputs": [],
   "source": []
  }
 ],
 "metadata": {
  "kernelspec": {
   "display_name": "Python 3",
   "language": "python",
   "name": "python3"
  },
  "language_info": {
   "codemirror_mode": {
    "name": "ipython",
    "version": 3
   },
   "file_extension": ".py",
   "mimetype": "text/x-python",
   "name": "python",
   "nbconvert_exporter": "python",
   "pygments_lexer": "ipython3",
   "version": "3.6.9"
  }
 },
 "nbformat": 4,
 "nbformat_minor": 4
}
